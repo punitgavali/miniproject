{
 "cells": [
  {
   "cell_type": "code",
   "execution_count": 1,
   "id": "f11f5bf0",
   "metadata": {},
   "outputs": [],
   "source": [
    "import pandas as pd "
   ]
  },
  {
   "cell_type": "code",
   "execution_count": 107,
   "id": "f81cda2e",
   "metadata": {},
   "outputs": [],
   "source": [
    "legiurl = pd.read_csv('legiurl.csv')\n",
    "phishurl = pd.read_csv('phishurl.csv')"
   ]
  },
  {
   "cell_type": "code",
   "execution_count": 3,
   "id": "75f52253",
   "metadata": {
    "scrolled": true
   },
   "outputs": [
    {
     "data": {
      "text/html": [
       "<div>\n",
       "<style scoped>\n",
       "    .dataframe tbody tr th:only-of-type {\n",
       "        vertical-align: middle;\n",
       "    }\n",
       "\n",
       "    .dataframe tbody tr th {\n",
       "        vertical-align: top;\n",
       "    }\n",
       "\n",
       "    .dataframe thead th {\n",
       "        text-align: right;\n",
       "    }\n",
       "</style>\n",
       "<table border=\"1\" class=\"dataframe\">\n",
       "  <thead>\n",
       "    <tr style=\"text-align: right;\">\n",
       "      <th></th>\n",
       "      <th>url</th>\n",
       "    </tr>\n",
       "  </thead>\n",
       "  <tbody>\n",
       "    <tr>\n",
       "      <th>0</th>\n",
       "      <td>www.artima.com/intv/guido.html</td>\n",
       "    </tr>\n",
       "    <tr>\n",
       "      <th>1</th>\n",
       "      <td>canada.com/calgaryherald/news/calgarybusiness/...</td>\n",
       "    </tr>\n",
       "    <tr>\n",
       "      <th>2</th>\n",
       "      <td>shastacosportshof.org/northstate.htm</td>\n",
       "    </tr>\n",
       "    <tr>\n",
       "      <th>3</th>\n",
       "      <td>acapella.harmony-central.com/showthread.php?27...</td>\n",
       "    </tr>\n",
       "    <tr>\n",
       "      <th>4</th>\n",
       "      <td>models.com/models/Adriana-Lima/news</td>\n",
       "    </tr>\n",
       "    <tr>\n",
       "      <th>...</th>\n",
       "      <td>...</td>\n",
       "    </tr>\n",
       "    <tr>\n",
       "      <th>4995</th>\n",
       "      <td>oldorthodoxy.wetpaint.com/</td>\n",
       "    </tr>\n",
       "    <tr>\n",
       "      <th>4996</th>\n",
       "      <td>nydailynews.com/topics/IMAX%20Corporation</td>\n",
       "    </tr>\n",
       "    <tr>\n",
       "      <th>4997</th>\n",
       "      <td>en.wikipedia.org/wiki/Can%27t_Nobody_Hold_Me_Down</td>\n",
       "    </tr>\n",
       "    <tr>\n",
       "      <th>4998</th>\n",
       "      <td>klfy.com/</td>\n",
       "    </tr>\n",
       "    <tr>\n",
       "      <th>4999</th>\n",
       "      <td>www.kurrus.net/smileys.html</td>\n",
       "    </tr>\n",
       "  </tbody>\n",
       "</table>\n",
       "<p>5000 rows × 1 columns</p>\n",
       "</div>"
      ],
      "text/plain": [
       "                                                    url\n",
       "0                        www.artima.com/intv/guido.html\n",
       "1     canada.com/calgaryherald/news/calgarybusiness/...\n",
       "2                  shastacosportshof.org/northstate.htm\n",
       "3     acapella.harmony-central.com/showthread.php?27...\n",
       "4                   models.com/models/Adriana-Lima/news\n",
       "...                                                 ...\n",
       "4995                         oldorthodoxy.wetpaint.com/\n",
       "4996          nydailynews.com/topics/IMAX%20Corporation\n",
       "4997  en.wikipedia.org/wiki/Can%27t_Nobody_Hold_Me_Down\n",
       "4998                                          klfy.com/\n",
       "4999                        www.kurrus.net/smileys.html\n",
       "\n",
       "[5000 rows x 1 columns]"
      ]
     },
     "execution_count": 3,
     "metadata": {},
     "output_type": "execute_result"
    }
   ],
   "source": [
    "legiurl"
   ]
  },
  {
   "cell_type": "code",
   "execution_count": 117,
   "id": "58d09886",
   "metadata": {},
   "outputs": [
    {
     "data": {
      "text/html": [
       "<div>\n",
       "<style scoped>\n",
       "    .dataframe tbody tr th:only-of-type {\n",
       "        vertical-align: middle;\n",
       "    }\n",
       "\n",
       "    .dataframe tbody tr th {\n",
       "        vertical-align: top;\n",
       "    }\n",
       "\n",
       "    .dataframe thead th {\n",
       "        text-align: right;\n",
       "    }\n",
       "</style>\n",
       "<table border=\"1\" class=\"dataframe\">\n",
       "  <thead>\n",
       "    <tr style=\"text-align: right;\">\n",
       "      <th></th>\n",
       "      <th>url</th>\n",
       "    </tr>\n",
       "  </thead>\n",
       "  <tbody>\n",
       "    <tr>\n",
       "      <th>0</th>\n",
       "      <td>158.255.226.168/js/</td>\n",
       "    </tr>\n",
       "    <tr>\n",
       "      <th>1</th>\n",
       "      <td>www.swifthawkstudios.com/~be/paypal/_webscr1.p...</td>\n",
       "    </tr>\n",
       "    <tr>\n",
       "      <th>2</th>\n",
       "      <td>herubaba.wapka.me/index.xhtml</td>\n",
       "    </tr>\n",
       "    <tr>\n",
       "      <th>3</th>\n",
       "      <td>elserviciodelvino.mx/tiendaserviciodelvino/che...</td>\n",
       "    </tr>\n",
       "    <tr>\n",
       "      <th>4</th>\n",
       "      <td>dwostasms.com/seta.apk</td>\n",
       "    </tr>\n",
       "    <tr>\n",
       "      <th>...</th>\n",
       "      <td>...</td>\n",
       "    </tr>\n",
       "    <tr>\n",
       "      <th>4995</th>\n",
       "      <td>sykonsult.com/bulletin.php</td>\n",
       "    </tr>\n",
       "    <tr>\n",
       "      <th>4996</th>\n",
       "      <td>91.239.25.67:6892</td>\n",
       "    </tr>\n",
       "    <tr>\n",
       "      <th>4997</th>\n",
       "      <td>senawhlqiyl.biz/apache_handler.php</td>\n",
       "    </tr>\n",
       "    <tr>\n",
       "      <th>4998</th>\n",
       "      <td>reaga.cz/olnojnfo</td>\n",
       "    </tr>\n",
       "    <tr>\n",
       "      <th>4999</th>\n",
       "      <td>piccoloristorante.com.br/care/ourtime.html</td>\n",
       "    </tr>\n",
       "  </tbody>\n",
       "</table>\n",
       "<p>5000 rows × 1 columns</p>\n",
       "</div>"
      ],
      "text/plain": [
       "                                                    url\n",
       "0                                   158.255.226.168/js/\n",
       "1     www.swifthawkstudios.com/~be/paypal/_webscr1.p...\n",
       "2                         herubaba.wapka.me/index.xhtml\n",
       "3     elserviciodelvino.mx/tiendaserviciodelvino/che...\n",
       "4                                dwostasms.com/seta.apk\n",
       "...                                                 ...\n",
       "4995                         sykonsult.com/bulletin.php\n",
       "4996                                  91.239.25.67:6892\n",
       "4997                 senawhlqiyl.biz/apache_handler.php\n",
       "4998                                  reaga.cz/olnojnfo\n",
       "4999         piccoloristorante.com.br/care/ourtime.html\n",
       "\n",
       "[5000 rows x 1 columns]"
      ]
     },
     "execution_count": 117,
     "metadata": {},
     "output_type": "execute_result"
    }
   ],
   "source": [
    "phishurl"
   ]
  },
  {
   "cell_type": "markdown",
   "id": "4070f768",
   "metadata": {},
   "source": [
    "## Feature Extraction:\n",
    "In this step, features are extracted from the URLs dataset."
   ]
  },
  {
   "cell_type": "markdown",
   "id": "376b23b4",
   "metadata": {},
   "source": [
    "## 1. Number of Dots\n",
    "The number of dots in the URL. Phishing URLs may have an excessive number of dots in an attempt to mimic legitimate domains."
   ]
  },
  {
   "cell_type": "code",
   "execution_count": 4,
   "id": "b1d23ebb",
   "metadata": {},
   "outputs": [],
   "source": [
    "from urllib.parse import urlparse\n",
    "\n",
    "def num_dots(url):\n",
    "    return url.count('.')"
   ]
  },
  {
   "cell_type": "markdown",
   "id": "8fd224fb",
   "metadata": {},
   "source": [
    "## 2. Subdomain Level\n",
    "The number of subdomains in the URL. Phishing URLs often use subdomains to create a false sense of legitimacy."
   ]
  },
  {
   "cell_type": "code",
   "execution_count": 5,
   "id": "26645b11",
   "metadata": {},
   "outputs": [],
   "source": [
    "def subdomain_level(url):\n",
    "    parsed_url = urlparse(url)\n",
    "    if parsed_url.hostname:\n",
    "        subdomains = parsed_url.hostname.split('.')\n",
    "        return len(subdomains)\n",
    "    else:\n",
    "        subdomains = parsed_url.path.split('.')\n",
    "        return len(subdomains)"
   ]
  },
  {
   "cell_type": "markdown",
   "id": "448c8e73",
   "metadata": {},
   "source": [
    "## 3. Path Level\n",
    "The depth of the URL path. Phishing URLs may have longer paths to hide malicious content."
   ]
  },
  {
   "cell_type": "code",
   "execution_count": 6,
   "id": "e35ccfed",
   "metadata": {},
   "outputs": [],
   "source": [
    "def path_level(url):\n",
    "    path = urlparse(url).path\n",
    "    return path.count('/') + 1  # Add 1 to account for the root path"
   ]
  },
  {
   "cell_type": "markdown",
   "id": "e8c6193b",
   "metadata": {},
   "source": [
    "## 4. URL length¶\n",
    "The overall length of the URL. Phishing URLs may be longer to obfuscate their true nature."
   ]
  },
  {
   "cell_type": "code",
   "execution_count": 7,
   "id": "e0962fde",
   "metadata": {},
   "outputs": [],
   "source": [
    "def url_length(url):\n",
    "    return len(url)"
   ]
  },
  {
   "cell_type": "markdown",
   "id": "74eeec37",
   "metadata": {},
   "source": [
    "## 5. Number of Dash\n",
    "The number of dashes in the URL. Phishing URLs may use dashes to imitate legitimate URLs or create confusion."
   ]
  },
  {
   "cell_type": "code",
   "execution_count": 8,
   "id": "88e67e05",
   "metadata": {},
   "outputs": [],
   "source": [
    "def num_dash(url):\n",
    "    return url.count('-')"
   ]
  },
  {
   "cell_type": "markdown",
   "id": "87cb8fd3",
   "metadata": {},
   "source": [
    "## 6. Number of Dash in HostName\n",
    "The number of dashes in the hostname. Phishing URLs may use dashes to mimic legitimate domain names."
   ]
  },
  {
   "cell_type": "code",
   "execution_count": 9,
   "id": "77967173",
   "metadata": {},
   "outputs": [],
   "source": [
    "def num_dash_in_hostname(url):\n",
    "    parsed_url = urlparse(url)\n",
    "    return parsed_url.netloc.count('-') + parsed_url.path.count('-')"
   ]
  },
  {
   "cell_type": "markdown",
   "id": "e8c190ff",
   "metadata": {},
   "source": [
    "## 7. @ symbol\n",
    "Presence of the '@' symbol in the URL. Phishing URLs might use this to disguise their true nature or imitate login pages."
   ]
  },
  {
   "cell_type": "code",
   "execution_count": 11,
   "id": "8eeda958",
   "metadata": {},
   "outputs": [],
   "source": [
    "def at_symbol(url):\n",
    "    parsed_url = urlparse(url)\n",
    "    return url.count('@')\n",
    "    \n",
    "# url = \"https://exam@ple23@4523@.com/@\"\n",
    "# at_symbol(url)"
   ]
  },
  {
   "cell_type": "markdown",
   "id": "170f545c",
   "metadata": {},
   "source": [
    "## 8. ~ symbol\n",
    "Presence of the '~' symbol in the URL. Phishing URLs may use uncommon symbols to evade detection or mimic legitimate URLs."
   ]
  },
  {
   "cell_type": "code",
   "execution_count": 15,
   "id": "c9641657",
   "metadata": {},
   "outputs": [],
   "source": [
    "def tilde_symbol(url):\n",
    "    parsed_url = urlparse(url)\n",
    "    return url.count('~')\n",
    "\n",
    "# url = \"e~xample234~523.com/alkjflkj~\"\n",
    "# tilde_symbol(url)"
   ]
  },
  {
   "cell_type": "markdown",
   "id": "4bb15697",
   "metadata": {},
   "source": [
    "## 9. Number of underscore _\n",
    "The number of underscores in the URL. Phishing URLs may use underscores to simulate legitimate URLs."
   ]
  },
  {
   "cell_type": "code",
   "execution_count": 16,
   "id": "de41ba90",
   "metadata": {},
   "outputs": [],
   "source": [
    "def num_underscore(url):\n",
    "    parsed_url = urlparse(url)\n",
    "    return parsed_url.netloc.count('_') + parsed_url.path.count('_') + parsed_url.query.count('_') + parsed_url.fragment.count('_') \n",
    "    \n",
    "\n",
    "# url = \"example_23_45_23_.com\"\n",
    "# num_underscore(url)"
   ]
  },
  {
   "cell_type": "markdown",
   "id": "a5982eda",
   "metadata": {},
   "source": [
    "## 10. Number of %\n",
    "The number of percent symbols in the URL. Phishing URLs may use percent encoding to hide malicious content."
   ]
  },
  {
   "cell_type": "code",
   "execution_count": 17,
   "id": "b4167761",
   "metadata": {},
   "outputs": [],
   "source": [
    "def num_percent(url):\n",
    "    parsed_url = urlparse(url)\n",
    "    return parsed_url.netloc.count('%') + parsed_url.path.count('%') + parsed_url.query.count('%') + parsed_url.fragment.count('%') \n",
    "\n",
    "# url = \"example%23%45%23.com\"\n",
    "# num_percent(url)"
   ]
  },
  {
   "cell_type": "markdown",
   "id": "49745a59",
   "metadata": {},
   "source": [
    "## 11. Number of Query Components\n",
    "The number of components in the query string. Phishing URLs might use complex query strings to obfuscate their purpose."
   ]
  },
  {
   "cell_type": "code",
   "execution_count": 18,
   "id": "4f193b8d",
   "metadata": {},
   "outputs": [],
   "source": [
    "from urllib.parse import urlparse, parse_qs\n",
    "import re\n",
    "import ipaddress\n",
    "\n",
    "def num_query_components(url):\n",
    "    parsed_url = urlparse(url)\n",
    "    return len(parse_qs(parsed_url.query))"
   ]
  },
  {
   "cell_type": "markdown",
   "id": "c081ab29",
   "metadata": {},
   "source": [
    "## 12. Number of '&' symbol\n",
    "The number of ampersands in the URL. Phishing URLs may use multiple ampersands in the query string to confuse users."
   ]
  },
  {
   "cell_type": "code",
   "execution_count": 20,
   "id": "5baa5d2d",
   "metadata": {},
   "outputs": [],
   "source": [
    "def num_ampersand(url):\n",
    "    return url.count('&')"
   ]
  },
  {
   "cell_type": "markdown",
   "id": "193ac7b1",
   "metadata": {},
   "source": [
    "## 13. Number of '#' symbols\n",
    "The number of hash symbols in the URL. Phishing URLs might use hash symbols to hide parameters or fragments."
   ]
  },
  {
   "cell_type": "code",
   "execution_count": 21,
   "id": "37a091fa",
   "metadata": {},
   "outputs": [],
   "source": [
    "def num_hash(url):\n",
    "    return url.count('#')"
   ]
  },
  {
   "cell_type": "markdown",
   "id": "c3204187",
   "metadata": {},
   "source": [
    "## 14. Number of Numeric Characters\n",
    "The number of numeric characters in the URL. Phishing URLs may include random numbers to evade detection."
   ]
  },
  {
   "cell_type": "code",
   "execution_count": 22,
   "id": "ef8b0fe8",
   "metadata": {},
   "outputs": [],
   "source": [
    "def num_numeric_chars(url):\n",
    "    return sum(c.isdigit() for c in url)"
   ]
  },
  {
   "cell_type": "markdown",
   "id": "9a837e51",
   "metadata": {},
   "source": [
    "## 15. No HTTPS\n",
    "Indicates if the URL doesn't use HTTPS. Phishing URLs may lack secure connections to impersonate legitimate sites."
   ]
  },
  {
   "cell_type": "code",
   "execution_count": 23,
   "id": "732d15e7",
   "metadata": {},
   "outputs": [],
   "source": [
    "def no_https(url):\n",
    "    parsed_url = urlparse(url)\n",
    "    if (parsed_url.scheme==\"https\" or parsed_url.scheme==\"\"):\n",
    "        return 0\n",
    "    else:\n",
    "        return 1\n",
    "\n",
    "# url = \"google.com\"\n",
    "# no_https(url)"
   ]
  },
  {
   "cell_type": "markdown",
   "id": "95f956a1",
   "metadata": {},
   "source": [
    "## 16. Random String\n",
    "Presence of a random-looking string in the URL. Phishing URLs might use random strings to disguise their identity."
   ]
  },
  {
   "cell_type": "code",
   "execution_count": 24,
   "id": "9b51b2b0",
   "metadata": {},
   "outputs": [],
   "source": [
    "import re\n",
    "\n",
    "def random_string(url):\n",
    "    # Check if the URL contains a random-looking string\n",
    "    return 1 if bool(re.search(r'[0-9a-f]{8}[-]?([0-9a-f]{4}[-]?){3}[0-9a-f]{12}', url, re.I)) else 0\n",
    "\n",
    "# url = \"googel.com\"\n",
    "# result = random_string(url)\n",
    "# print(result)"
   ]
  },
  {
   "cell_type": "markdown",
   "id": "a45d7112",
   "metadata": {},
   "source": [
    "## 17. IP address\n",
    "Presence of an IP address in the URL. Phishing URLs may use IP addresses to bypass domain-based blacklists."
   ]
  },
  {
   "cell_type": "code",
   "execution_count": 26,
   "id": "28f409c9",
   "metadata": {},
   "outputs": [],
   "source": [
    "import re\n",
    "\n",
    "def ip_address(url):\n",
    "    \n",
    "    url_domain = re.search(r'(?:https?://)?([^/]+)', url).group(1)\n",
    "\n",
    "    # Define regular expressions\n",
    "    ip_pattern = re.compile(r'\\d{1,3}\\.\\d{1,3}\\.\\d{1,3}\\.\\d{1,3}')\n",
    "    ipv4_pattern = re.compile(r'(25[0-5]|2[0-4][0-9]|1[0-9][0-9]|[0-9]?[0-9])(\\.|$){4}')\n",
    "    hex_ipv4_pattern = re.compile(r'(0x([0-9][0-9]|[A-F][A-F]|[A-F][0-9]|[0-9][A-F]))(\\.|$){4}')\n",
    "\n",
    "    # Check if the URL domain matches any pattern\n",
    "    if ip_pattern.match(url_domain) or ipv4_pattern.match(url_domain) or hex_ipv4_pattern.match(url_domain):\n",
    "        result = 1\n",
    "    else:\n",
    "        result = 0\n",
    "        \n",
    "    return result\n",
    "        \n",
    "        \n",
    "# url = \"https://192.168.1.1\"\n",
    "# ip_address(url)"
   ]
  },
  {
   "cell_type": "markdown",
   "id": "3e0da207",
   "metadata": {},
   "source": [
    "## 18. HTTPS in hostname\n",
    "Presence of 'https' in the hostname. Phishing URLs may include 'https' to deceive users about the security of the site."
   ]
  },
  {
   "cell_type": "code",
   "execution_count": 35,
   "id": "4197eb60",
   "metadata": {},
   "outputs": [],
   "source": [
    "from urllib.parse import urlparse\n",
    "\n",
    "def https_in_hostname(url):\n",
    "    parsed_url = urlparse(url)\n",
    "    return 1 if 'https' in parsed_url.netloc or 'https' in parsed_url.path else 0\n",
    "\n",
    "# url = \"google.com/jahsdfh/https\"\n",
    "# result = https_in_hostname(url)\n",
    "# print(result)"
   ]
  },
  {
   "cell_type": "markdown",
   "id": "685acaa2",
   "metadata": {},
   "source": [
    "## 19. Hostname Length\n",
    "The length of the hostname. Phishing URLs may use longer hostnames to imitate legitimate sites."
   ]
  },
  {
   "cell_type": "code",
   "execution_count": 38,
   "id": "41fea0cb",
   "metadata": {},
   "outputs": [],
   "source": [
    "def hostname_length(url):\n",
    "    parsed_url = urlparse(url)\n",
    "    if parsed_url.hostname:\n",
    "        return len(parsed_url.hostname)\n",
    "    else: \n",
    "        return len(parsed_url.path.split('/')[0])\n",
    "    \n",
    "# url = \"google.com\"\n",
    "# hostname_length(url)"
   ]
  },
  {
   "cell_type": "markdown",
   "id": "217fe0ba",
   "metadata": {},
   "source": [
    "## 20. Path Length\n",
    "The length of the URL path. Phishing URLs may have longer paths to hide malicious content."
   ]
  },
  {
   "cell_type": "code",
   "execution_count": 40,
   "id": "136a4aeb",
   "metadata": {},
   "outputs": [
    {
     "data": {
      "text/plain": [
       "6"
      ]
     },
     "execution_count": 40,
     "metadata": {},
     "output_type": "execute_result"
    }
   ],
   "source": [
    "def path_length(url):\n",
    "    parsed_url = urlparse(url)\n",
    "    if parsed_url.hostname:\n",
    "        return len(parsed_url.path)\n",
    "    else: \n",
    "        return (len(parsed_url.path.split('/', 1)[-1])+1)\n",
    "\n",
    "url = \"https://google.com/hello\"\n",
    "path_length(url)"
   ]
  },
  {
   "cell_type": "markdown",
   "id": "41e7c14a",
   "metadata": {},
   "source": [
    "## 21. Query Length\n",
    "The length of the query string. Phishing URLs may use longer queries to obfuscate their true purpose."
   ]
  },
  {
   "cell_type": "code",
   "execution_count": 42,
   "id": "3ddf38aa",
   "metadata": {},
   "outputs": [],
   "source": [
    "def query_length(url):\n",
    "    return len(urlparse(url).query)\n",
    "\n",
    "# url = \"https://example.com/?query=books\"\n",
    "# query_length(url)"
   ]
  },
  {
   "cell_type": "markdown",
   "id": "553fdbe7",
   "metadata": {},
   "source": [
    "## 22. Double slash in path\n",
    "Presence of consecutive slashes in the URL path. Phishing URLs may use double slashes to mimic legitimate paths."
   ]
  },
  {
   "cell_type": "code",
   "execution_count": 44,
   "id": "58a76402",
   "metadata": {},
   "outputs": [],
   "source": [
    "def double_slash_in_path(url):\n",
    "    return 1 if '//' in urlparse(url).path else 0\n",
    "\n",
    "# url = \"google.com//hello\"\n",
    "# double_slash_in_path(url)"
   ]
  },
  {
   "cell_type": "markdown",
   "id": "b3720829",
   "metadata": {},
   "source": [
    "## 23. Using URL Shortening Services “TinyURL”\n",
    "URL shortening is a method on the “World Wide Web” in which a URL may be made considerably smaller in length and still lead to the required webpage. This is accomplished by means of an “HTTP Redirect” on a domain name that is short, which links to the webpage that has a long URL.\n",
    "\n",
    "If the URL is using Shortening Services, the value assigned to this feature is 1 (phishing) or else 0 (legitimate)."
   ]
  },
  {
   "cell_type": "code",
   "execution_count": 48,
   "id": "48ba9ea6",
   "metadata": {},
   "outputs": [],
   "source": [
    "#listing shortening services\n",
    "shortening_services = r\"bit\\.ly|goo\\.gl|shorte\\.st|go2l\\.ink|x\\.co|ow\\.ly|t\\.co|tinyurl|tr\\.im|is\\.gd|cli\\.gs|\" \\\n",
    "                      r\"yfrog\\.com|migre\\.me|ff\\.im|tiny\\.cc|url4\\.eu|twit\\.ac|su\\.pr|twurl\\.nl|snipurl\\.com|\" \\\n",
    "                      r\"short\\.to|BudURL\\.com|ping\\.fm|post\\.ly|Just\\.as|bkite\\.com|snipr\\.com|fic\\.kr|loopt\\.us|\" \\\n",
    "                      r\"doiop\\.com|short\\.ie|kl\\.am|wp\\.me|rubyurl\\.com|om\\.ly|to\\.ly|bit\\.do|t\\.co|lnkd\\.in|db\\.tt|\" \\\n",
    "                      r\"qr\\.ae|adf\\.ly|goo\\.gl|bitly\\.com|cur\\.lv|tinyurl\\.com|ow\\.ly|bit\\.ly|ity\\.im|q\\.gs|is\\.gd|\" \\\n",
    "                      r\"po\\.st|bc\\.vc|twitthis\\.com|u\\.to|j\\.mp|buzurl\\.com|cutt\\.us|u\\.bb|yourls\\.org|x\\.co|\" \\\n",
    "                      r\"prettylinkpro\\.com|scrnch\\.me|filoops\\.info|vzturl\\.com|qr\\.net|1url\\.com|tweez\\.me|v\\.gd|\" \\\n",
    "                      r\"tr\\.im|link\\.zip\\.net\"\n",
    "\n",
    "def tinyURL(url):\n",
    "    match=re.search(shortening_services,url)\n",
    "    if match:\n",
    "        return 1\n",
    "    else:\n",
    "        return 0"
   ]
  },
  {
   "cell_type": "markdown",
   "id": "70d8650d",
   "metadata": {},
   "source": [
    "## 24. IFrame Redirection\n",
    "\n",
    "IFrame is an HTML tag used to display an additional webpage into one that is currently shown. Phishers can make use of the “iframe” tag and make it invisible i.e. without frame borders. In this regard, phishers make use of the “frameBorder” attribute which causes the browser to render a visual delineation.\n",
    "\n",
    "If the iframe is empty or repsonse is not found then, the value assigned to this feature is 1 (Phishing) or else 0 (Legitimate)."
   ]
  },
  {
   "cell_type": "code",
   "execution_count": 97,
   "id": "5e6712ee",
   "metadata": {},
   "outputs": [],
   "source": [
    "def iframe(response):\n",
    "  if response == \"\":\n",
    "      return 1\n",
    "  else:\n",
    "      if re.findall(r\"[<iframe>|<frameBorder>]\", response.text):\n",
    "          return 0\n",
    "      else:\n",
    "          return 1"
   ]
  },
  {
   "cell_type": "markdown",
   "id": "260cff91",
   "metadata": {},
   "source": [
    "## 25. Status Bar Customization\n",
    "\n",
    "Phishers may use JavaScript to show a fake URL in the status bar to users. To extract this feature, we must dig-out the webpage source code, particularly the “onMouseOver” event, and check if it makes any changes on the status bar\n",
    "\n",
    "If the response is empty or onmouseover is found then, the value assigned to this feature is 1 (phishing) or else 0 (legitimate)."
   ]
  },
  {
   "cell_type": "code",
   "execution_count": 95,
   "id": "3963ac1e",
   "metadata": {},
   "outputs": [],
   "source": [
    "def mouseOver(response): \n",
    "  if response == \"\" :\n",
    "    return 1\n",
    "  else:\n",
    "    if re.findall(\"<script>.+onmouseover.+</script>\", response.text):\n",
    "      return 1\n",
    "    else:\n",
    "      return 0"
   ]
  },
  {
   "cell_type": "markdown",
   "id": "bf138112",
   "metadata": {},
   "source": [
    "# Computing URL Features\n",
    "Create a list and a function that calls the other functions and stores all the features of the URL in the list. We will extract the features of each URL and append to this list."
   ]
  },
  {
   "cell_type": "code",
   "execution_count": 108,
   "id": "11f6c339",
   "metadata": {},
   "outputs": [],
   "source": [
    "#Function to extract features\n",
    "def featureExtraction(url,label):\n",
    "\n",
    "  features = []\n",
    "\n",
    "  \n",
    "  features.append(num_dots(url))\n",
    "  features.append(subdomain_level(url))\n",
    "  features.append(path_level(url))\n",
    "  features.append(url_length(url))\n",
    "  features.append(num_dash(url))\n",
    "  features.append(num_dash_in_hostname(url))\n",
    "  features.append(at_symbol(url))\n",
    "  features.append(tilde_symbol(url))\n",
    "  features.append(num_underscore(url))\n",
    "  features.append(num_percent(url))\n",
    "  features.append(num_query_components(url))\n",
    "  features.append(num_ampersand(url))\n",
    "  features.append(num_hash(url))\n",
    "  features.append(num_numeric_chars(url))\n",
    "  features.append(no_https(url))\n",
    "  features.append(random_string(url))\n",
    "  features.append(ip_address(url))\n",
    "  features.append(https_in_hostname(url))\n",
    "  features.append(hostname_length(url))\n",
    "  features.append(path_length(url))\n",
    "  features.append(query_length(url))\n",
    "  features.append(double_slash_in_path(url))\n",
    "  features.append(tinyURL(url))\n",
    "\n",
    "  try:\n",
    "    response = requests.get(url)\n",
    "  except:\n",
    "    response = \"\"\n",
    "    \n",
    "  features.append(iframe(response))\n",
    "  features.append(mouseOver(response))\n",
    "  features.append(label)\n",
    "  \n",
    "  return features"
   ]
  },
  {
   "cell_type": "markdown",
   "id": "04667fcd",
   "metadata": {},
   "source": [
    "## Legitimate URLs:\n",
    "Now, feature extraction is done on legitimate URLs."
   ]
  },
  {
   "cell_type": "code",
   "execution_count": 109,
   "id": "f3f5baac",
   "metadata": {},
   "outputs": [],
   "source": [
    "#Extracting the feautres & storing them in a list\n",
    "legi_features = []\n",
    "label = 0\n",
    "\n",
    "for i in range(0, 5000):\n",
    "  url = legiurl[\"url\"][i]\n",
    "  legi_features.append(featureExtraction(url,label))"
   ]
  },
  {
   "cell_type": "code",
   "execution_count": 110,
   "id": "3f3ffd42",
   "metadata": {},
   "outputs": [],
   "source": [
    "#converting the list to dataframe\n",
    "feature_names = ['NumDots', 'SubdomainLevel', 'PathLevel', 'UrlLength', 'NumDash', 'NumDashInHostname', 'AtSymbol', 'TildeSymbol', 'NumUnderscore', 'NumPercent', 'NumQueryComponents', 'NumAmpersand', 'NumHash', 'NumNumericChars', 'NoHttps', 'RandomString', 'IpAddress', 'HttpsInHostname', 'HostnameLength', 'PathLength', 'QueryLength', 'DoubleSlashInPath', 'TinyURL', 'iFrame', 'Mouse_Over', 'Label']\n",
    "\n",
    "legitimate = pd.DataFrame(legi_features, columns= feature_names)"
   ]
  },
  {
   "cell_type": "code",
   "execution_count": 111,
   "id": "0a2e26af",
   "metadata": {},
   "outputs": [
    {
     "data": {
      "text/html": [
       "<div>\n",
       "<style scoped>\n",
       "    .dataframe tbody tr th:only-of-type {\n",
       "        vertical-align: middle;\n",
       "    }\n",
       "\n",
       "    .dataframe tbody tr th {\n",
       "        vertical-align: top;\n",
       "    }\n",
       "\n",
       "    .dataframe thead th {\n",
       "        text-align: right;\n",
       "    }\n",
       "</style>\n",
       "<table border=\"1\" class=\"dataframe\">\n",
       "  <thead>\n",
       "    <tr style=\"text-align: right;\">\n",
       "      <th></th>\n",
       "      <th>NumDots</th>\n",
       "      <th>SubdomainLevel</th>\n",
       "      <th>PathLevel</th>\n",
       "      <th>UrlLength</th>\n",
       "      <th>NumDash</th>\n",
       "      <th>NumDashInHostname</th>\n",
       "      <th>AtSymbol</th>\n",
       "      <th>TildeSymbol</th>\n",
       "      <th>NumUnderscore</th>\n",
       "      <th>NumPercent</th>\n",
       "      <th>...</th>\n",
       "      <th>IpAddress</th>\n",
       "      <th>HttpsInHostname</th>\n",
       "      <th>HostnameLength</th>\n",
       "      <th>PathLength</th>\n",
       "      <th>QueryLength</th>\n",
       "      <th>DoubleSlashInPath</th>\n",
       "      <th>TinyURL</th>\n",
       "      <th>iFrame</th>\n",
       "      <th>Mouse_Over</th>\n",
       "      <th>Label</th>\n",
       "    </tr>\n",
       "  </thead>\n",
       "  <tbody>\n",
       "    <tr>\n",
       "      <th>0</th>\n",
       "      <td>3</td>\n",
       "      <td>4</td>\n",
       "      <td>3</td>\n",
       "      <td>30</td>\n",
       "      <td>0</td>\n",
       "      <td>0</td>\n",
       "      <td>0</td>\n",
       "      <td>0</td>\n",
       "      <td>0</td>\n",
       "      <td>0</td>\n",
       "      <td>...</td>\n",
       "      <td>0</td>\n",
       "      <td>0</td>\n",
       "      <td>14</td>\n",
       "      <td>16</td>\n",
       "      <td>0</td>\n",
       "      <td>0</td>\n",
       "      <td>0</td>\n",
       "      <td>1</td>\n",
       "      <td>1</td>\n",
       "      <td>0</td>\n",
       "    </tr>\n",
       "    <tr>\n",
       "      <th>1</th>\n",
       "      <td>2</td>\n",
       "      <td>3</td>\n",
       "      <td>5</td>\n",
       "      <td>96</td>\n",
       "      <td>4</td>\n",
       "      <td>0</td>\n",
       "      <td>0</td>\n",
       "      <td>0</td>\n",
       "      <td>0</td>\n",
       "      <td>0</td>\n",
       "      <td>...</td>\n",
       "      <td>0</td>\n",
       "      <td>0</td>\n",
       "      <td>10</td>\n",
       "      <td>46</td>\n",
       "      <td>39</td>\n",
       "      <td>0</td>\n",
       "      <td>0</td>\n",
       "      <td>1</td>\n",
       "      <td>1</td>\n",
       "      <td>0</td>\n",
       "    </tr>\n",
       "    <tr>\n",
       "      <th>2</th>\n",
       "      <td>2</td>\n",
       "      <td>3</td>\n",
       "      <td>2</td>\n",
       "      <td>36</td>\n",
       "      <td>0</td>\n",
       "      <td>0</td>\n",
       "      <td>0</td>\n",
       "      <td>0</td>\n",
       "      <td>0</td>\n",
       "      <td>0</td>\n",
       "      <td>...</td>\n",
       "      <td>0</td>\n",
       "      <td>0</td>\n",
       "      <td>21</td>\n",
       "      <td>15</td>\n",
       "      <td>0</td>\n",
       "      <td>0</td>\n",
       "      <td>0</td>\n",
       "      <td>1</td>\n",
       "      <td>1</td>\n",
       "      <td>0</td>\n",
       "    </tr>\n",
       "    <tr>\n",
       "      <th>3</th>\n",
       "      <td>3</td>\n",
       "      <td>4</td>\n",
       "      <td>2</td>\n",
       "      <td>79</td>\n",
       "      <td>6</td>\n",
       "      <td>1</td>\n",
       "      <td>0</td>\n",
       "      <td>0</td>\n",
       "      <td>0</td>\n",
       "      <td>0</td>\n",
       "      <td>...</td>\n",
       "      <td>0</td>\n",
       "      <td>0</td>\n",
       "      <td>28</td>\n",
       "      <td>15</td>\n",
       "      <td>35</td>\n",
       "      <td>0</td>\n",
       "      <td>0</td>\n",
       "      <td>1</td>\n",
       "      <td>1</td>\n",
       "      <td>0</td>\n",
       "    </tr>\n",
       "    <tr>\n",
       "      <th>4</th>\n",
       "      <td>1</td>\n",
       "      <td>2</td>\n",
       "      <td>4</td>\n",
       "      <td>35</td>\n",
       "      <td>1</td>\n",
       "      <td>1</td>\n",
       "      <td>0</td>\n",
       "      <td>0</td>\n",
       "      <td>0</td>\n",
       "      <td>0</td>\n",
       "      <td>...</td>\n",
       "      <td>0</td>\n",
       "      <td>0</td>\n",
       "      <td>10</td>\n",
       "      <td>25</td>\n",
       "      <td>0</td>\n",
       "      <td>0</td>\n",
       "      <td>0</td>\n",
       "      <td>1</td>\n",
       "      <td>1</td>\n",
       "      <td>0</td>\n",
       "    </tr>\n",
       "  </tbody>\n",
       "</table>\n",
       "<p>5 rows × 26 columns</p>\n",
       "</div>"
      ],
      "text/plain": [
       "   NumDots  SubdomainLevel  PathLevel  UrlLength  NumDash  NumDashInHostname  \\\n",
       "0        3               4          3         30        0                  0   \n",
       "1        2               3          5         96        4                  0   \n",
       "2        2               3          2         36        0                  0   \n",
       "3        3               4          2         79        6                  1   \n",
       "4        1               2          4         35        1                  1   \n",
       "\n",
       "   AtSymbol  TildeSymbol  NumUnderscore  NumPercent  ...  IpAddress  \\\n",
       "0         0            0              0           0  ...          0   \n",
       "1         0            0              0           0  ...          0   \n",
       "2         0            0              0           0  ...          0   \n",
       "3         0            0              0           0  ...          0   \n",
       "4         0            0              0           0  ...          0   \n",
       "\n",
       "   HttpsInHostname  HostnameLength  PathLength  QueryLength  \\\n",
       "0                0              14          16            0   \n",
       "1                0              10          46           39   \n",
       "2                0              21          15            0   \n",
       "3                0              28          15           35   \n",
       "4                0              10          25            0   \n",
       "\n",
       "   DoubleSlashInPath  TinyURL  iFrame  Mouse_Over  Label  \n",
       "0                  0        0       1           1      0  \n",
       "1                  0        0       1           1      0  \n",
       "2                  0        0       1           1      0  \n",
       "3                  0        0       1           1      0  \n",
       "4                  0        0       1           1      0  \n",
       "\n",
       "[5 rows x 26 columns]"
      ]
     },
     "execution_count": 111,
     "metadata": {},
     "output_type": "execute_result"
    }
   ],
   "source": [
    "legitimate.head()"
   ]
  },
  {
   "cell_type": "markdown",
   "id": "805f7dce",
   "metadata": {},
   "source": [
    "## Phishing URLs:\n",
    "Now, feature extraction is performed on phishing URLs."
   ]
  },
  {
   "cell_type": "code",
   "execution_count": 112,
   "id": "f38ca749",
   "metadata": {},
   "outputs": [],
   "source": [
    "phish_features = []\n",
    "label = 1\n",
    "for i in range(0, 5000):\n",
    "    url = phishurl['url'][i]\n",
    "    phish_features.append(featureExtraction(url,label))"
   ]
  },
  {
   "cell_type": "code",
   "execution_count": 113,
   "id": "abfa59d7",
   "metadata": {},
   "outputs": [],
   "source": [
    "#converting the list to dataframe\n",
    "feature_names = ['NumDots', 'SubdomainLevel', 'PathLevel', 'UrlLength', 'NumDash', 'NumDashInHostname', 'AtSymbol', 'TildeSymbol', 'NumUnderscore', 'NumPercent', 'NumQueryComponents', 'NumAmpersand', 'NumHash', 'NumNumericChars', 'NoHttps', 'RandomString', 'IpAddress', 'HttpsInHostname', 'HostnameLength', 'PathLength', 'QueryLength', 'DoubleSlashInPath', 'TinyURL', 'iFrame', 'Mouse_Over', 'Label']\n",
    "\n",
    "phishing = pd.DataFrame(phish_features, columns= feature_names)"
   ]
  },
  {
   "cell_type": "code",
   "execution_count": 114,
   "id": "b21114cb",
   "metadata": {},
   "outputs": [
    {
     "data": {
      "text/html": [
       "<div>\n",
       "<style scoped>\n",
       "    .dataframe tbody tr th:only-of-type {\n",
       "        vertical-align: middle;\n",
       "    }\n",
       "\n",
       "    .dataframe tbody tr th {\n",
       "        vertical-align: top;\n",
       "    }\n",
       "\n",
       "    .dataframe thead th {\n",
       "        text-align: right;\n",
       "    }\n",
       "</style>\n",
       "<table border=\"1\" class=\"dataframe\">\n",
       "  <thead>\n",
       "    <tr style=\"text-align: right;\">\n",
       "      <th></th>\n",
       "      <th>NumDots</th>\n",
       "      <th>SubdomainLevel</th>\n",
       "      <th>PathLevel</th>\n",
       "      <th>UrlLength</th>\n",
       "      <th>NumDash</th>\n",
       "      <th>NumDashInHostname</th>\n",
       "      <th>AtSymbol</th>\n",
       "      <th>TildeSymbol</th>\n",
       "      <th>NumUnderscore</th>\n",
       "      <th>NumPercent</th>\n",
       "      <th>...</th>\n",
       "      <th>IpAddress</th>\n",
       "      <th>HttpsInHostname</th>\n",
       "      <th>HostnameLength</th>\n",
       "      <th>PathLength</th>\n",
       "      <th>QueryLength</th>\n",
       "      <th>DoubleSlashInPath</th>\n",
       "      <th>TinyURL</th>\n",
       "      <th>iFrame</th>\n",
       "      <th>Mouse_Over</th>\n",
       "      <th>Label</th>\n",
       "    </tr>\n",
       "  </thead>\n",
       "  <tbody>\n",
       "    <tr>\n",
       "      <th>0</th>\n",
       "      <td>3</td>\n",
       "      <td>4</td>\n",
       "      <td>3</td>\n",
       "      <td>19</td>\n",
       "      <td>0</td>\n",
       "      <td>0</td>\n",
       "      <td>0</td>\n",
       "      <td>0</td>\n",
       "      <td>0</td>\n",
       "      <td>0</td>\n",
       "      <td>...</td>\n",
       "      <td>1</td>\n",
       "      <td>0</td>\n",
       "      <td>15</td>\n",
       "      <td>4</td>\n",
       "      <td>0</td>\n",
       "      <td>0</td>\n",
       "      <td>0</td>\n",
       "      <td>1</td>\n",
       "      <td>1</td>\n",
       "      <td>1</td>\n",
       "    </tr>\n",
       "    <tr>\n",
       "      <th>1</th>\n",
       "      <td>3</td>\n",
       "      <td>4</td>\n",
       "      <td>4</td>\n",
       "      <td>195</td>\n",
       "      <td>1</td>\n",
       "      <td>0</td>\n",
       "      <td>0</td>\n",
       "      <td>1</td>\n",
       "      <td>4</td>\n",
       "      <td>0</td>\n",
       "      <td>...</td>\n",
       "      <td>0</td>\n",
       "      <td>0</td>\n",
       "      <td>24</td>\n",
       "      <td>24</td>\n",
       "      <td>146</td>\n",
       "      <td>0</td>\n",
       "      <td>0</td>\n",
       "      <td>1</td>\n",
       "      <td>1</td>\n",
       "      <td>1</td>\n",
       "    </tr>\n",
       "    <tr>\n",
       "      <th>2</th>\n",
       "      <td>3</td>\n",
       "      <td>4</td>\n",
       "      <td>2</td>\n",
       "      <td>29</td>\n",
       "      <td>0</td>\n",
       "      <td>0</td>\n",
       "      <td>0</td>\n",
       "      <td>0</td>\n",
       "      <td>0</td>\n",
       "      <td>0</td>\n",
       "      <td>...</td>\n",
       "      <td>0</td>\n",
       "      <td>0</td>\n",
       "      <td>17</td>\n",
       "      <td>12</td>\n",
       "      <td>0</td>\n",
       "      <td>0</td>\n",
       "      <td>0</td>\n",
       "      <td>1</td>\n",
       "      <td>1</td>\n",
       "      <td>1</td>\n",
       "    </tr>\n",
       "    <tr>\n",
       "      <th>3</th>\n",
       "      <td>2</td>\n",
       "      <td>3</td>\n",
       "      <td>5</td>\n",
       "      <td>249</td>\n",
       "      <td>0</td>\n",
       "      <td>0</td>\n",
       "      <td>0</td>\n",
       "      <td>0</td>\n",
       "      <td>0</td>\n",
       "      <td>0</td>\n",
       "      <td>...</td>\n",
       "      <td>0</td>\n",
       "      <td>0</td>\n",
       "      <td>20</td>\n",
       "      <td>73</td>\n",
       "      <td>155</td>\n",
       "      <td>0</td>\n",
       "      <td>0</td>\n",
       "      <td>1</td>\n",
       "      <td>1</td>\n",
       "      <td>1</td>\n",
       "    </tr>\n",
       "    <tr>\n",
       "      <th>4</th>\n",
       "      <td>2</td>\n",
       "      <td>3</td>\n",
       "      <td>2</td>\n",
       "      <td>22</td>\n",
       "      <td>0</td>\n",
       "      <td>0</td>\n",
       "      <td>0</td>\n",
       "      <td>0</td>\n",
       "      <td>0</td>\n",
       "      <td>0</td>\n",
       "      <td>...</td>\n",
       "      <td>0</td>\n",
       "      <td>0</td>\n",
       "      <td>13</td>\n",
       "      <td>9</td>\n",
       "      <td>0</td>\n",
       "      <td>0</td>\n",
       "      <td>0</td>\n",
       "      <td>1</td>\n",
       "      <td>1</td>\n",
       "      <td>1</td>\n",
       "    </tr>\n",
       "  </tbody>\n",
       "</table>\n",
       "<p>5 rows × 26 columns</p>\n",
       "</div>"
      ],
      "text/plain": [
       "   NumDots  SubdomainLevel  PathLevel  UrlLength  NumDash  NumDashInHostname  \\\n",
       "0        3               4          3         19        0                  0   \n",
       "1        3               4          4        195        1                  0   \n",
       "2        3               4          2         29        0                  0   \n",
       "3        2               3          5        249        0                  0   \n",
       "4        2               3          2         22        0                  0   \n",
       "\n",
       "   AtSymbol  TildeSymbol  NumUnderscore  NumPercent  ...  IpAddress  \\\n",
       "0         0            0              0           0  ...          1   \n",
       "1         0            1              4           0  ...          0   \n",
       "2         0            0              0           0  ...          0   \n",
       "3         0            0              0           0  ...          0   \n",
       "4         0            0              0           0  ...          0   \n",
       "\n",
       "   HttpsInHostname  HostnameLength  PathLength  QueryLength  \\\n",
       "0                0              15           4            0   \n",
       "1                0              24          24          146   \n",
       "2                0              17          12            0   \n",
       "3                0              20          73          155   \n",
       "4                0              13           9            0   \n",
       "\n",
       "   DoubleSlashInPath  TinyURL  iFrame  Mouse_Over  Label  \n",
       "0                  0        0       1           1      1  \n",
       "1                  0        0       1           1      1  \n",
       "2                  0        0       1           1      1  \n",
       "3                  0        0       1           1      1  \n",
       "4                  0        0       1           1      1  \n",
       "\n",
       "[5 rows x 26 columns]"
      ]
     },
     "execution_count": 114,
     "metadata": {},
     "output_type": "execute_result"
    }
   ],
   "source": [
    "phishing.head()"
   ]
  },
  {
   "cell_type": "markdown",
   "id": "3d8154ab",
   "metadata": {},
   "source": [
    "# Final Dataset\n",
    "In the above section we formed two dataframes of legitimate & phishing URL features. Now, we will combine them to a single dataframe and export the data to csv file for the Machine Learning training done in other notebook."
   ]
  },
  {
   "cell_type": "code",
   "execution_count": 115,
   "id": "2431e5d9",
   "metadata": {
    "scrolled": true
   },
   "outputs": [
    {
     "data": {
      "text/html": [
       "<div>\n",
       "<style scoped>\n",
       "    .dataframe tbody tr th:only-of-type {\n",
       "        vertical-align: middle;\n",
       "    }\n",
       "\n",
       "    .dataframe tbody tr th {\n",
       "        vertical-align: top;\n",
       "    }\n",
       "\n",
       "    .dataframe thead th {\n",
       "        text-align: right;\n",
       "    }\n",
       "</style>\n",
       "<table border=\"1\" class=\"dataframe\">\n",
       "  <thead>\n",
       "    <tr style=\"text-align: right;\">\n",
       "      <th></th>\n",
       "      <th>NumDots</th>\n",
       "      <th>SubdomainLevel</th>\n",
       "      <th>PathLevel</th>\n",
       "      <th>UrlLength</th>\n",
       "      <th>NumDash</th>\n",
       "      <th>NumDashInHostname</th>\n",
       "      <th>AtSymbol</th>\n",
       "      <th>TildeSymbol</th>\n",
       "      <th>NumUnderscore</th>\n",
       "      <th>NumPercent</th>\n",
       "      <th>...</th>\n",
       "      <th>IpAddress</th>\n",
       "      <th>HttpsInHostname</th>\n",
       "      <th>HostnameLength</th>\n",
       "      <th>PathLength</th>\n",
       "      <th>QueryLength</th>\n",
       "      <th>DoubleSlashInPath</th>\n",
       "      <th>TinyURL</th>\n",
       "      <th>iFrame</th>\n",
       "      <th>Mouse_Over</th>\n",
       "      <th>Label</th>\n",
       "    </tr>\n",
       "  </thead>\n",
       "  <tbody>\n",
       "    <tr>\n",
       "      <th>0</th>\n",
       "      <td>3</td>\n",
       "      <td>4</td>\n",
       "      <td>3</td>\n",
       "      <td>30</td>\n",
       "      <td>0</td>\n",
       "      <td>0</td>\n",
       "      <td>0</td>\n",
       "      <td>0</td>\n",
       "      <td>0</td>\n",
       "      <td>0</td>\n",
       "      <td>...</td>\n",
       "      <td>0</td>\n",
       "      <td>0</td>\n",
       "      <td>14</td>\n",
       "      <td>16</td>\n",
       "      <td>0</td>\n",
       "      <td>0</td>\n",
       "      <td>0</td>\n",
       "      <td>1</td>\n",
       "      <td>1</td>\n",
       "      <td>0</td>\n",
       "    </tr>\n",
       "    <tr>\n",
       "      <th>1</th>\n",
       "      <td>2</td>\n",
       "      <td>3</td>\n",
       "      <td>5</td>\n",
       "      <td>96</td>\n",
       "      <td>4</td>\n",
       "      <td>0</td>\n",
       "      <td>0</td>\n",
       "      <td>0</td>\n",
       "      <td>0</td>\n",
       "      <td>0</td>\n",
       "      <td>...</td>\n",
       "      <td>0</td>\n",
       "      <td>0</td>\n",
       "      <td>10</td>\n",
       "      <td>46</td>\n",
       "      <td>39</td>\n",
       "      <td>0</td>\n",
       "      <td>0</td>\n",
       "      <td>1</td>\n",
       "      <td>1</td>\n",
       "      <td>0</td>\n",
       "    </tr>\n",
       "    <tr>\n",
       "      <th>2</th>\n",
       "      <td>2</td>\n",
       "      <td>3</td>\n",
       "      <td>2</td>\n",
       "      <td>36</td>\n",
       "      <td>0</td>\n",
       "      <td>0</td>\n",
       "      <td>0</td>\n",
       "      <td>0</td>\n",
       "      <td>0</td>\n",
       "      <td>0</td>\n",
       "      <td>...</td>\n",
       "      <td>0</td>\n",
       "      <td>0</td>\n",
       "      <td>21</td>\n",
       "      <td>15</td>\n",
       "      <td>0</td>\n",
       "      <td>0</td>\n",
       "      <td>0</td>\n",
       "      <td>1</td>\n",
       "      <td>1</td>\n",
       "      <td>0</td>\n",
       "    </tr>\n",
       "    <tr>\n",
       "      <th>3</th>\n",
       "      <td>3</td>\n",
       "      <td>4</td>\n",
       "      <td>2</td>\n",
       "      <td>79</td>\n",
       "      <td>6</td>\n",
       "      <td>1</td>\n",
       "      <td>0</td>\n",
       "      <td>0</td>\n",
       "      <td>0</td>\n",
       "      <td>0</td>\n",
       "      <td>...</td>\n",
       "      <td>0</td>\n",
       "      <td>0</td>\n",
       "      <td>28</td>\n",
       "      <td>15</td>\n",
       "      <td>35</td>\n",
       "      <td>0</td>\n",
       "      <td>0</td>\n",
       "      <td>1</td>\n",
       "      <td>1</td>\n",
       "      <td>0</td>\n",
       "    </tr>\n",
       "    <tr>\n",
       "      <th>4</th>\n",
       "      <td>1</td>\n",
       "      <td>2</td>\n",
       "      <td>4</td>\n",
       "      <td>35</td>\n",
       "      <td>1</td>\n",
       "      <td>1</td>\n",
       "      <td>0</td>\n",
       "      <td>0</td>\n",
       "      <td>0</td>\n",
       "      <td>0</td>\n",
       "      <td>...</td>\n",
       "      <td>0</td>\n",
       "      <td>0</td>\n",
       "      <td>10</td>\n",
       "      <td>25</td>\n",
       "      <td>0</td>\n",
       "      <td>0</td>\n",
       "      <td>0</td>\n",
       "      <td>1</td>\n",
       "      <td>1</td>\n",
       "      <td>0</td>\n",
       "    </tr>\n",
       "  </tbody>\n",
       "</table>\n",
       "<p>5 rows × 26 columns</p>\n",
       "</div>"
      ],
      "text/plain": [
       "   NumDots  SubdomainLevel  PathLevel  UrlLength  NumDash  NumDashInHostname  \\\n",
       "0        3               4          3         30        0                  0   \n",
       "1        2               3          5         96        4                  0   \n",
       "2        2               3          2         36        0                  0   \n",
       "3        3               4          2         79        6                  1   \n",
       "4        1               2          4         35        1                  1   \n",
       "\n",
       "   AtSymbol  TildeSymbol  NumUnderscore  NumPercent  ...  IpAddress  \\\n",
       "0         0            0              0           0  ...          0   \n",
       "1         0            0              0           0  ...          0   \n",
       "2         0            0              0           0  ...          0   \n",
       "3         0            0              0           0  ...          0   \n",
       "4         0            0              0           0  ...          0   \n",
       "\n",
       "   HttpsInHostname  HostnameLength  PathLength  QueryLength  \\\n",
       "0                0              14          16            0   \n",
       "1                0              10          46           39   \n",
       "2                0              21          15            0   \n",
       "3                0              28          15           35   \n",
       "4                0              10          25            0   \n",
       "\n",
       "   DoubleSlashInPath  TinyURL  iFrame  Mouse_Over  Label  \n",
       "0                  0        0       1           1      0  \n",
       "1                  0        0       1           1      0  \n",
       "2                  0        0       1           1      0  \n",
       "3                  0        0       1           1      0  \n",
       "4                  0        0       1           1      0  \n",
       "\n",
       "[5 rows x 26 columns]"
      ]
     },
     "execution_count": 115,
     "metadata": {},
     "output_type": "execute_result"
    }
   ],
   "source": [
    "#Concatenating the dataframes into one \n",
    "urldata = pd.concat([legitimate, phishing]).reset_index(drop=True)\n",
    "urldata.head()"
   ]
  },
  {
   "cell_type": "code",
   "execution_count": 118,
   "id": "c0f3fefa",
   "metadata": {},
   "outputs": [
    {
     "data": {
      "text/plain": [
       "(10000, 26)"
      ]
     },
     "execution_count": 118,
     "metadata": {},
     "output_type": "execute_result"
    }
   ],
   "source": [
    "urldata.shape"
   ]
  },
  {
   "cell_type": "code",
   "execution_count": 119,
   "id": "c994bcdd",
   "metadata": {},
   "outputs": [],
   "source": [
    "urldata.to_csv('urldata.csv', index= False)"
   ]
  },
  {
   "cell_type": "code",
   "execution_count": null,
   "id": "51a9911f",
   "metadata": {},
   "outputs": [],
   "source": []
  }
 ],
 "metadata": {
  "kernelspec": {
   "display_name": "Python 3 (ipykernel)",
   "language": "python",
   "name": "python3"
  },
  "language_info": {
   "codemirror_mode": {
    "name": "ipython",
    "version": 3
   },
   "file_extension": ".py",
   "mimetype": "text/x-python",
   "name": "python",
   "nbconvert_exporter": "python",
   "pygments_lexer": "ipython3",
   "version": "3.11.5"
  }
 },
 "nbformat": 4,
 "nbformat_minor": 5
}
