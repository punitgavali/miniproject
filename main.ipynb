{
 "cells": [
  {
   "cell_type": "code",
   "execution_count": 177,
   "id": "4c568327",
   "metadata": {},
   "outputs": [],
   "source": [
    "import pandas as pd"
   ]
  },
  {
   "cell_type": "code",
   "execution_count": 178,
   "id": "4fd532cb",
   "metadata": {},
   "outputs": [],
   "source": [
    "data = pd.read_csv(\"test.csv\")"
   ]
  },
  {
   "cell_type": "code",
   "execution_count": 179,
   "id": "9c00e250",
   "metadata": {},
   "outputs": [
    {
     "data": {
      "text/html": [
       "<div>\n",
       "<style scoped>\n",
       "    .dataframe tbody tr th:only-of-type {\n",
       "        vertical-align: middle;\n",
       "    }\n",
       "\n",
       "    .dataframe tbody tr th {\n",
       "        vertical-align: top;\n",
       "    }\n",
       "\n",
       "    .dataframe thead th {\n",
       "        text-align: right;\n",
       "    }\n",
       "</style>\n",
       "<table border=\"1\" class=\"dataframe\">\n",
       "  <thead>\n",
       "    <tr style=\"text-align: right;\">\n",
       "      <th></th>\n",
       "      <th>URL</th>\n",
       "      <th>Label</th>\n",
       "    </tr>\n",
       "  </thead>\n",
       "  <tbody>\n",
       "    <tr>\n",
       "      <th>548339</th>\n",
       "      <td>91.239.25.54:6892</td>\n",
       "      <td>bad</td>\n",
       "    </tr>\n",
       "    <tr>\n",
       "      <th>235364</th>\n",
       "      <td>rivals.yahoo.com/video/recruiting-football/Dav...</td>\n",
       "      <td>good</td>\n",
       "    </tr>\n",
       "    <tr>\n",
       "      <th>267851</th>\n",
       "      <td>absoluteastronomy.com/topics/KMXV</td>\n",
       "      <td>good</td>\n",
       "    </tr>\n",
       "    <tr>\n",
       "      <th>462875</th>\n",
       "      <td>wellsphere.com/women-s-health-article/i-m-just...</td>\n",
       "      <td>good</td>\n",
       "    </tr>\n",
       "    <tr>\n",
       "      <th>312731</th>\n",
       "      <td>davidsmalleysculpture.net/</td>\n",
       "      <td>good</td>\n",
       "    </tr>\n",
       "    <tr>\n",
       "      <th>284263</th>\n",
       "      <td>asianbite.com/profiles/Tomoya-Nagase_272_1</td>\n",
       "      <td>good</td>\n",
       "    </tr>\n",
       "    <tr>\n",
       "      <th>332295</th>\n",
       "      <td>facebook.com/people/Michael-Filion/1132772558</td>\n",
       "      <td>good</td>\n",
       "    </tr>\n",
       "    <tr>\n",
       "      <th>299602</th>\n",
       "      <td>cars-directory.net/history/oldsmobile/delta/</td>\n",
       "      <td>good</td>\n",
       "    </tr>\n",
       "    <tr>\n",
       "      <th>372793</th>\n",
       "      <td>legacy.com/obituaries/yumasun/obituary.aspx?n=...</td>\n",
       "      <td>good</td>\n",
       "    </tr>\n",
       "    <tr>\n",
       "      <th>159138</th>\n",
       "      <td>cleantech-israel.blogspot.com/2008/06/brightso...</td>\n",
       "      <td>good</td>\n",
       "    </tr>\n",
       "  </tbody>\n",
       "</table>\n",
       "</div>"
      ],
      "text/plain": [
       "                                                      URL Label\n",
       "548339                                  91.239.25.54:6892   bad\n",
       "235364  rivals.yahoo.com/video/recruiting-football/Dav...  good\n",
       "267851                  absoluteastronomy.com/topics/KMXV  good\n",
       "462875  wellsphere.com/women-s-health-article/i-m-just...  good\n",
       "312731                         davidsmalleysculpture.net/  good\n",
       "284263         asianbite.com/profiles/Tomoya-Nagase_272_1  good\n",
       "332295      facebook.com/people/Michael-Filion/1132772558  good\n",
       "299602       cars-directory.net/history/oldsmobile/delta/  good\n",
       "372793  legacy.com/obituaries/yumasun/obituary.aspx?n=...  good\n",
       "159138  cleantech-israel.blogspot.com/2008/06/brightso...  good"
      ]
     },
     "execution_count": 179,
     "metadata": {},
     "output_type": "execute_result"
    }
   ],
   "source": [
    "data.sample(10)"
   ]
  },
  {
   "cell_type": "code",
   "execution_count": 180,
   "id": "0d4522e0",
   "metadata": {},
   "outputs": [
    {
     "name": "stdout",
     "output_type": "stream",
     "text": [
      "<class 'pandas.core.frame.DataFrame'>\n",
      "RangeIndex: 549346 entries, 0 to 549345\n",
      "Data columns (total 2 columns):\n",
      " #   Column  Non-Null Count   Dtype \n",
      "---  ------  --------------   ----- \n",
      " 0   URL     549346 non-null  object\n",
      " 1   Label   549346 non-null  object\n",
      "dtypes: object(2)\n",
      "memory usage: 8.4+ MB\n"
     ]
    }
   ],
   "source": [
    "data.info()"
   ]
  },
  {
   "cell_type": "code",
   "execution_count": 181,
   "id": "2ee75c0e",
   "metadata": {},
   "outputs": [
    {
     "data": {
      "text/html": [
       "<div>\n",
       "<style scoped>\n",
       "    .dataframe tbody tr th:only-of-type {\n",
       "        vertical-align: middle;\n",
       "    }\n",
       "\n",
       "    .dataframe tbody tr th {\n",
       "        vertical-align: top;\n",
       "    }\n",
       "\n",
       "    .dataframe thead th {\n",
       "        text-align: right;\n",
       "    }\n",
       "</style>\n",
       "<table border=\"1\" class=\"dataframe\">\n",
       "  <thead>\n",
       "    <tr style=\"text-align: right;\">\n",
       "      <th></th>\n",
       "      <th>URL</th>\n",
       "      <th>Label</th>\n",
       "    </tr>\n",
       "  </thead>\n",
       "  <tbody>\n",
       "    <tr>\n",
       "      <th>count</th>\n",
       "      <td>549346</td>\n",
       "      <td>549346</td>\n",
       "    </tr>\n",
       "    <tr>\n",
       "      <th>unique</th>\n",
       "      <td>507195</td>\n",
       "      <td>2</td>\n",
       "    </tr>\n",
       "    <tr>\n",
       "      <th>top</th>\n",
       "      <td>jhomitevd2abj3fk.tor2web.org/</td>\n",
       "      <td>good</td>\n",
       "    </tr>\n",
       "    <tr>\n",
       "      <th>freq</th>\n",
       "      <td>52</td>\n",
       "      <td>392924</td>\n",
       "    </tr>\n",
       "  </tbody>\n",
       "</table>\n",
       "</div>"
      ],
      "text/plain": [
       "                                  URL   Label\n",
       "count                          549346  549346\n",
       "unique                         507195       2\n",
       "top     jhomitevd2abj3fk.tor2web.org/    good\n",
       "freq                               52  392924"
      ]
     },
     "execution_count": 181,
     "metadata": {},
     "output_type": "execute_result"
    }
   ],
   "source": [
    "data.describe()"
   ]
  },
  {
   "cell_type": "code",
   "execution_count": 182,
   "id": "817064e9",
   "metadata": {},
   "outputs": [
    {
     "data": {
      "text/plain": [
       "(549346, 2)"
      ]
     },
     "execution_count": 182,
     "metadata": {},
     "output_type": "execute_result"
    }
   ],
   "source": [
    "data.shape"
   ]
  },
  {
   "cell_type": "code",
   "execution_count": 183,
   "id": "ae964f78",
   "metadata": {
    "scrolled": true
   },
   "outputs": [
    {
     "data": {
      "text/plain": [
       "URL      object\n",
       "Label    object\n",
       "dtype: object"
      ]
     },
     "execution_count": 183,
     "metadata": {},
     "output_type": "execute_result"
    }
   ],
   "source": [
    "data.dtypes\n"
   ]
  },
  {
   "cell_type": "code",
   "execution_count": 184,
   "id": "fba8aa26",
   "metadata": {},
   "outputs": [
    {
     "data": {
      "text/plain": [
       "URL\n",
       "jhomitevd2abj3fk.tor2web.org/               52\n",
       "jhomitevd2abj3fk.onion.to/                  52\n",
       "zjfq4lnfbs7pncr5.onion.to/                  44\n",
       "zjfq4lnfbs7pncr5.tor2web.org/               44\n",
       "5n7y4yihirccftc5.tor2web.org/               42\n",
       "                                            ..\n",
       "en.wikipedia.org/wiki/Montreal_Axion         1\n",
       "en.wikipedia.org/wiki/Montreal_Assault       1\n",
       "en.wikipedia.org/wiki/Montreal_Arena         1\n",
       "en.wikipedia.org/wiki/Montreal_Alouettes     1\n",
       "wikieducator.org/Youporn                     1\n",
       "Name: count, Length: 507195, dtype: int64"
      ]
     },
     "execution_count": 184,
     "metadata": {},
     "output_type": "execute_result"
    }
   ],
   "source": [
    "data['URL'].value_counts()\n"
   ]
  },
  {
   "cell_type": "code",
   "execution_count": 185,
   "id": "b681b8b6",
   "metadata": {},
   "outputs": [
    {
     "data": {
      "text/plain": [
       "URL      507195\n",
       "Label         2\n",
       "dtype: int64"
      ]
     },
     "execution_count": 185,
     "metadata": {},
     "output_type": "execute_result"
    }
   ],
   "source": [
    "data.nunique()\n"
   ]
  },
  {
   "cell_type": "code",
   "execution_count": 186,
   "id": "bd87499d",
   "metadata": {},
   "outputs": [
    {
     "data": {
      "text/plain": [
       "URL      0\n",
       "Label    0\n",
       "dtype: int64"
      ]
     },
     "execution_count": 186,
     "metadata": {},
     "output_type": "execute_result"
    }
   ],
   "source": [
    "data.isnull().sum()"
   ]
  },
  {
   "cell_type": "code",
   "execution_count": 187,
   "id": "87dda5d0",
   "metadata": {},
   "outputs": [
    {
     "name": "stdout",
     "output_type": "stream",
     "text": [
      "<class 'pandas.core.frame.DataFrame'>\n",
      "RangeIndex: 549346 entries, 0 to 549345\n",
      "Data columns (total 2 columns):\n",
      " #   Column  Non-Null Count   Dtype \n",
      "---  ------  --------------   ----- \n",
      " 0   URL     549346 non-null  object\n",
      " 1   Label   549346 non-null  object\n",
      "dtypes: object(2)\n",
      "memory usage: 8.4+ MB\n"
     ]
    }
   ],
   "source": [
    "data.info()"
   ]
  },
  {
   "cell_type": "code",
   "execution_count": 188,
   "id": "3790aee6",
   "metadata": {},
   "outputs": [
    {
     "data": {
      "text/plain": [
       "42150"
      ]
     },
     "execution_count": 188,
     "metadata": {},
     "output_type": "execute_result"
    }
   ],
   "source": [
    "data.duplicated().sum()"
   ]
  },
  {
   "cell_type": "code",
   "execution_count": 189,
   "id": "977356f1",
   "metadata": {
    "scrolled": false
   },
   "outputs": [],
   "source": [
    "data = data.drop_duplicates()"
   ]
  },
  {
   "cell_type": "code",
   "execution_count": 190,
   "id": "f8cdc919",
   "metadata": {},
   "outputs": [
    {
     "data": {
      "text/plain": [
       "(507196, 2)"
      ]
     },
     "execution_count": 190,
     "metadata": {},
     "output_type": "execute_result"
    }
   ],
   "source": [
    "data.shape"
   ]
  },
  {
   "cell_type": "code",
   "execution_count": 191,
   "id": "d276d8e8",
   "metadata": {
    "scrolled": true
   },
   "outputs": [
    {
     "name": "stdout",
     "output_type": "stream",
     "text": [
      "<class 'pandas.core.frame.DataFrame'>\n",
      "Index: 507196 entries, 0 to 516470\n",
      "Data columns (total 2 columns):\n",
      " #   Column  Non-Null Count   Dtype \n",
      "---  ------  --------------   ----- \n",
      " 0   URL     507196 non-null  object\n",
      " 1   Label   507196 non-null  object\n",
      "dtypes: object(2)\n",
      "memory usage: 11.6+ MB\n"
     ]
    }
   ],
   "source": [
    "data.info()"
   ]
  },
  {
   "cell_type": "code",
   "execution_count": 192,
   "id": "0bf9f0ee",
   "metadata": {},
   "outputs": [
    {
     "data": {
      "text/html": [
       "<div>\n",
       "<style scoped>\n",
       "    .dataframe tbody tr th:only-of-type {\n",
       "        vertical-align: middle;\n",
       "    }\n",
       "\n",
       "    .dataframe tbody tr th {\n",
       "        vertical-align: top;\n",
       "    }\n",
       "\n",
       "    .dataframe thead th {\n",
       "        text-align: right;\n",
       "    }\n",
       "</style>\n",
       "<table border=\"1\" class=\"dataframe\">\n",
       "  <thead>\n",
       "    <tr style=\"text-align: right;\">\n",
       "      <th></th>\n",
       "      <th>URL</th>\n",
       "      <th>Label</th>\n",
       "    </tr>\n",
       "  </thead>\n",
       "  <tbody>\n",
       "    <tr>\n",
       "      <th>count</th>\n",
       "      <td>507196</td>\n",
       "      <td>507196</td>\n",
       "    </tr>\n",
       "    <tr>\n",
       "      <th>unique</th>\n",
       "      <td>507195</td>\n",
       "      <td>2</td>\n",
       "    </tr>\n",
       "    <tr>\n",
       "      <th>top</th>\n",
       "      <td>tommyhumphreys.com/</td>\n",
       "      <td>good</td>\n",
       "    </tr>\n",
       "    <tr>\n",
       "      <th>freq</th>\n",
       "      <td>2</td>\n",
       "      <td>392897</td>\n",
       "    </tr>\n",
       "  </tbody>\n",
       "</table>\n",
       "</div>"
      ],
      "text/plain": [
       "                        URL   Label\n",
       "count                507196  507196\n",
       "unique               507195       2\n",
       "top     tommyhumphreys.com/    good\n",
       "freq                      2  392897"
      ]
     },
     "execution_count": 192,
     "metadata": {},
     "output_type": "execute_result"
    }
   ],
   "source": [
    "data.describe()"
   ]
  },
  {
   "cell_type": "code",
   "execution_count": 193,
   "id": "060d9125",
   "metadata": {},
   "outputs": [
    {
     "data": {
      "text/plain": [
       "URL\n",
       "tommyhumphreys.com/                                                                                                                                                                                                                  2\n",
       "nobell.it/70ffb52d079109dca5664cce6f317373782/login.SkyPe.com/en/cgi-bin/verification/login/70ffb52d079109dca5664cce6f317373/index.php?cmd=_profile-ach&outdated_page_tmpl=p/gen/failed-to-load&nav=0.5.1&login_access=1322408526    1\n",
       "galleries4u.net/mrskin/monique_gabrielle/monique_gabrielle_01.htm                                                                                                                                                                    1\n",
       "gallery2000.ca/bio.php?id=186                                                                                                                                                                                                        1\n",
       "gallery2000.ca/bio.php?id=113                                                                                                                                                                                                        1\n",
       "                                                                                                                                                                                                                                    ..\n",
       "en.wikipedia.org/wiki/Fred_Fortin                                                                                                                                                                                                    1\n",
       "en.wikipedia.org/wiki/Fred_Burchell_(ice_hockey)                                                                                                                                                                                     1\n",
       "en.wikipedia.org/wiki/Fred_Astaire                                                                                                                                                                                                   1\n",
       "en.wikipedia.org/wiki/Freak_of_Nature_(band)                                                                                                                                                                                         1\n",
       "apple-search.info                                                                                                                                                                                                                    1\n",
       "Name: count, Length: 507195, dtype: int64"
      ]
     },
     "execution_count": 193,
     "metadata": {},
     "output_type": "execute_result"
    }
   ],
   "source": [
    "data['URL'].value_counts()"
   ]
  },
  {
   "cell_type": "code",
   "execution_count": 194,
   "id": "f8675e40",
   "metadata": {},
   "outputs": [
    {
     "data": {
      "text/plain": [
       "URL      507195\n",
       "Label         2\n",
       "dtype: int64"
      ]
     },
     "execution_count": 194,
     "metadata": {},
     "output_type": "execute_result"
    }
   ],
   "source": [
    "data.nunique()"
   ]
  },
  {
   "cell_type": "code",
   "execution_count": 195,
   "id": "f325e1ed",
   "metadata": {},
   "outputs": [
    {
     "data": {
      "text/html": [
       "<div>\n",
       "<style scoped>\n",
       "    .dataframe tbody tr th:only-of-type {\n",
       "        vertical-align: middle;\n",
       "    }\n",
       "\n",
       "    .dataframe tbody tr th {\n",
       "        vertical-align: top;\n",
       "    }\n",
       "\n",
       "    .dataframe thead th {\n",
       "        text-align: right;\n",
       "    }\n",
       "</style>\n",
       "<table border=\"1\" class=\"dataframe\">\n",
       "  <thead>\n",
       "    <tr style=\"text-align: right;\">\n",
       "      <th></th>\n",
       "      <th>URL</th>\n",
       "      <th>Label</th>\n",
       "    </tr>\n",
       "  </thead>\n",
       "  <tbody>\n",
       "    <tr>\n",
       "      <th>0</th>\n",
       "      <td>nobell.it/70ffb52d079109dca5664cce6f317373782/...</td>\n",
       "      <td>bad</td>\n",
       "    </tr>\n",
       "    <tr>\n",
       "      <th>1</th>\n",
       "      <td>www.dghjdgf.com/paypal.co.uk/cycgi-bin/webscrc...</td>\n",
       "      <td>bad</td>\n",
       "    </tr>\n",
       "    <tr>\n",
       "      <th>2</th>\n",
       "      <td>serviciosbys.com/paypal.cgi.bin.get-into.herf....</td>\n",
       "      <td>bad</td>\n",
       "    </tr>\n",
       "    <tr>\n",
       "      <th>3</th>\n",
       "      <td>mail.printakid.com/www.online.americanexpress....</td>\n",
       "      <td>bad</td>\n",
       "    </tr>\n",
       "    <tr>\n",
       "      <th>4</th>\n",
       "      <td>thewhiskeydregs.com/wp-content/themes/widescre...</td>\n",
       "      <td>bad</td>\n",
       "    </tr>\n",
       "    <tr>\n",
       "      <th>...</th>\n",
       "      <td>...</td>\n",
       "      <td>...</td>\n",
       "    </tr>\n",
       "    <tr>\n",
       "      <th>516466</th>\n",
       "      <td>23.227.196.215/</td>\n",
       "      <td>bad</td>\n",
       "    </tr>\n",
       "    <tr>\n",
       "      <th>516467</th>\n",
       "      <td>apple-checker.org/</td>\n",
       "      <td>bad</td>\n",
       "    </tr>\n",
       "    <tr>\n",
       "      <th>516468</th>\n",
       "      <td>apple-iclods.org/</td>\n",
       "      <td>bad</td>\n",
       "    </tr>\n",
       "    <tr>\n",
       "      <th>516469</th>\n",
       "      <td>apple-uptoday.org/</td>\n",
       "      <td>bad</td>\n",
       "    </tr>\n",
       "    <tr>\n",
       "      <th>516470</th>\n",
       "      <td>apple-search.info</td>\n",
       "      <td>bad</td>\n",
       "    </tr>\n",
       "  </tbody>\n",
       "</table>\n",
       "<p>507196 rows × 2 columns</p>\n",
       "</div>"
      ],
      "text/plain": [
       "                                                      URL Label\n",
       "0       nobell.it/70ffb52d079109dca5664cce6f317373782/...   bad\n",
       "1       www.dghjdgf.com/paypal.co.uk/cycgi-bin/webscrc...   bad\n",
       "2       serviciosbys.com/paypal.cgi.bin.get-into.herf....   bad\n",
       "3       mail.printakid.com/www.online.americanexpress....   bad\n",
       "4       thewhiskeydregs.com/wp-content/themes/widescre...   bad\n",
       "...                                                   ...   ...\n",
       "516466                                    23.227.196.215/   bad\n",
       "516467                                 apple-checker.org/   bad\n",
       "516468                                  apple-iclods.org/   bad\n",
       "516469                                 apple-uptoday.org/   bad\n",
       "516470                                  apple-search.info   bad\n",
       "\n",
       "[507196 rows x 2 columns]"
      ]
     },
     "execution_count": 195,
     "metadata": {},
     "output_type": "execute_result"
    }
   ],
   "source": [
    "data"
   ]
  },
  {
   "cell_type": "code",
   "execution_count": 196,
   "id": "84fe963a",
   "metadata": {},
   "outputs": [],
   "source": [
    "data.reset_index(drop=True, inplace=True)"
   ]
  },
  {
   "cell_type": "code",
   "execution_count": 197,
   "id": "b006d8e5",
   "metadata": {},
   "outputs": [
    {
     "data": {
      "text/html": [
       "<div>\n",
       "<style scoped>\n",
       "    .dataframe tbody tr th:only-of-type {\n",
       "        vertical-align: middle;\n",
       "    }\n",
       "\n",
       "    .dataframe tbody tr th {\n",
       "        vertical-align: top;\n",
       "    }\n",
       "\n",
       "    .dataframe thead th {\n",
       "        text-align: right;\n",
       "    }\n",
       "</style>\n",
       "<table border=\"1\" class=\"dataframe\">\n",
       "  <thead>\n",
       "    <tr style=\"text-align: right;\">\n",
       "      <th></th>\n",
       "      <th>URL</th>\n",
       "      <th>Label</th>\n",
       "    </tr>\n",
       "  </thead>\n",
       "  <tbody>\n",
       "    <tr>\n",
       "      <th>0</th>\n",
       "      <td>nobell.it/70ffb52d079109dca5664cce6f317373782/...</td>\n",
       "      <td>bad</td>\n",
       "    </tr>\n",
       "    <tr>\n",
       "      <th>1</th>\n",
       "      <td>www.dghjdgf.com/paypal.co.uk/cycgi-bin/webscrc...</td>\n",
       "      <td>bad</td>\n",
       "    </tr>\n",
       "    <tr>\n",
       "      <th>2</th>\n",
       "      <td>serviciosbys.com/paypal.cgi.bin.get-into.herf....</td>\n",
       "      <td>bad</td>\n",
       "    </tr>\n",
       "    <tr>\n",
       "      <th>3</th>\n",
       "      <td>mail.printakid.com/www.online.americanexpress....</td>\n",
       "      <td>bad</td>\n",
       "    </tr>\n",
       "    <tr>\n",
       "      <th>4</th>\n",
       "      <td>thewhiskeydregs.com/wp-content/themes/widescre...</td>\n",
       "      <td>bad</td>\n",
       "    </tr>\n",
       "    <tr>\n",
       "      <th>...</th>\n",
       "      <td>...</td>\n",
       "      <td>...</td>\n",
       "    </tr>\n",
       "    <tr>\n",
       "      <th>507191</th>\n",
       "      <td>23.227.196.215/</td>\n",
       "      <td>bad</td>\n",
       "    </tr>\n",
       "    <tr>\n",
       "      <th>507192</th>\n",
       "      <td>apple-checker.org/</td>\n",
       "      <td>bad</td>\n",
       "    </tr>\n",
       "    <tr>\n",
       "      <th>507193</th>\n",
       "      <td>apple-iclods.org/</td>\n",
       "      <td>bad</td>\n",
       "    </tr>\n",
       "    <tr>\n",
       "      <th>507194</th>\n",
       "      <td>apple-uptoday.org/</td>\n",
       "      <td>bad</td>\n",
       "    </tr>\n",
       "    <tr>\n",
       "      <th>507195</th>\n",
       "      <td>apple-search.info</td>\n",
       "      <td>bad</td>\n",
       "    </tr>\n",
       "  </tbody>\n",
       "</table>\n",
       "<p>507196 rows × 2 columns</p>\n",
       "</div>"
      ],
      "text/plain": [
       "                                                      URL Label\n",
       "0       nobell.it/70ffb52d079109dca5664cce6f317373782/...   bad\n",
       "1       www.dghjdgf.com/paypal.co.uk/cycgi-bin/webscrc...   bad\n",
       "2       serviciosbys.com/paypal.cgi.bin.get-into.herf....   bad\n",
       "3       mail.printakid.com/www.online.americanexpress....   bad\n",
       "4       thewhiskeydregs.com/wp-content/themes/widescre...   bad\n",
       "...                                                   ...   ...\n",
       "507191                                    23.227.196.215/   bad\n",
       "507192                                 apple-checker.org/   bad\n",
       "507193                                  apple-iclods.org/   bad\n",
       "507194                                 apple-uptoday.org/   bad\n",
       "507195                                  apple-search.info   bad\n",
       "\n",
       "[507196 rows x 2 columns]"
      ]
     },
     "execution_count": 197,
     "metadata": {},
     "output_type": "execute_result"
    }
   ],
   "source": [
    "data"
   ]
  },
  {
   "cell_type": "code",
   "execution_count": 198,
   "id": "87d70a93",
   "metadata": {},
   "outputs": [
    {
     "data": {
      "text/html": [
       "<div>\n",
       "<style scoped>\n",
       "    .dataframe tbody tr th:only-of-type {\n",
       "        vertical-align: middle;\n",
       "    }\n",
       "\n",
       "    .dataframe tbody tr th {\n",
       "        vertical-align: top;\n",
       "    }\n",
       "\n",
       "    .dataframe thead th {\n",
       "        text-align: right;\n",
       "    }\n",
       "</style>\n",
       "<table border=\"1\" class=\"dataframe\">\n",
       "  <thead>\n",
       "    <tr style=\"text-align: right;\">\n",
       "      <th></th>\n",
       "      <th>URL</th>\n",
       "      <th>Label</th>\n",
       "    </tr>\n",
       "  </thead>\n",
       "  <tbody>\n",
       "    <tr>\n",
       "      <th>374866</th>\n",
       "      <td>lyricsmania.com/youre_no_daisy_at_all_lyrics_t...</td>\n",
       "      <td>good</td>\n",
       "    </tr>\n",
       "    <tr>\n",
       "      <th>207821</th>\n",
       "      <td>minorleaguefootballnews.com/</td>\n",
       "      <td>good</td>\n",
       "    </tr>\n",
       "    <tr>\n",
       "      <th>488643</th>\n",
       "      <td>lytovp.istmein.de/</td>\n",
       "      <td>bad</td>\n",
       "    </tr>\n",
       "    <tr>\n",
       "      <th>109984</th>\n",
       "      <td>fernandaemiliaboutique.com.br/wp-includes/m/up...</td>\n",
       "      <td>bad</td>\n",
       "    </tr>\n",
       "    <tr>\n",
       "      <th>32486</th>\n",
       "      <td>www.baggermandenhaag.nl/weblogon/weblogon/webl...</td>\n",
       "      <td>bad</td>\n",
       "    </tr>\n",
       "    <tr>\n",
       "      <th>225808</th>\n",
       "      <td>profile.live.com/cid-a2ff2a7d0d7f0215/</td>\n",
       "      <td>good</td>\n",
       "    </tr>\n",
       "    <tr>\n",
       "      <th>423218</th>\n",
       "      <td>seattle-downtown.com/events/</td>\n",
       "      <td>good</td>\n",
       "    </tr>\n",
       "    <tr>\n",
       "      <th>314237</th>\n",
       "      <td>ehow.com/how-does_4597550_disney-do-animation....</td>\n",
       "      <td>good</td>\n",
       "    </tr>\n",
       "    <tr>\n",
       "      <th>16040</th>\n",
       "      <td>vfdgsdgsdfg.cmail5.com/t/t-l-mlhydy-mghjt-t/</td>\n",
       "      <td>bad</td>\n",
       "    </tr>\n",
       "    <tr>\n",
       "      <th>453912</th>\n",
       "      <td>vidivodo.com/190381/flora-martinez</td>\n",
       "      <td>good</td>\n",
       "    </tr>\n",
       "    <tr>\n",
       "      <th>487889</th>\n",
       "      <td>www.militarynewes.com/news/11.08.2015.rar</td>\n",
       "      <td>bad</td>\n",
       "    </tr>\n",
       "    <tr>\n",
       "      <th>34337</th>\n",
       "      <td>'amf-online.de/cli/files/archives/upload/html/...</td>\n",
       "      <td>bad</td>\n",
       "    </tr>\n",
       "    <tr>\n",
       "      <th>109259</th>\n",
       "      <td>claywrites.com/wp-content/themes/us/document.h...</td>\n",
       "      <td>bad</td>\n",
       "    </tr>\n",
       "    <tr>\n",
       "      <th>329942</th>\n",
       "      <td>fantasyfootballchallenge.com/101-16-1979/1979-...</td>\n",
       "      <td>good</td>\n",
       "    </tr>\n",
       "    <tr>\n",
       "      <th>138710</th>\n",
       "      <td>aritzia.com/locations</td>\n",
       "      <td>good</td>\n",
       "    </tr>\n",
       "    <tr>\n",
       "      <th>52974</th>\n",
       "      <td>www.ualberta.ca/~jreddon/</td>\n",
       "      <td>good</td>\n",
       "    </tr>\n",
       "    <tr>\n",
       "      <th>355120</th>\n",
       "      <td>imf.org/external/np/rosc/gbr/index.htm</td>\n",
       "      <td>good</td>\n",
       "    </tr>\n",
       "    <tr>\n",
       "      <th>79330</th>\n",
       "      <td>lambertz.chez-alice.fr/swtesten.htm</td>\n",
       "      <td>good</td>\n",
       "    </tr>\n",
       "    <tr>\n",
       "      <th>286904</th>\n",
       "      <td>blankofireland.com/</td>\n",
       "      <td>good</td>\n",
       "    </tr>\n",
       "    <tr>\n",
       "      <th>18154</th>\n",
       "      <td>jaymuda.com/wp-content/uploads/2013/Remax/</td>\n",
       "      <td>bad</td>\n",
       "    </tr>\n",
       "  </tbody>\n",
       "</table>\n",
       "</div>"
      ],
      "text/plain": [
       "                                                      URL Label\n",
       "374866  lyricsmania.com/youre_no_daisy_at_all_lyrics_t...  good\n",
       "207821                       minorleaguefootballnews.com/  good\n",
       "488643                                 lytovp.istmein.de/   bad\n",
       "109984  fernandaemiliaboutique.com.br/wp-includes/m/up...   bad\n",
       "32486   www.baggermandenhaag.nl/weblogon/weblogon/webl...   bad\n",
       "225808             profile.live.com/cid-a2ff2a7d0d7f0215/  good\n",
       "423218                       seattle-downtown.com/events/  good\n",
       "314237  ehow.com/how-does_4597550_disney-do-animation....  good\n",
       "16040        vfdgsdgsdfg.cmail5.com/t/t-l-mlhydy-mghjt-t/   bad\n",
       "453912                 vidivodo.com/190381/flora-martinez  good\n",
       "487889          www.militarynewes.com/news/11.08.2015.rar   bad\n",
       "34337   'amf-online.de/cli/files/archives/upload/html/...   bad\n",
       "109259  claywrites.com/wp-content/themes/us/document.h...   bad\n",
       "329942  fantasyfootballchallenge.com/101-16-1979/1979-...  good\n",
       "138710                              aritzia.com/locations  good\n",
       "52974                           www.ualberta.ca/~jreddon/  good\n",
       "355120             imf.org/external/np/rosc/gbr/index.htm  good\n",
       "79330                 lambertz.chez-alice.fr/swtesten.htm  good\n",
       "286904                                blankofireland.com/  good\n",
       "18154          jaymuda.com/wp-content/uploads/2013/Remax/   bad"
      ]
     },
     "execution_count": 198,
     "metadata": {},
     "output_type": "execute_result"
    }
   ],
   "source": [
    "data.sample(20)"
   ]
  },
  {
   "cell_type": "code",
   "execution_count": 199,
   "id": "e53cda4c",
   "metadata": {},
   "outputs": [],
   "source": [
    "data0 = data[data['Label'] == \"good\"]\n",
    "data1 = data[data['Label'] == \"bad\"]"
   ]
  },
  {
   "cell_type": "code",
   "execution_count": 200,
   "id": "9d2f51c8",
   "metadata": {},
   "outputs": [
    {
     "name": "stdout",
     "output_type": "stream",
     "text": [
      "<class 'pandas.core.frame.DataFrame'>\n",
      "Index: 114299 entries, 0 to 507195\n",
      "Data columns (total 2 columns):\n",
      " #   Column  Non-Null Count   Dtype \n",
      "---  ------  --------------   ----- \n",
      " 0   URL     114299 non-null  object\n",
      " 1   Label   114299 non-null  object\n",
      "dtypes: object(2)\n",
      "memory usage: 2.6+ MB\n"
     ]
    }
   ],
   "source": [
    "data1.info()"
   ]
  },
  {
   "cell_type": "code",
   "execution_count": 201,
   "id": "1f07c858",
   "metadata": {},
   "outputs": [],
   "source": [
    "legiurl = data0.sample(n = 5000, random_state = 12).copy()\n",
    "legiurl = legiurl.reset_index(drop=True)\n",
    "legiurl = legiurl.drop(columns=[\"Label\"])\n",
    "legiurl = legiurl.rename(columns={'URL': 'url'})"
   ]
  },
  {
   "cell_type": "code",
   "execution_count": 202,
   "id": "d47528ce",
   "metadata": {},
   "outputs": [
    {
     "data": {
      "text/html": [
       "<div>\n",
       "<style scoped>\n",
       "    .dataframe tbody tr th:only-of-type {\n",
       "        vertical-align: middle;\n",
       "    }\n",
       "\n",
       "    .dataframe tbody tr th {\n",
       "        vertical-align: top;\n",
       "    }\n",
       "\n",
       "    .dataframe thead th {\n",
       "        text-align: right;\n",
       "    }\n",
       "</style>\n",
       "<table border=\"1\" class=\"dataframe\">\n",
       "  <thead>\n",
       "    <tr style=\"text-align: right;\">\n",
       "      <th></th>\n",
       "      <th>url</th>\n",
       "    </tr>\n",
       "  </thead>\n",
       "  <tbody>\n",
       "    <tr>\n",
       "      <th>0</th>\n",
       "      <td>www.artima.com/intv/guido.html</td>\n",
       "    </tr>\n",
       "    <tr>\n",
       "      <th>1</th>\n",
       "      <td>canada.com/calgaryherald/news/calgarybusiness/...</td>\n",
       "    </tr>\n",
       "    <tr>\n",
       "      <th>2</th>\n",
       "      <td>shastacosportshof.org/northstate.htm</td>\n",
       "    </tr>\n",
       "    <tr>\n",
       "      <th>3</th>\n",
       "      <td>acapella.harmony-central.com/showthread.php?27...</td>\n",
       "    </tr>\n",
       "    <tr>\n",
       "      <th>4</th>\n",
       "      <td>models.com/models/Adriana-Lima/news</td>\n",
       "    </tr>\n",
       "  </tbody>\n",
       "</table>\n",
       "</div>"
      ],
      "text/plain": [
       "                                                 url\n",
       "0                     www.artima.com/intv/guido.html\n",
       "1  canada.com/calgaryherald/news/calgarybusiness/...\n",
       "2               shastacosportshof.org/northstate.htm\n",
       "3  acapella.harmony-central.com/showthread.php?27...\n",
       "4                models.com/models/Adriana-Lima/news"
      ]
     },
     "execution_count": 202,
     "metadata": {},
     "output_type": "execute_result"
    }
   ],
   "source": [
    "legiurl.head()"
   ]
  },
  {
   "cell_type": "code",
   "execution_count": 203,
   "id": "f95107d4",
   "metadata": {},
   "outputs": [],
   "source": [
    "phishurl = data1.sample(n = 5000, random_state = 12).copy()\n",
    "phishurl = phishurl.reset_index(drop=True)\n",
    "phishurl = phishurl.drop(columns=[\"Label\"])\n",
    "phishurl = phishurl.rename(columns={'URL': 'url'})"
   ]
  },
  {
   "cell_type": "code",
   "execution_count": 204,
   "id": "66a2d947",
   "metadata": {},
   "outputs": [
    {
     "data": {
      "text/html": [
       "<div>\n",
       "<style scoped>\n",
       "    .dataframe tbody tr th:only-of-type {\n",
       "        vertical-align: middle;\n",
       "    }\n",
       "\n",
       "    .dataframe tbody tr th {\n",
       "        vertical-align: top;\n",
       "    }\n",
       "\n",
       "    .dataframe thead th {\n",
       "        text-align: right;\n",
       "    }\n",
       "</style>\n",
       "<table border=\"1\" class=\"dataframe\">\n",
       "  <thead>\n",
       "    <tr style=\"text-align: right;\">\n",
       "      <th></th>\n",
       "      <th>url</th>\n",
       "    </tr>\n",
       "  </thead>\n",
       "  <tbody>\n",
       "    <tr>\n",
       "      <th>0</th>\n",
       "      <td>quetzalnegro.com/components/com_user/models/co...</td>\n",
       "    </tr>\n",
       "    <tr>\n",
       "      <th>1</th>\n",
       "      <td>fandangotapasbistro.com/DHL.php</td>\n",
       "    </tr>\n",
       "    <tr>\n",
       "      <th>2</th>\n",
       "      <td>ibjja.com/blog/wp-content/plugins/scribe/lib/h...</td>\n",
       "    </tr>\n",
       "    <tr>\n",
       "      <th>3</th>\n",
       "      <td>'9d345009-a-62cb3a1a-s-sites.googlegroups.com/...</td>\n",
       "    </tr>\n",
       "    <tr>\n",
       "      <th>4</th>\n",
       "      <td>ospk.net/</td>\n",
       "    </tr>\n",
       "  </tbody>\n",
       "</table>\n",
       "</div>"
      ],
      "text/plain": [
       "                                                 url\n",
       "0  quetzalnegro.com/components/com_user/models/co...\n",
       "1                    fandangotapasbistro.com/DHL.php\n",
       "2  ibjja.com/blog/wp-content/plugins/scribe/lib/h...\n",
       "3  '9d345009-a-62cb3a1a-s-sites.googlegroups.com/...\n",
       "4                                          ospk.net/"
      ]
     },
     "execution_count": 204,
     "metadata": {},
     "output_type": "execute_result"
    }
   ],
   "source": [
    "phishurl.head()"
   ]
  },
  {
   "cell_type": "markdown",
   "id": "72064e4b",
   "metadata": {},
   "source": [
    "# Feature Extraction:\n",
    "In this step, features are extracted from the URLs dataset.\n",
    "\n",
    "The extracted features are categorized into\n",
    "\n",
    "- Address Bar based Features\n",
    "- Domain based Features\n",
    "- HTML & Javascript based Features"
   ]
  },
  {
   "cell_type": "markdown",
   "id": "08194967",
   "metadata": {},
   "source": [
    "## 1. Address Bar Based Features:\n",
    "Many features can be extracted that can be consided as address bar base features. Out of them, below mentioned were considered for this project.\n",
    "\n",
    "- Domain of URL\n",
    "- IP Address in URL\n",
    "- \"@\" Symbol in URL\n",
    "- Length of URL\n",
    "- Depth of URL\n",
    "- Redirection \"//\" in URL\n",
    "- \"http/https\" in Domain name\n",
    "- Using URL Shortening Services “TinyURL”\n",
    "- Prefix or Suffix \"-\" in Domain\n",
    "\n",
    "Each of these features are explained and the coded below:"
   ]
  },
  {
   "cell_type": "code",
   "execution_count": 205,
   "id": "6d8107d8",
   "metadata": {},
   "outputs": [],
   "source": [
    "# importing required packages for this section\n",
    "from urllib.parse import urlparse,urlencode\n",
    "import ipaddress\n",
    "import re\n",
    "from urllib.parse import urlparse\n",
    "import requests\n",
    "import whois"
   ]
  },
  {
   "cell_type": "markdown",
   "id": "62f05885",
   "metadata": {},
   "source": [
    "## 1.1. Domain of the URL\n",
    "Here, we are just extracting the domain present in the URL. This feature doesn't have much significance in the training. May even be dropped while training the model."
   ]
  },
  {
   "cell_type": "code",
   "execution_count": 206,
   "id": "d0c11d8e",
   "metadata": {},
   "outputs": [],
   "source": [
    "# from urllib.parse import urlparse\n",
    "\n",
    "# def getDomain(url):\n",
    "#     # Check if the URL has a scheme, if not, prepend \"http://\" as a default scheme\n",
    "#     if not urlparse(url).scheme:\n",
    "#         url = \"http://\" + url\n",
    "    \n",
    "#     domain = urlparse(url).netloc\n",
    "#     if re.match(r\"^www.\",domain):\n",
    "#         domain = domain.replace(\"www.\",\"\")\n",
    "#     return domain\n",
    "\n",
    "# url = \"www.example.com/path/to/page\"\n",
    "# domain = getDomain(url)\n",
    "# print(f\"The URL is: {url}\")\n",
    "# print(f\"The domain is: {domain}\")"
   ]
  },
  {
   "cell_type": "markdown",
   "id": "1abf84ed",
   "metadata": {},
   "source": [
    "## 1.2. IP Address in the URL\n",
    "Checks for the presence of IP address in the URL. URLs may have IP address instead of domain name. If an IP address is used as an alternative of the domain name in the URL, we can be sure that someone is trying to steal personal information with this URL.\n",
    "\n",
    "If the domain part of URL has IP address, the value assigned to this feature is 1 (phishing) or else 0 (legitimate)."
   ]
  },
  {
   "cell_type": "code",
   "execution_count": 207,
   "id": "d8d16a8b",
   "metadata": {},
   "outputs": [],
   "source": [
    "# # 2.Checks for IP address in URL (Have_IP)\n",
    "# def havingIP(url):\n",
    "#   try:\n",
    "#     ipaddress.ip_address(url)\n",
    "#     ip = 1\n",
    "#   except:\n",
    "#     ip = 0\n",
    "#   return ip"
   ]
  },
  {
   "cell_type": "markdown",
   "id": "2b041cd8",
   "metadata": {},
   "source": [
    "## 1.3. \"@\" Symbol in URL\n",
    "Checks for the presence of '@' symbol in the URL. Using “@” symbol in the URL leads the browser to ignore everything preceding the “@” symbol and the real address often follows the “@” symbol.\n",
    "\n",
    "If the URL has '@' symbol, the value assigned to this feature is 1 (phishing) or else 0 (legitimate)."
   ]
  },
  {
   "cell_type": "code",
   "execution_count": 208,
   "id": "37ac9ebb",
   "metadata": {},
   "outputs": [],
   "source": [
    "# # 3.Checks the presence of @ in URL (Have_At)\n",
    "# def haveAtSign(url):\n",
    "#   if \"@\" in url:\n",
    "#     at = 1    \n",
    "#   else:\n",
    "#     at = 0    \n",
    "#   return at"
   ]
  },
  {
   "cell_type": "markdown",
   "id": "0bef3015",
   "metadata": {},
   "source": [
    "## 1.4. Length of URL\n",
    "Computes the length of the URL. Phishers can use long URL to hide the doubtful part in the address bar. In this project, if the length of the URL is greater than or equal 54 characters then the URL classified as phishing otherwise legitimate.\n",
    "\n",
    "If the length of URL >= 54 , the value assigned to this feature is 1 (phishing) or else 0 (legitimate)."
   ]
  },
  {
   "cell_type": "code",
   "execution_count": 209,
   "id": "dcfa2a84",
   "metadata": {},
   "outputs": [],
   "source": [
    "# # 4.Finding the length of URL and categorizing (URL_Length)\n",
    "# def getLength(url):\n",
    "#   if len(url) < 54:\n",
    "#     length = 0            \n",
    "#   else:\n",
    "#     length = 1            \n",
    "#   return length"
   ]
  },
  {
   "cell_type": "markdown",
   "id": "b241e286",
   "metadata": {},
   "source": [
    "## 1.5. Depth of URL\n",
    "Computes the depth of the URL. This feature calculates the number of sub pages in the given url based on the '/'.\n",
    "\n",
    "The value of feature is a numerical based on the URL."
   ]
  },
  {
   "cell_type": "code",
   "execution_count": 210,
   "id": "215a2529",
   "metadata": {},
   "outputs": [],
   "source": [
    "# # 5.Gives number of '/' in URL (URL_Depth)\n",
    "# def getDepth(url):\n",
    "#   s = urlparse(url).path.split('/')\n",
    "#   depth = 0\n",
    "#   for j in range(len(s)):\n",
    "#     if len(s[j]) != 0:\n",
    "#       depth = depth+1\n",
    "#   return depth"
   ]
  },
  {
   "cell_type": "markdown",
   "id": "4741eb2c",
   "metadata": {},
   "source": [
    "## 1.6. Redirection \"//\" in URL\n",
    "Checks the presence of \"//\" in the URL. The existence of “//” within the URL path means that the user will be redirected to another website. The location of the “//” in URL is computed. We find that if the URL starts with “HTTP”, that means the “//” should appear in the sixth position. However, if the URL employs “HTTPS” then the “//” should appear in seventh position.\n",
    "\n",
    "If the \"//\" is anywhere in the URL apart from after the protocal, thee value assigned to this feature is 1 (phishing) or else 0 (legitimate)."
   ]
  },
  {
   "cell_type": "code",
   "execution_count": 211,
   "id": "09d34ac1",
   "metadata": {},
   "outputs": [],
   "source": [
    "# # 6.Checking for redirection '//' in the url (Redirection)\n",
    "# def redirection(url):\n",
    "#   pos = url.rfind('//')\n",
    "#   if pos > 6:\n",
    "#     if pos > 7:\n",
    "#       return 1\n",
    "#     else:\n",
    "#       return 0\n",
    "#   else:\n",
    "#     return 0"
   ]
  },
  {
   "cell_type": "markdown",
   "id": "8466e1ec",
   "metadata": {},
   "source": [
    "## 1.7. \"http/https\" in Domain name\n",
    "Checks for the presence of \"http/https\" in the domain part of the URL. The phishers may add the “HTTPS” token to the domain part of a URL in order to trick users.\n",
    "\n",
    "If the URL has \"http/https\" in the domain part, the value assigned to this feature is 1 (phishing) or else 0 (legitimate)."
   ]
  },
  {
   "cell_type": "code",
   "execution_count": 212,
   "id": "d4214cb5",
   "metadata": {},
   "outputs": [],
   "source": [
    "# # 7.Existence of “HTTPS” Token in the Domain Part of the URL (https_Domain)\n",
    "# def httpDomain(url):\n",
    "#   domain = urlparse(url).netloc\n",
    "#   if 'https' in domain:\n",
    "#     return 1\n",
    "#   else:\n",
    "#     return 0"
   ]
  },
  {
   "cell_type": "markdown",
   "id": "0c702749",
   "metadata": {},
   "source": [
    "## 1.8. Using URL Shortening Services “TinyURL”\n",
    "URL shortening is a method on the “World Wide Web” in which a URL may be made considerably smaller in length and still lead to the required webpage. This is accomplished by means of an “HTTP Redirect” on a domain name that is short, which links to the webpage that has a long URL.\n",
    "\n",
    "If the URL is using Shortening Services, the value assigned to this feature is 1 (phishing) or else 0 (legitimate)."
   ]
  },
  {
   "cell_type": "code",
   "execution_count": 213,
   "id": "0b122b70",
   "metadata": {},
   "outputs": [],
   "source": [
    "#listing shortening services\n",
    "shortening_services = r\"bit\\.ly|goo\\.gl|shorte\\.st|go2l\\.ink|x\\.co|ow\\.ly|t\\.co|tinyurl|tr\\.im|is\\.gd|cli\\.gs|\" \\\n",
    "                      r\"yfrog\\.com|migre\\.me|ff\\.im|tiny\\.cc|url4\\.eu|twit\\.ac|su\\.pr|twurl\\.nl|snipurl\\.com|\" \\\n",
    "                      r\"short\\.to|BudURL\\.com|ping\\.fm|post\\.ly|Just\\.as|bkite\\.com|snipr\\.com|fic\\.kr|loopt\\.us|\" \\\n",
    "                      r\"doiop\\.com|short\\.ie|kl\\.am|wp\\.me|rubyurl\\.com|om\\.ly|to\\.ly|bit\\.do|t\\.co|lnkd\\.in|db\\.tt|\" \\\n",
    "                      r\"qr\\.ae|adf\\.ly|goo\\.gl|bitly\\.com|cur\\.lv|tinyurl\\.com|ow\\.ly|bit\\.ly|ity\\.im|q\\.gs|is\\.gd|\" \\\n",
    "                      r\"po\\.st|bc\\.vc|twitthis\\.com|u\\.to|j\\.mp|buzurl\\.com|cutt\\.us|u\\.bb|yourls\\.org|x\\.co|\" \\\n",
    "                      r\"prettylinkpro\\.com|scrnch\\.me|filoops\\.info|vzturl\\.com|qr\\.net|1url\\.com|tweez\\.me|v\\.gd|\" \\\n",
    "                      r\"tr\\.im|link\\.zip\\.net\""
   ]
  },
  {
   "cell_type": "code",
   "execution_count": 214,
   "id": "ad85a866",
   "metadata": {},
   "outputs": [],
   "source": [
    "# 8. Checking for Shortening Services in URL (Tiny_URL)\n",
    "def tinyURL(url):\n",
    "    match=re.search(shortening_services,url)\n",
    "    if match:\n",
    "        return 1\n",
    "    else:\n",
    "        return 0"
   ]
  },
  {
   "cell_type": "markdown",
   "id": "fba815d1",
   "metadata": {},
   "source": [
    "## 1.9. Prefix or Suffix \"-\" in Domain\n",
    "Checking the presence of '-' in the domain part of URL. The dash symbol is rarely used in legitimate URLs. Phishers tend to add prefixes or suffixes separated by (-) to the domain name so that users feel that they are dealing with a legitimate webpage.\n",
    "\n",
    "If the URL has '-' symbol in the domain part of the URL, the value assigned to this feature is 1 (phishing) or else 0 (legitimate)."
   ]
  },
  {
   "cell_type": "code",
   "execution_count": 215,
   "id": "ad1dca65",
   "metadata": {},
   "outputs": [],
   "source": [
    "# # 9.Checking for Prefix or Suffix Separated by (-) in the Domain (Prefix/Suffix)\n",
    "# def prefixSuffix(url):\n",
    "#     if '-' in urlparse(url).netloc:\n",
    "#         return 1            # phishing\n",
    "#     else:\n",
    "#         return 0            # legitimate"
   ]
  },
  {
   "cell_type": "markdown",
   "id": "296452cb",
   "metadata": {},
   "source": [
    "# 2. Domain Based Features:\n",
    "Many features can be extracted that come under this category. Out of them, below mentioned were considered for this project.\n",
    "\n",
    "- DNS Record\n",
    "- Website Traffic\n",
    "- Age of Domain\n",
    "- End Period of Domain\n",
    "\n",
    "\n",
    "Each of these features are explained and the coded below:"
   ]
  },
  {
   "cell_type": "code",
   "execution_count": 216,
   "id": "4d809585",
   "metadata": {},
   "outputs": [],
   "source": [
    "# importing required packages for this section\n",
    "# import re\n",
    "# from bs4 import BeautifulSoup\n",
    "# import whois\n",
    "# import urllib\n",
    "# import urllib.request\n",
    "# from datetime import datetime"
   ]
  },
  {
   "cell_type": "markdown",
   "id": "4d4620a6",
   "metadata": {},
   "source": [
    "## 2.1. DNS Record\n",
    "For phishing websites, either the claimed identity is not recognized by the WHOIS database or no records founded for the hostname. If the DNS record is empty or not found then, the value assigned to this feature is 1 (phishing) or else 0 (legitimate)."
   ]
  },
  {
   "cell_type": "code",
   "execution_count": 217,
   "id": "2efe3f61",
   "metadata": {},
   "outputs": [],
   "source": [
    "# import whois\n",
    "# import dns.resolver\n",
    "\n",
    "# def dns_record(url):\n",
    "#     print(\"Start\")\n",
    "\n",
    "#     # Check WHOIS information\n",
    "#     try:\n",
    "#         domain_info = whois.whois(url)\n",
    "#         if not domain_info:\n",
    "#             # WHOIS information not recognized\n",
    "#             return 1  # phishing\n",
    "#     except whois.parser.PywhoisError:\n",
    "#         # Exception occurs when WHOIS information is not found\n",
    "#         return 1  # phishing\n",
    "\n",
    "#     # Check DNS records\n",
    "#     try:\n",
    "#         answers = dns.resolver.resolve(url, 'A')\n",
    "#         if not answers:\n",
    "#             # DNS record not found\n",
    "#             return 1  # phishing\n",
    "#     except dns.resolver.NXDOMAIN:\n",
    "#         # Exception occurs when DNS record is not found\n",
    "#         return 1  # phishing\n",
    "\n",
    "#     # If both WHOIS and DNS records are found, consider it legitimate\n",
    "#     return 0  # legitimate\n",
    "\n",
    "#     print(\"End\")\n",
    "\n",
    "# # Example usage:\n",
    "# url = \"example.com\"\n",
    "# result = dns_record(url)\n",
    "# if result == 1:\n",
    "#     print(f\"The URL '{url}' is likely a phishing website.\")\n",
    "# else:\n",
    "#     print(f\"The URL '{url}' is likely a legitimate website.\")"
   ]
  },
  {
   "cell_type": "markdown",
   "id": "633c149a",
   "metadata": {},
   "source": [
    "## 2.2. Web Traffic\n",
    "This feature measures the popularity of the website by determining the number of visitors and the number of pages they visit. However, since phishing websites live for a short period of time, they may not be recognized by the Alexa database (Alexa the Web Information Company., 1996). By reviewing our dataset, we find that in worst scenarios, legitimate websites ranked among the top 100,000. Furthermore, if the domain has no traffic or is not recognized by the Alexa database, it is classified as “Phishing”.\n",
    "\n",
    "If the rank of the domain < 100000, the vlaue of this feature is 1 (phishing) else 0 (legitimate)."
   ]
  },
  {
   "cell_type": "code",
   "execution_count": 218,
   "id": "2865bbaf",
   "metadata": {},
   "outputs": [],
   "source": [
    "# from urllib.parse import quote\n",
    "# from bs4 import BeautifulSoup\n",
    "\n",
    "# def web_traffic(url):\n",
    "#     # Check if the URL has a scheme, if not, prepend \"http://\" as a default scheme\n",
    "#     if not urlparse(url).scheme:\n",
    "#         url = \"http://\" + url\n",
    "      \n",
    "#     try:\n",
    "#         #Filling the whitespaces in the URL if any\n",
    "#         url = urllib.parse.quote(url)\n",
    "#         rank = BeautifulSoup(urllib.request.urlopen(\"http://data.alexa.com/data?cli=10&dat=s&url=\" + url).read(), \"xml\").find(\n",
    "#             \"REACH\")['RANK']\n",
    "#         rank = int(rank)\n",
    "#     except TypeError:\n",
    "#         return 1\n",
    "    \n",
    "#     if rank <100000:\n",
    "#         return 1\n",
    "#     else:\n",
    "#         return 0\n"
   ]
  },
  {
   "cell_type": "markdown",
   "id": "ea0aae67",
   "metadata": {},
   "source": [
    "## 2.3. Age of Domain\n",
    "This feature can be extracted from WHOIS database. Most phishing websites live for a short period of time. The minimum age of the legitimate domain is considered to be 12 months for this project. Age here is nothing but different between creation and expiration time.\n",
    "\n",
    "If age of domain > 12 months, the vlaue of this feature is 1 (phishing) else 0 (legitimate)."
   ]
  },
  {
   "cell_type": "code",
   "execution_count": 219,
   "id": "129c38e3",
   "metadata": {},
   "outputs": [],
   "source": [
    "# # 13.Survival time of domain: The difference between termination time and creation time (Domain_Age)  \n",
    "# from datetime import datetime\n",
    "\n",
    "# def calculate_domain_age(creation_date, expiration_date):\n",
    "#     # Check if creation and expiration dates are lists\n",
    "#     if isinstance(creation_date, list):\n",
    "#         # Use the first item in the list (assuming it's the most recent date)\n",
    "#         creation_date = creation_date[0] if creation_date else None\n",
    "\n",
    "#     if isinstance(expiration_date, list):\n",
    "#         # Use the first item in the list (assuming it's the most recent date)\n",
    "#         expiration_date = expiration_date[0] if expiration_date else None\n",
    "\n",
    "#     # Check if both creation and expiration dates are available\n",
    "#     if creation_date is not None and expiration_date is not None:\n",
    "#         # Calculate the difference between creation and expiration dates\n",
    "#         age = expiration_date - creation_date\n",
    "#         # Return the age in months\n",
    "#         return age.days // 30\n",
    "\n",
    "#     # If creation or expiration dates are not available, return None\n",
    "#     return None\n",
    "\n",
    "# def domainAge(url):\n",
    "#     try:\n",
    "#         # Check WHOIS information\n",
    "#         domain_info = whois.whois(url)\n",
    "#         if not domain_info:\n",
    "#             # WHOIS information not recognized\n",
    "# #             print(f\"WHOIS information not found for {url}\")\n",
    "#             return 1  # phishing\n",
    "#     except whois.parser.PywhoisError as e:\n",
    "#         # Exception occurs when WHOIS information is not found\n",
    "# #         print(f\"Error retrieving WHOIS information: {e}\")\n",
    "#         return 1  # phishing\n",
    "\n",
    "#     # Extract creation and expiration dates\n",
    "#     creation_date = domain_info.creation_date\n",
    "#     expiration_date = domain_info.expiration_date\n",
    "\n",
    "# #     print(f\"Creation Date: {creation_date}\")\n",
    "# #     print(f\"Expiration Date: {expiration_date}\")\n",
    "\n",
    "#     # Calculate domain age in months\n",
    "#     age_in_months = calculate_domain_age(creation_date, expiration_date)\n",
    "\n",
    "# #     print(f\"Domain Age in Months: {age_in_months}\")\n",
    "\n",
    "#     # Check if the age is less than 12 months\n",
    "#     if age_in_months is not None and age_in_months < 12:\n",
    "#         return 1  # phishing\n",
    "#     elif age_in_months is None:\n",
    "#         return 1\n",
    "#     else: \n",
    "#         return 0\n",
    "\n",
    "# # example\n",
    "# url = \"google.com\"\n",
    "# result = domainAge(url)\n",
    "# if result == 1:\n",
    "#     print(f\"The URL '{url}' is likely a phishing website.\")\n",
    "# else:\n",
    "#     print(f\"The URL '{url}' is likely a legitimate website.\")\n"
   ]
  },
  {
   "cell_type": "markdown",
   "id": "678ac280",
   "metadata": {},
   "source": [
    "## 2.4. End Period of Domain\n",
    "This feature can be extracted from WHOIS database. For this feature, the remaining domain time is calculated by finding the different between expiration time & current time. The end period considered for the legitimate domain is 6 months or less for this project.\n",
    "\n",
    "If end period of domain > 6 months, the vlaue of this feature is 1 (phishing) else 0 (legitimate)."
   ]
  },
  {
   "cell_type": "code",
   "execution_count": 220,
   "id": "107e1bcb",
   "metadata": {},
   "outputs": [],
   "source": [
    "# # 14.End time of domain: The difference between termination time and current time (Domain_End) \n",
    "# from datetime import datetime\n",
    "\n",
    "# def calculate_months_until_expiration(expiration_date):\n",
    "#     # Check if expiration date is a list\n",
    "#     if isinstance(expiration_date, list):\n",
    "#         # Use the first item in the list (assuming it's the most recent date)\n",
    "#         expiration_date = expiration_date[0] if expiration_date else None\n",
    "\n",
    "#     # Check if expiration date is available\n",
    "#     if expiration_date is not None:\n",
    "#         # Calculate the remaining months until expiration\n",
    "#         remaining_months = (expiration_date - datetime.now()).days // 30\n",
    "#         return remaining_months\n",
    "\n",
    "#     # If expiration date is not available, return None\n",
    "#     return None\n",
    "\n",
    "# def domainEnd(url, threshold_months=6):\n",
    "#     try:\n",
    "#         # Check WHOIS information\n",
    "#         domain_info = whois.whois(url)\n",
    "#         if not domain_info:\n",
    "#             # WHOIS information not recognized\n",
    "# #             print(f\"WHOIS information not found for {url}\")\n",
    "#             return 1  # phishing\n",
    "#     except whois.parser.PywhoisError as e:\n",
    "#         # Exception occurs when WHOIS information is not found\n",
    "# #         print(f\"Error retrieving WHOIS information: {e}\")\n",
    "#         return 1  # phishing\n",
    "\n",
    "#     # Extract expiration date\n",
    "#     expiration_date = domain_info.expiration_date\n",
    "\n",
    "# #     print(f\"Expiration Date: {expiration_date}\")\n",
    "\n",
    "#     # Calculate remaining months until expiration\n",
    "#     remaining_months = calculate_months_until_expiration(expiration_date)\n",
    "\n",
    "# #     print(f\"Remaining Months Until Expiration: {remaining_months}\")\n",
    "\n",
    "#     # Check if the remaining months are greater than the threshold\n",
    "#     if remaining_months is not None and remaining_months > threshold_months:\n",
    "#         return 0  # legitimate\n",
    "\n",
    "#     # If expiration date is not available or end period is 6 months or less, consider it potential phishing\n",
    "#     return 1  # phishing\n",
    "\n",
    "# # Example usage:\n",
    "# # url = \"spotify.com\"\n",
    "# # result = domainEnd(url)\n",
    "# # if result == 1:\n",
    "# #     print(f\"The URL '{url}' is likely a phishing website.\")\n",
    "# # else:\n",
    "# #     print(f\"The URL '{url}' is likely a legitimate website with a long end period.\")\n"
   ]
  },
  {
   "cell_type": "markdown",
   "id": "588fb143",
   "metadata": {},
   "source": [
    "## 3. HTML and JavaScript based Features\n",
    "Many features can be extracted that come under this category. Out of them, below mentioned were considered for this project.\n",
    "\n",
    "- IFrame Redirection\n",
    "- Status Bar Customization\n",
    "- Disabling Right Click\n",
    "- Website Forwarding\n",
    "\n",
    "\n",
    "Each of these features are explained and the coded below:"
   ]
  },
  {
   "cell_type": "markdown",
   "id": "8a3219af",
   "metadata": {},
   "source": [
    "## 3.1. IFrame Redirection\n",
    "IFrame is an HTML tag used to display an additional webpage into one that is currently shown. Phishers can make use of the “iframe” tag and make it invisible i.e. without frame borders. In this regard, phishers make use of the “frameBorder” attribute which causes the browser to render a visual delineation.\n",
    "\n",
    "If the iframe is empty or repsonse is not found then, the value assigned to this feature is 1 (phishing) or else 0 (legitimate)."
   ]
  },
  {
   "cell_type": "code",
   "execution_count": 221,
   "id": "287e3ed0",
   "metadata": {},
   "outputs": [],
   "source": [
    "# 15. IFrame Redirection (iFrame)\n",
    "def iframe(response):\n",
    "  if response == \"\":\n",
    "      return 1\n",
    "  else:\n",
    "      if re.findall(r\"[<iframe>|<frameBorder>]\", response.text):\n",
    "          return 0\n",
    "      else:\n",
    "          return 1"
   ]
  },
  {
   "cell_type": "markdown",
   "id": "c7a22a23",
   "metadata": {},
   "source": [
    "## 3.2. Status Bar Customization\n",
    "Phishers may use JavaScript to show a fake URL in the status bar to users. To extract this feature, we must dig-out the webpage source code, particularly the “onMouseOver” event, and check if it makes any changes on the status bar\n",
    "\n",
    "If the response is empty or onmouseover is found then, the value assigned to this feature is 1 (phishing) or else 0 (legitimate)."
   ]
  },
  {
   "cell_type": "code",
   "execution_count": 222,
   "id": "e67492ab",
   "metadata": {},
   "outputs": [],
   "source": [
    "# 16.Checks the effect of mouse over on status bar (Mouse_Over)\n",
    "def mouseOver(response): \n",
    "  if response == \"\" :\n",
    "    return 1\n",
    "  else:\n",
    "    if re.findall(\"<script>.+onmouseover.+</script>\", response.text):\n",
    "      return 1\n",
    "    else:\n",
    "      return 0"
   ]
  },
  {
   "cell_type": "markdown",
   "id": "6a61d011",
   "metadata": {},
   "source": [
    "## 3.3. Disabling Right Click\n",
    "Phishers use JavaScript to disable the right-click function, so that users cannot view and save the webpage source code. This feature is treated exactly as “Using onMouseOver to hide the Link”. Nonetheless, for this feature, we will search for event “event.button==2” in the webpage source code and check if the right click is disabled.\n",
    "\n",
    "If the response is empty or onmouseover is not found then, the value assigned to this feature is 1 (phishing) or else 0 (legitimate)."
   ]
  },
  {
   "cell_type": "code",
   "execution_count": 223,
   "id": "90936168",
   "metadata": {},
   "outputs": [],
   "source": [
    "# 17.Checks the status of the right click attribute (Right_Click)\n",
    "def rightClick(response):\n",
    "  if response == \"\":\n",
    "    return 1\n",
    "  else:\n",
    "    if re.findall(r\"event.button ?== ?2\", response.text):\n",
    "      return 0\n",
    "    else:\n",
    "      return 1"
   ]
  },
  {
   "cell_type": "markdown",
   "id": "514b1255",
   "metadata": {},
   "source": [
    "## 3.4. Website Forwarding\n",
    "The fine line that distinguishes phishing websites from legitimate ones is how many times a website has been redirected. In our dataset, we find that legitimate websites have been redirected one time max. On the other hand, phishing websites containing this feature have been redirected at least 4 times."
   ]
  },
  {
   "cell_type": "code",
   "execution_count": 224,
   "id": "62fedecd",
   "metadata": {},
   "outputs": [],
   "source": [
    "# 18.Checks the number of forwardings (Web_Forwards)    \n",
    "def forwarding(response):\n",
    "  if response == \"\":\n",
    "    return 1\n",
    "  else:\n",
    "    if len(response.history) <= 2:\n",
    "      return 0\n",
    "    else:\n",
    "      return 1"
   ]
  },
  {
   "cell_type": "markdown",
   "id": "b43d9594",
   "metadata": {},
   "source": [
    "#  New Features\n",
    "\n",
    "## 1. Number of Dots\n",
    "\n",
    "The number of dots in the URL. Phishing URLs may have an excessive number of dots in an attempt to mimic legitimate domains."
   ]
  },
  {
   "cell_type": "code",
   "execution_count": 225,
   "id": "99d2f6fb",
   "metadata": {},
   "outputs": [],
   "source": [
    "from urllib.parse import urlparse\n",
    "\n",
    "def num_dots(url):\n",
    "    return url.count('.')"
   ]
  },
  {
   "cell_type": "markdown",
   "id": "8b3f0a5d",
   "metadata": {},
   "source": [
    "## 2. Subdomain Level\n",
    "\n",
    "The number of subdomains in the URL. Phishing URLs often use subdomains to create a false sense of legitimacy."
   ]
  },
  {
   "cell_type": "code",
   "execution_count": 226,
   "id": "8fd9c5b9",
   "metadata": {},
   "outputs": [],
   "source": [
    "def subdomain_level(url):\n",
    "    parsed_url = urlparse(url)\n",
    "    if parsed_url.hostname:\n",
    "        subdomains = parsed_url.hostname.split('.')\n",
    "        return len(subdomains)\n",
    "    else:\n",
    "        subdomains = parsed_url.path.split('.')\n",
    "        return len(subdomains)"
   ]
  },
  {
   "cell_type": "markdown",
   "id": "54d68405",
   "metadata": {},
   "source": [
    "## 3. Path Level\n",
    "\n",
    "The depth of the URL path. Phishing URLs may have longer paths to hide malicious content."
   ]
  },
  {
   "cell_type": "code",
   "execution_count": 227,
   "id": "0f9ecb43",
   "metadata": {},
   "outputs": [],
   "source": [
    "def path_level(url):\n",
    "    path = urlparse(url).path\n",
    "    return path.count('/') + 1  # Add 1 to account for the root path"
   ]
  },
  {
   "cell_type": "markdown",
   "id": "b58b5681",
   "metadata": {},
   "source": [
    "## 4. URL length\n",
    "\n",
    "The overall length of the URL. Phishing URLs may be longer to obfuscate their true nature."
   ]
  },
  {
   "cell_type": "code",
   "execution_count": 228,
   "id": "1feed1a0",
   "metadata": {},
   "outputs": [],
   "source": [
    "def url_length(url):\n",
    "    return len(url)\n"
   ]
  },
  {
   "cell_type": "markdown",
   "id": "e8135c62",
   "metadata": {},
   "source": [
    "## 5. Number of Dash\n",
    "\n",
    "The number of dashes in the URL. Phishing URLs may use dashes to imitate legitimate URLs or create confusion."
   ]
  },
  {
   "cell_type": "code",
   "execution_count": 229,
   "id": "9f458c2f",
   "metadata": {},
   "outputs": [],
   "source": [
    "def num_dash(url):\n",
    "    return url.count('-')\n",
    "\n",
    "# url = \"example-12-34-slf.com\"\n",
    "# num_dash(url)"
   ]
  },
  {
   "cell_type": "markdown",
   "id": "c566a255",
   "metadata": {},
   "source": [
    "## 6. Number of Dash in HostName\n",
    "\n",
    "The number of dashes in the hostname. Phishing URLs may use dashes to mimic legitimate domain names."
   ]
  },
  {
   "cell_type": "code",
   "execution_count": 230,
   "id": "ee690545",
   "metadata": {},
   "outputs": [],
   "source": [
    "def num_dash_in_hostname(url):\n",
    "    parsed_url = urlparse(url)\n",
    "    return parsed_url.netloc.count('-') + parsed_url.path.count('-')\n",
    "\n",
    "# url=\"https://exampl-e.com/-aldksjf/-adnj\"\n",
    "# num_dash_in_hostname(url)"
   ]
  },
  {
   "cell_type": "markdown",
   "id": "f1611658",
   "metadata": {},
   "source": [
    "## 7. @ symbol\n",
    "\n",
    "Presence of the '@' symbol in the URL. Phishing URLs might use this to disguise their true nature or imitate login pages."
   ]
  },
  {
   "cell_type": "code",
   "execution_count": 231,
   "id": "3fb3fbd0",
   "metadata": {},
   "outputs": [
    {
     "data": {
      "text/plain": [
       "4"
      ]
     },
     "execution_count": 231,
     "metadata": {},
     "output_type": "execute_result"
    }
   ],
   "source": [
    "def at_symbol(url):\n",
    "    parsed_url = urlparse(url)\n",
    "    return url.count('@')\n",
    "    \n",
    "url = \"https://exam@ple23@4523@.com/@\"\n",
    "at_symbol(url)"
   ]
  },
  {
   "cell_type": "markdown",
   "id": "6fc8c258",
   "metadata": {},
   "source": [
    "## 8. ~ symbol\n",
    "\n",
    "Presence of the '~' symbol in the URL. Phishing URLs may use uncommon symbols to evade detection or mimic legitimate URLs."
   ]
  },
  {
   "cell_type": "code",
   "execution_count": 232,
   "id": "98c0d5bf",
   "metadata": {},
   "outputs": [],
   "source": [
    "def tilde_symbol(url):\n",
    "    parsed_url = urlparse(url)\n",
    "    return url.count('~')\n",
    "\n",
    "# url = \"e~xample234~523.com/alkjflkj~\"\n",
    "# tilde_symbol(url)"
   ]
  },
  {
   "cell_type": "markdown",
   "id": "f4d7d587",
   "metadata": {},
   "source": [
    "## 9. Number of underscore _\n",
    "\n",
    "The number of underscores in the URL. Phishing URLs may use underscores to simulate legitimate URLs."
   ]
  },
  {
   "cell_type": "code",
   "execution_count": 233,
   "id": "9735e277",
   "metadata": {},
   "outputs": [],
   "source": [
    "def num_underscore(url):\n",
    "    parsed_url = urlparse(url)\n",
    "    return parsed_url.netloc.count('_') + parsed_url.path.count('_') + parsed_url.query.count('_') + parsed_url.fragment.count('_') \n",
    "    \n",
    "\n",
    "# url = \"example_23_45_23_.com\"\n",
    "# num_underscore(url)"
   ]
  },
  {
   "cell_type": "markdown",
   "id": "ae473497",
   "metadata": {},
   "source": [
    "## 10. Number of %\n",
    "\n",
    "The number of percent symbols in the URL. Phishing URLs may use percent encoding to hide malicious content."
   ]
  },
  {
   "cell_type": "code",
   "execution_count": 234,
   "id": "6a788c85",
   "metadata": {},
   "outputs": [],
   "source": [
    "def num_percent(url):\n",
    "    parsed_url = urlparse(url)\n",
    "    return parsed_url.netloc.count('%') + parsed_url.path.count('%') + parsed_url.query.count('%') + parsed_url.fragment.count('%') \n",
    "\n",
    "# url = \"example%23%45%23.com\"\n",
    "# num_percent(url)"
   ]
  },
  {
   "cell_type": "markdown",
   "id": "65948c96",
   "metadata": {},
   "source": [
    "## 11. Number of Query Components\n",
    "\n",
    "The number of components in the query string. Phishing URLs might use complex query strings to obfuscate their purpose."
   ]
  },
  {
   "cell_type": "code",
   "execution_count": 235,
   "id": "004680ba",
   "metadata": {},
   "outputs": [],
   "source": [
    "from urllib.parse import urlparse, parse_qs\n",
    "import re\n",
    "import ipaddress"
   ]
  },
  {
   "cell_type": "code",
   "execution_count": 236,
   "id": "ac80cdb6",
   "metadata": {},
   "outputs": [],
   "source": [
    "def num_query_components(url):\n",
    "    parsed_url = urlparse(url)\n",
    "    return len(parse_qs(parsed_url.query))"
   ]
  },
  {
   "cell_type": "markdown",
   "id": "9358e894",
   "metadata": {},
   "source": [
    "## 12. Number of '&' symbol\n",
    "\n",
    "The number of ampersands in the URL. Phishing URLs may use multiple ampersands in the query string to confuse users."
   ]
  },
  {
   "cell_type": "code",
   "execution_count": 237,
   "id": "82c51407",
   "metadata": {},
   "outputs": [],
   "source": [
    "def num_ampersand(url):\n",
    "    return url.count('&')"
   ]
  },
  {
   "cell_type": "markdown",
   "id": "23365944",
   "metadata": {},
   "source": [
    "## 13. Number of '#' symbols\n",
    "\n",
    "The number of hash symbols in the URL. Phishing URLs might use hash symbols to hide parameters or fragments."
   ]
  },
  {
   "cell_type": "code",
   "execution_count": 238,
   "id": "7b840a98",
   "metadata": {},
   "outputs": [],
   "source": [
    "def num_hash(url):\n",
    "    return url.count('#')"
   ]
  },
  {
   "cell_type": "markdown",
   "id": "131bea8f",
   "metadata": {},
   "source": [
    "## 14. Number of Numeric Characters\n",
    "\n",
    "The number of numeric characters in the URL. Phishing URLs may include random numbers to evade detection."
   ]
  },
  {
   "cell_type": "code",
   "execution_count": 239,
   "id": "7863dd90",
   "metadata": {},
   "outputs": [],
   "source": [
    "def num_numeric_chars(url):\n",
    "    return sum(c.isdigit() for c in url)"
   ]
  },
  {
   "cell_type": "markdown",
   "id": "ec4776c7",
   "metadata": {},
   "source": [
    "## 15. No HTTPS\n",
    "\n",
    "Indicates if the URL doesn't use HTTPS. Phishing URLs may lack secure connections to impersonate legitimate sites."
   ]
  },
  {
   "cell_type": "code",
   "execution_count": 240,
   "id": "1e310b9e",
   "metadata": {},
   "outputs": [],
   "source": [
    "def no_https(url):\n",
    "    parsed_url = urlparse(url)\n",
    "    if (parsed_url.scheme==\"https\" or parsed_url.scheme==\"\"):\n",
    "        return 0\n",
    "    else:\n",
    "        return 1\n",
    "\n",
    "# url = \"google.com\"\n",
    "# no_https(url)"
   ]
  },
  {
   "cell_type": "markdown",
   "id": "079a4040",
   "metadata": {},
   "source": [
    "## 16. Random String\n",
    "\n",
    "Presence of a random-looking string in the URL. Phishing URLs might use random strings to disguise their identity."
   ]
  },
  {
   "cell_type": "code",
   "execution_count": 241,
   "id": "e138f586",
   "metadata": {},
   "outputs": [],
   "source": [
    "import re\n",
    "\n",
    "def random_string(url):\n",
    "    # Check if the URL contains a random-looking string\n",
    "    return 1 if bool(re.search(r'[0-9a-f]{8}[-]?([0-9a-f]{4}[-]?){3}[0-9a-f]{12}', url, re.I)) else 0\n",
    "\n",
    "# url = \"googel.com\"\n",
    "# result = random_string(url)\n",
    "# print(result)\n"
   ]
  },
  {
   "cell_type": "markdown",
   "id": "bd3e9136",
   "metadata": {},
   "source": [
    "## 17. IP address\n",
    "\n",
    "Presence of an IP address in the URL. Phishing URLs may use IP addresses to bypass domain-based blacklists."
   ]
  },
  {
   "cell_type": "code",
   "execution_count": 20,
   "id": "cfe50ba6",
   "metadata": {
    "scrolled": true
   },
   "outputs": [],
   "source": [
    "import re\n",
    "\n",
    "def ip_address(url):\n",
    "    \n",
    "    url_domain = re.search(r'(?:https?://)?([^/]+)', url).group(1)\n",
    "\n",
    "    # Define regular expressions\n",
    "    ip_pattern = re.compile(r'\\d{1,3}\\.\\d{1,3}\\.\\d{1,3}\\.\\d{1,3}')\n",
    "    ipv4_pattern = re.compile(r'(25[0-5]|2[0-4][0-9]|1[0-9][0-9]|[0-9]?[0-9])(\\.|$){4}')\n",
    "    hex_ipv4_pattern = re.compile(r'(0x([0-9][0-9]|[A-F][A-F]|[A-F][0-9]|[0-9][A-F]))(\\.|$){4}')\n",
    "\n",
    "    # Check if the URL domain matches any pattern\n",
    "    if ip_pattern.match(url_domain) or ipv4_pattern.match(url_domain) or hex_ipv4_pattern.match(url_domain):\n",
    "        result = 1\n",
    "    else:\n",
    "        result = 0\n",
    "        \n",
    "    return result\n",
    "        \n",
    "        \n",
    "# url = \"https://192.168.1.1\"\n",
    "# ip_address(url)"
   ]
  },
  {
   "cell_type": "markdown",
   "id": "691effd8",
   "metadata": {},
   "source": [
    "## 18. Domain in Subdomains\n",
    "\n",
    "Indicates if the main domain is part of the subdomains. Phishing URLs may attempt to appear legitimate by including the main domain as a subdomain.\n"
   ]
  },
  {
   "cell_type": "code",
   "execution_count": 33,
   "id": "f46b7bae",
   "metadata": {},
   "outputs": [],
   "source": [
    "# from urllib.parse import urlparse\n",
    "\n",
    "# def domain_in_subdomains(url):\n",
    "#     parsed_url = urlparse(url)\n",
    "#     print(parsed_url)\n",
    "#     subdomains = parsed_url.hostname.split('.')[:-2]\n",
    "#     print(subdomains)# Exclude the top-level domain\n",
    "    \n",
    "#     return parsed_url.netloc != parsed_url.hostname and parsed_url.netloc in subdomains\n",
    "\n",
    "# url = \"https://google-collab.com/google/google\"\n",
    "# domain_in_subdomains(url)\n"
   ]
  },
  {
   "cell_type": "markdown",
   "id": "c5a57bee",
   "metadata": {},
   "source": [
    "## 19. Domain in paths\n",
    "\n",
    "Indicates if the main domain is present in the URL path. Phishing URLs may try to mimic legitimate paths."
   ]
  },
  {
   "cell_type": "code",
   "execution_count": 35,
   "id": "ff4c7491",
   "metadata": {},
   "outputs": [],
   "source": [
    "# from urllib.parse import urlparse\n",
    "\n",
    "# def domain_in_paths(url):\n",
    "#     parsed_url = urlparse(url)\n",
    "    \n",
    "#     # Check if netloc contains at least two elements\n",
    "#     if parsed_url.hostname:\n",
    "        \n",
    "#     netloc_parts = parsed_url.netloc.split('.')\n",
    "#     if len(netloc_parts) >= 2:\n",
    "#         # Extract the second-level domain\n",
    "#         domain = netloc_parts[-2]\n",
    "        \n",
    "#         # Check if the domain is present in the path\n",
    "#         if domain.lower() in parsed_url.path.lower():\n",
    "#             return 1\n",
    "\n",
    "#     return 0  # Return 0 if there's no valid second-level domain in the netloc\n",
    "\n",
    "# # Example usage:\n",
    "# url = \"example.com/path/example\"\n",
    "# result = domain_in_paths(url)\n",
    "# print(result)\n"
   ]
  },
  {
   "cell_type": "markdown",
   "id": "db074c1c",
   "metadata": {},
   "source": [
    "## 20. HTTPS in hostname\n",
    "\n",
    "Presence of 'https' in the hostname. Phishing URLs may include 'https' to deceive users about the security of the site."
   ]
  },
  {
   "cell_type": "code",
   "execution_count": 245,
   "id": "be665f43",
   "metadata": {},
   "outputs": [
    {
     "name": "stdout",
     "output_type": "stream",
     "text": [
      "1\n"
     ]
    }
   ],
   "source": [
    "from urllib.parse import urlparse\n",
    "\n",
    "def https_in_hostname(url):\n",
    "    parsed_url = urlparse(url)\n",
    "    return 1 if 'https' in parsed_url.netloc or 'https' in parsed_url.path else 0\n",
    "\n",
    "url = \"https://google.com/jahsdfh/https\"\n",
    "result = https_in_hostname(url)\n",
    "print(result)"
   ]
  },
  {
   "cell_type": "markdown",
   "id": "fa9722a0",
   "metadata": {},
   "source": [
    "## 21. Hostname Length\n",
    "\n",
    "The length of the hostname. Phishing URLs may use longer hostnames to imitate legitimate sites."
   ]
  },
  {
   "cell_type": "code",
   "execution_count": 246,
   "id": "562db6e2",
   "metadata": {},
   "outputs": [
    {
     "data": {
      "text/plain": [
       "10"
      ]
     },
     "execution_count": 246,
     "metadata": {},
     "output_type": "execute_result"
    }
   ],
   "source": [
    "def hostname_length(url):\n",
    "    parsed_url = urlparse(url)\n",
    "    if parsed_url.hostname:\n",
    "        return len(parsed_url.hostname)\n",
    "    else: \n",
    "        return len(parsed_url.path.split('/')[0])\n",
    "    \n",
    "url = \"https://google.com\"\n",
    "hostname_length(url)"
   ]
  },
  {
   "cell_type": "markdown",
   "id": "0ebcb186",
   "metadata": {},
   "source": [
    "## 22. Path Length\n",
    "\n",
    "The length of the URL path. Phishing URLs may have longer paths to hide malicious content."
   ]
  },
  {
   "cell_type": "code",
   "execution_count": 247,
   "id": "70d12801",
   "metadata": {},
   "outputs": [
    {
     "data": {
      "text/plain": [
       "6"
      ]
     },
     "execution_count": 247,
     "metadata": {},
     "output_type": "execute_result"
    }
   ],
   "source": [
    "def path_length(url):\n",
    "    parsed_url = urlparse(url)\n",
    "    if parsed_url.hostname:\n",
    "        return len(parsed_url.path)\n",
    "    else: \n",
    "        return (len(parsed_url.path.split('/', 1)[-1])+1)\n",
    "\n",
    "url = \"https://google.com/hello\"\n",
    "path_length(url)"
   ]
  },
  {
   "cell_type": "markdown",
   "id": "31584958",
   "metadata": {},
   "source": [
    "## 23. Query Length\n",
    "\n",
    "The length of the query string. Phishing URLs may use longer queries to obfuscate their true purpose.\n"
   ]
  },
  {
   "cell_type": "code",
   "execution_count": 248,
   "id": "86dda3ee",
   "metadata": {},
   "outputs": [
    {
     "data": {
      "text/plain": [
       "11"
      ]
     },
     "execution_count": 248,
     "metadata": {},
     "output_type": "execute_result"
    }
   ],
   "source": [
    "def query_length(url):\n",
    "    return len(urlparse(url).query)\n",
    "\n",
    "url = \"https://example.com/?query=books\"\n",
    "query_length(url)"
   ]
  },
  {
   "cell_type": "markdown",
   "id": "1a87fa08",
   "metadata": {},
   "source": [
    "## 24. Double slash in path\n",
    "\n",
    "Presence of consecutive slashes in the URL path. Phishing URLs may use double slashes to mimic legitimate paths."
   ]
  },
  {
   "cell_type": "code",
   "execution_count": 249,
   "id": "9f480fc1",
   "metadata": {},
   "outputs": [
    {
     "data": {
      "text/plain": [
       "1"
      ]
     },
     "execution_count": 249,
     "metadata": {},
     "output_type": "execute_result"
    }
   ],
   "source": [
    "def double_slash_in_path(url):\n",
    "    return 1 if '//' in urlparse(url).path else 0\n",
    "\n",
    "url = \"google.com//hello\"\n",
    "double_slash_in_path(url)"
   ]
  },
  {
   "cell_type": "markdown",
   "id": "3c2f24f6",
   "metadata": {},
   "source": [
    "## 25. Sensitive words\n",
    "\n",
    "The number of sensitive words in the URL. Phishing URLs may include words associated with scams, fraud, or phishing."
   ]
  },
  {
   "cell_type": "code",
   "execution_count": 250,
   "id": "26fbf11a",
   "metadata": {},
   "outputs": [],
   "source": [
    "# def num_sensitive_words(url, sensitive_words):\n",
    "#     return sum(word.lower() in url.lower() for word in sensitive_words)"
   ]
  },
  {
   "cell_type": "markdown",
   "id": "b3f13433",
   "metadata": {},
   "source": [
    "## 26. Embedded brand name\n",
    "\n",
    " Presence of an embedded brand name in the URL. Phishing URLs may attempt to imitate well-known brands."
   ]
  },
  {
   "cell_type": "code",
   "execution_count": 251,
   "id": "6b8f8f47",
   "metadata": {},
   "outputs": [],
   "source": [
    "# def embedded_brand_name(url, brand_name):\n",
    "#     return brand_name.lower() in url.lower()"
   ]
  },
  {
   "cell_type": "markdown",
   "id": "17005a8b",
   "metadata": {},
   "source": [
    "## 27. PctExtHyperlinks\n",
    "\n",
    "The percentage of hyperlinks in the URL. Phishing URLs may have a higher percentage of hyperlinks to lead users to malicious sites."
   ]
  },
  {
   "cell_type": "code",
   "execution_count": 252,
   "id": "130b4dbb",
   "metadata": {},
   "outputs": [],
   "source": [
    "# def pct_ext_hyperlinks(url, total_hyperlinks):\n",
    "#      return url.count('http://') / total_hyperlinks \n"
   ]
  },
  {
   "cell_type": "markdown",
   "id": "1cfa82d0",
   "metadata": {},
   "source": [
    "## 28. PctExtResourceUrls\n",
    "\n",
    "The percentage of external resource URLs. Phishing URLs may load external resources to gather additional data."
   ]
  },
  {
   "cell_type": "code",
   "execution_count": 253,
   "id": "125f82fb",
   "metadata": {},
   "outputs": [],
   "source": [
    "# def pct_ext_resource_urls(url, total_resource_urls):\n",
    "#     return url.count('http://') / total_resource_urls if total_resource_urls > 0 else 0"
   ]
  },
  {
   "cell_type": "markdown",
   "id": "8584f1b1",
   "metadata": {},
   "source": [
    "## 29. ExtFavicon\n",
    "\n",
    "Presence of external favicons. Phishing URLs may use external favicons to imitate legitimate sites."
   ]
  },
  {
   "cell_type": "code",
   "execution_count": 254,
   "id": "56670a00",
   "metadata": {},
   "outputs": [],
   "source": [
    "# def ext_favicon(url):\n",
    "#     return 'favicon' in url.lower()\n",
    "\n",
    "# url = \"http://google.com\"\n",
    "# ext_favicon(url)"
   ]
  },
  {
   "cell_type": "markdown",
   "id": "49d2efec",
   "metadata": {},
   "source": [
    "## 30. InsecureForms\n",
    "\n",
    "Presence of insecure form actions. Phishing URLs may use HTTP in form actions, risking user data exposure."
   ]
  },
  {
   "cell_type": "code",
   "execution_count": 255,
   "id": "db17f00c",
   "metadata": {},
   "outputs": [],
   "source": [
    "# import requests\n",
    "# from bs4 import BeautifulSoup\n",
    "\n",
    "# def insecure_forms(html_content):\n",
    "#     try:\n",
    "#         soup = BeautifulSoup(html_content, 'html.parser')\n",
    "#         forms = soup.find_all('form')\n",
    "\n",
    "#         for form in forms:\n",
    "#             action = form.get('action', '').lower()\n",
    "\n",
    "#             # Check if the action attribute contains 'http://'\n",
    "#             if 'http://' in action:\n",
    "#                 return True\n",
    "\n",
    "#         # No insecure form actions found\n",
    "#         return False\n",
    "\n",
    "#     except Exception as e:\n",
    "#         print(f\"Error parsing HTML content: {e}\")\n",
    "#         return False\n",
    "\n",
    "# # Example usage:\n",
    "# url = \"https://\"\n",
    "# try:\n",
    "#     response = requests.get(url)\n",
    "#     response.raise_for_status()  # Raise an HTTPError for bad responses\n",
    "#     html_content = response.text\n",
    "# except requests.RequestException as e:\n",
    "#     print(f\"Error fetching URL: {e}\")\n",
    "#     html_content = \"\"\n",
    "\n",
    "# result = insecure_forms(html_content)\n",
    "# print(result)\n"
   ]
  },
  {
   "cell_type": "markdown",
   "id": "4b3d2f44",
   "metadata": {},
   "source": [
    "## 31. RelativeFormAction\n",
    "\n",
    "Presence of a relative form action in the HTML content. Phishing URLs may use relative form actions for deceptive purposes."
   ]
  },
  {
   "cell_type": "code",
   "execution_count": 256,
   "id": "429d6056",
   "metadata": {},
   "outputs": [],
   "source": [
    "# def relative_form_action(html_content):\n",
    "#     return 'action=\"/' in html_content.lower()"
   ]
  },
  {
   "cell_type": "markdown",
   "id": "b70c1d62",
   "metadata": {},
   "source": [
    "## 32. ExtFormAction\n",
    "\n",
    "Presence of external form actions in the HTML content. Phishing URLs may use external form actions to lead users to malicious sites."
   ]
  },
  {
   "cell_type": "code",
   "execution_count": 257,
   "id": "bc194ebc",
   "metadata": {},
   "outputs": [],
   "source": [
    "# def ext_form_action(html_content):\n",
    "#     return 'action=\"http' in html_content.lower() or 'action=\"https' in html_content.lower()"
   ]
  },
  {
   "cell_type": "markdown",
   "id": "88ae4dd8",
   "metadata": {},
   "source": [
    "## 33. AbnormalFormAction\n",
    "\n",
    "Indicates if the form action is abnormal. Phishing URLs may use unusual form actions to evade detection."
   ]
  },
  {
   "cell_type": "code",
   "execution_count": 258,
   "id": "a9f4f470",
   "metadata": {},
   "outputs": [],
   "source": [
    "# def abnormal_form_action(html_content, safe_domains):\n",
    "#     for domain in safe_domains:\n",
    "#         if 'action=\"{}\"'.format(domain) in html_content.lower():\n",
    "#             return False\n",
    "#     return True"
   ]
  },
  {
   "cell_type": "markdown",
   "id": "ee4f0cfc",
   "metadata": {},
   "source": [
    "## 34. PctNullSelfRedirectHyperlinks\n",
    "\n",
    "The percentage of hyperlinks with 'null' self-redirect. Phishing URLs may use 'null' self-redirects for deceptive practices."
   ]
  },
  {
   "cell_type": "code",
   "execution_count": 259,
   "id": "58a4eabe",
   "metadata": {},
   "outputs": [],
   "source": [
    "# def pct_null_self_redirect_hyperlinks(html_content, total_hyperlinks):\n",
    "#     null_self_redirects = html_content.lower().count('href=\"null\"') + html_content.lower().count('href=\\'null\\'')\n",
    "#     return null_self_redirects / total_hyperlinks if total_hyperlinks > 0 else 0"
   ]
  },
  {
   "cell_type": "markdown",
   "id": "581b4cf8",
   "metadata": {},
   "source": [
    "## 35. FrequentDomainNameMismatch\n",
    "\n",
    "Indicates if the domain name frequently mismatches in the HTML content. Phishing URLs may use variations to imitate legitimate domains."
   ]
  },
  {
   "cell_type": "code",
   "execution_count": 260,
   "id": "ddf9dcb8",
   "metadata": {},
   "outputs": [],
   "source": [
    "# def frequent_domain_name_mismatch(url, html_content):\n",
    "#     parsed_url = urlparse(url)\n",
    "#     domains_in_html = re.findall(r'https?://(?:www\\.)?([^\\/\\?]+)', html_content.lower())\n",
    "#     return parsed_url.netloc.lower() not in domains_in_html"
   ]
  },
  {
   "cell_type": "markdown",
   "id": "7ac87ddb",
   "metadata": {},
   "source": [
    "## 36. FakeLinkInStatusBar\n",
    "\n",
    "Presence of fake links in the status bar. Phishing URLs may display misleading links to deceive users."
   ]
  },
  {
   "cell_type": "code",
   "execution_count": 261,
   "id": "9d965825",
   "metadata": {},
   "outputs": [],
   "source": [
    "# def fake_link_in_status_bar(html_content):\n",
    "#     return 'window.status=' in html_content.lower()"
   ]
  },
  {
   "cell_type": "markdown",
   "id": "379e4d87",
   "metadata": {},
   "source": [
    "## 37. RightClickDisabled\n",
    "\n",
    "Presence of disabled right-click functionality. Phishing sites may disable right-clicking to prevent users from accessing browser functionalities."
   ]
  },
  {
   "cell_type": "code",
   "execution_count": 262,
   "id": "0a08c254",
   "metadata": {},
   "outputs": [],
   "source": [
    "# def right_click_disabled(html_content):\n",
    "#     return 'event.button==2' in html_content.lower() or 'event.button==3' in html_content.lower()\n",
    "\n",
    "# def rightClick(response):\n",
    "#   if response == \"\":\n",
    "#     return 1\n",
    "#   else:\n",
    "#     if re.findall(r\"event.button ?== ?2\", response.text):\n",
    "#       return 0\n",
    "#     else:\n",
    "#       return 1"
   ]
  },
  {
   "cell_type": "markdown",
   "id": "cc4a7ecc",
   "metadata": {},
   "source": [
    "## 38. PopUpWindow\n",
    "\n",
    "Presence of code indicating the opening of pop-up windows. Phishing URLs may open pop-ups to deceive users."
   ]
  },
  {
   "cell_type": "code",
   "execution_count": 263,
   "id": "f06ba9f8",
   "metadata": {},
   "outputs": [],
   "source": [
    "# import requests\n",
    "# import re\n",
    "\n",
    "# def pop_up_window(response):\n",
    "#         if response.text:\n",
    "#             if re.findall(r'window\\.open\\(', response.text):\n",
    "#                 return 1\n",
    "#             else:\n",
    "#                 return 0  \n",
    "#         else:\n",
    "#             return 0  \n",
    "\n",
    "# url = \"https://google.com\"\n",
    "# response = response = requests.get(url)\n",
    "# pop_up_window(response)"
   ]
  },
  {
   "cell_type": "markdown",
   "id": "422d0d7d",
   "metadata": {},
   "source": [
    "## 39. SubmitInfoToEmail\n",
    "\n",
    "Presence of 'mailto:' in the HTML content. Phishing URLs may attempt to collect information via email."
   ]
  },
  {
   "cell_type": "code",
   "execution_count": 264,
   "id": "f06eee3e",
   "metadata": {},
   "outputs": [],
   "source": [
    "# def submit_info_to_email(html_content):\n",
    "#     return 'mailto:' in html_content.lower()"
   ]
  },
  {
   "cell_type": "markdown",
   "id": "760f46a4",
   "metadata": {},
   "source": [
    "## 40. IframeOrFrame\n",
    "\n",
    "Presence of iframes or frames in the HTML content. Phishing URLs may use these elements to load malicious content."
   ]
  },
  {
   "cell_type": "code",
   "execution_count": 265,
   "id": "cf3893f7",
   "metadata": {},
   "outputs": [],
   "source": [
    "# def iframe_or_frame(html_content):\n",
    "#     return '<iframe' in html_content.lower() or '<frame' in html_content.lower()"
   ]
  },
  {
   "cell_type": "markdown",
   "id": "fa20e09f",
   "metadata": {},
   "source": [
    "## 41. MissingTitle\n",
    "\n",
    "Indicates if the HTML content is missing a title. Phishing URLs may lack a title to appear less suspicious."
   ]
  },
  {
   "cell_type": "code",
   "execution_count": 266,
   "id": "a2140a7f",
   "metadata": {},
   "outputs": [],
   "source": [
    "# def missing_title(response):\n",
    "#     try:\n",
    "#         html_content = response.text.lower()\n",
    "#         return '<title>' not in html_content\n",
    "#     except Exception as e:\n",
    "#         print(f\"Error processing response content: {e}\")\n",
    "#         return False\n",
    "    \n",
    "# url = \"https://google.com\"\n",
    "# try:\n",
    "#     response = requests.get(url)\n",
    "#     response.raise_for_status()  # Raise an HTTPError for bad responses\n",
    "# except requests.RequestException as e:\n",
    "#     print(f\"Error fetching URL: {e}\")\n",
    "#     response = \"\"\n",
    "\n",
    "# result = missing_title(response)\n",
    "# print(result)\n"
   ]
  },
  {
   "cell_type": "markdown",
   "id": "5b0078ba",
   "metadata": {},
   "source": [
    "## 42. ImagesOnlyInForm\n",
    "\n",
    "Presence of images only in the HTML form. Phishing URLs may use images to deceive users about form purposes."
   ]
  },
  {
   "cell_type": "code",
   "execution_count": 267,
   "id": "637eacc7",
   "metadata": {},
   "outputs": [],
   "source": [
    "# def images_only_in_form(html_content):\n",
    "#     return '<form' in html_content.lower() and '<img' not in html_content.lower()"
   ]
  },
  {
   "cell_type": "markdown",
   "id": "68c5f83d",
   "metadata": {},
   "source": [
    "## 43. SubdomainLevelRT\n",
    "\n",
    "The ratio of current subdomain levels to historical averages. Phishing URLs may exhibit unusual subdomain level changes over time."
   ]
  },
  {
   "cell_type": "code",
   "execution_count": 268,
   "id": "3b662425",
   "metadata": {},
   "outputs": [],
   "source": [
    "# def subdomain_level_rt(url, historical_subdomain_levels):\n",
    "#     current_subdomains = len(urlparse(url).hostname.split('.')[:-2])  # Exclude the top-level domain\n",
    "#     if historical_subdomain_levels:\n",
    "#         avg_subdomains = sum(historical_subdomain_levels) / len(historical_subdomain_levels)\n",
    "#         return current_subdomains / avg_subdomains\n",
    "#     else:\n",
    "#         return 0"
   ]
  },
  {
   "cell_type": "markdown",
   "id": "53d70875",
   "metadata": {},
   "source": [
    "## 44. UrlLengthRT\n",
    "\n",
    "The ratio of current URL length to historical averages. Phishing URLs may show unusual changes in length over time."
   ]
  },
  {
   "cell_type": "code",
   "execution_count": 269,
   "id": "aa686941",
   "metadata": {},
   "outputs": [],
   "source": [
    "# def url_length_rt(url, historical_url_lengths):\n",
    "#     current_url_length = len(url)\n",
    "#     if historical_url_lengths:\n",
    "#         avg_url_length = sum(historical_url_lengths) / len(historical_url_lengths)\n",
    "#         return current_url_length / avg_url_length\n",
    "#     else:\n",
    "#         return 0"
   ]
  },
  {
   "cell_type": "markdown",
   "id": "07326dc8",
   "metadata": {},
   "source": [
    "## 45. PctExtResourceUrlsRT\n",
    "\n",
    "The ratio of current external resource URLs to historical averages. Phishing URLs may change their usage of external resources over time."
   ]
  },
  {
   "cell_type": "code",
   "execution_count": 270,
   "id": "5ae5ff90",
   "metadata": {},
   "outputs": [],
   "source": [
    "# def pct_ext_resource_urls_rt(url, historical_ext_resource_urls, total_resource_urls):\n",
    "#     current_ext_resource_urls = url.lower().count('http://')\n",
    "#     if historical_ext_resource_urls:\n",
    "#         avg_ext_resource_urls = sum(historical_ext_resource_urls) / len(historical_ext_resource_urls)\n",
    "#         return current_ext_resource_urls / avg_ext_resource_urls\n",
    "#     elif total_resource_urls > 0:\n",
    "#         return current_ext_resource_urls / total_resource_urls\n",
    "#     else:\n",
    "#         return 0"
   ]
  },
  {
   "cell_type": "markdown",
   "id": "1fed218f",
   "metadata": {},
   "source": [
    "## 46. AbnormalExtFormActionR\n",
    "\n",
    "The ratio of abnormal external form actions to historical averages. Phishing URLs may exhibit changes in the usage of abnormal form actions over time.\n"
   ]
  },
  {
   "cell_type": "code",
   "execution_count": 271,
   "id": "d0298fa6",
   "metadata": {},
   "outputs": [],
   "source": [
    "# def abnormal_ext_form_action_ratio(url, html_content, historical_abnormal_ext_form_action):\n",
    "#     current_abnormal_ext_form_action = ext_form_action(html_content)\n",
    "#     if historical_abnormal_ext_form_action:\n",
    "#         avg_abnormal_ext_form_action = sum(historical_abnormal_ext_form_action) / len(historical_abnormal_ext_form_action)\n",
    "#         return current_abnormal_ext_form_action / avg_abnormal_ext_form_action\n",
    "#     else:\n",
    "#         return 0"
   ]
  },
  {
   "cell_type": "markdown",
   "id": "02c68d26",
   "metadata": {},
   "source": [
    "## 47. ExtMetaScriptLinkRT\n",
    "\n",
    "The ratio of the presence of external meta, script, or link elements to historical averages. Phishing URLs may change their usage of these elements over time."
   ]
  },
  {
   "cell_type": "code",
   "execution_count": 272,
   "id": "a3f38153",
   "metadata": {},
   "outputs": [],
   "source": [
    "# def ext_meta_script_link_ratio(url, html_content, historical_ext_meta_script_link):\n",
    "#     current_ext_meta_script_link = 'meta' in html_content.lower() or 'script' in html_content.lower() or 'link' in html_content.lower()\n",
    "#     if historical_ext_meta_script_link:\n",
    "#         avg_ext_meta_script_link = sum(historical_ext_meta_script_link) / len(historical_ext_meta_script_link)\n",
    "#         return current_ext_meta_script_link / avg_ext_meta_script_link\n",
    "#     else:\n",
    "#         return 0"
   ]
  },
  {
   "cell_type": "markdown",
   "id": "2d10fc69",
   "metadata": {},
   "source": [
    "## 48. PctExtNullSelfRedirectHyperlinksRT\n",
    "\n",
    "The ratio of 'null' self-redirect hyperlinks to historical averages. Phishing URLs may change their usage of 'null' self-redirects over time.\n"
   ]
  },
  {
   "cell_type": "code",
   "execution_count": 273,
   "id": "48433170",
   "metadata": {},
   "outputs": [],
   "source": [
    "# def pct_ext_null_self_redirect_hyperlinks_rt(url, html_content, total_hyperlinks, historical_pct_ext_null_self_redirect_hyperlinks):\n",
    "#     current_pct_ext_null_self_redirect_hyperlinks = pct_null_self_redirect_hyperlinks(html_content, total_hyperlinks)\n",
    "#     if historical_pct_ext_null_self_redirect_hyperlinks:\n",
    "#         avg_pct_ext_null_self_redirect_hyperlinks = sum(historical_pct_ext_null_self_redirect_hyperlinks) / len(historical_pct_ext_null_self_redirect_hyperlinks)\n",
    "#         return current_pct_ext_null_self_redirect_hyperlinks / avg_pct_ext_null_self_redirect_hyperlinks\n",
    "#     else:\n",
    "#         return 0"
   ]
  },
  {
   "cell_type": "code",
   "execution_count": null,
   "id": "9a255c20",
   "metadata": {},
   "outputs": [],
   "source": []
  },
  {
   "cell_type": "code",
   "execution_count": null,
   "id": "75d3418d",
   "metadata": {},
   "outputs": [],
   "source": []
  },
  {
   "cell_type": "code",
   "execution_count": null,
   "id": "7f8deb11",
   "metadata": {},
   "outputs": [],
   "source": []
  },
  {
   "cell_type": "code",
   "execution_count": null,
   "id": "6c8a5be5",
   "metadata": {},
   "outputs": [],
   "source": []
  },
  {
   "cell_type": "code",
   "execution_count": null,
   "id": "5086cd6b",
   "metadata": {},
   "outputs": [],
   "source": []
  },
  {
   "cell_type": "code",
   "execution_count": null,
   "id": "1ebca2cc",
   "metadata": {},
   "outputs": [],
   "source": []
  },
  {
   "cell_type": "code",
   "execution_count": null,
   "id": "cced5b23",
   "metadata": {},
   "outputs": [],
   "source": []
  },
  {
   "cell_type": "code",
   "execution_count": null,
   "id": "06fcd4c2",
   "metadata": {},
   "outputs": [],
   "source": []
  },
  {
   "cell_type": "code",
   "execution_count": null,
   "id": "0309c281",
   "metadata": {},
   "outputs": [],
   "source": []
  },
  {
   "cell_type": "code",
   "execution_count": null,
   "id": "03cae64b",
   "metadata": {},
   "outputs": [],
   "source": []
  },
  {
   "cell_type": "code",
   "execution_count": null,
   "id": "47e05005",
   "metadata": {},
   "outputs": [],
   "source": []
  },
  {
   "cell_type": "markdown",
   "id": "8932f9c1",
   "metadata": {},
   "source": [
    "# Computing URL Features¶\n",
    "Create a list and a function that calls the other functions and stores all the features of the URL in the list. We will extract the features of each URL and append to this list."
   ]
  },
  {
   "cell_type": "code",
   "execution_count": 274,
   "id": "aa4d07af",
   "metadata": {},
   "outputs": [],
   "source": [
    "#Function to extract features\n",
    "def featureExtraction(url,label):\n",
    "\n",
    "  features = []\n",
    "\n",
    "  \n",
    "  features.append(num_dots(url))\n",
    "  features.append(subdomain_level(url))\n",
    "  features.append(path_level(url))\n",
    "  features.append(url_length(url))\n",
    "  features.append(num_dash(url))\n",
    "  features.append(num_dash_in_hostname(url))\n",
    "  features.append(at_symbol(url))\n",
    "  features.append(tilde_symbol(url))\n",
    "  features.append(num_underscore(url))\n",
    "  features.append(num_percent(url))\n",
    "  features.append(num_query_components(url))\n",
    "  features.append(num_ampersand(url))\n",
    "  features.append(num_hash(url))\n",
    "  features.append(num_numeric_chars(url))\n",
    "  features.append(no_https(url))\n",
    "  features.append(random_string(url))\n",
    "  features.append(ip_address(url))\n",
    "#   features.append(domain_in_paths(url))\n",
    "  features.append(https_in_hostname(url))\n",
    "  features.append(hostname_length(url))\n",
    "  features.append(path_length(url))\n",
    "  features.append(query_length(url))\n",
    "  features.append(double_slash_in_path(url))\n",
    "  features.append(tinyURL(url))\n",
    "    \n",
    " # HTML & Javascript based features (4)\n",
    "  try:\n",
    "    response = requests.get(url)\n",
    "  except:\n",
    "    response = \"\"\n",
    "    \n",
    "  features.append(iframe(response))\n",
    "  features.append(mouseOver(response))\n",
    "#   features.append(rightClick(response))\n",
    "  features.append(forwarding(response))\n",
    "  features.append(label)\n",
    "  \n",
    "  return features"
   ]
  },
  {
   "cell_type": "markdown",
   "id": "a37ce6b3",
   "metadata": {},
   "source": [
    "# Legitimate URLs:\n",
    "Now, feature extraction is done on legitimate URLs."
   ]
  },
  {
   "cell_type": "code",
   "execution_count": 275,
   "id": "3c92fe98",
   "metadata": {},
   "outputs": [],
   "source": [
    "#Extracting the feautres & storing them in a list\n",
    "legi_features = []\n",
    "label = 0\n",
    "\n",
    "for i in range(0, 5000):\n",
    "  url = legiurl[\"url\"][i]\n",
    "  legi_features.append(featureExtraction(url,label))\n",
    "    "
   ]
  },
  {
   "cell_type": "code",
   "execution_count": null,
   "id": "2c9e601a",
   "metadata": {},
   "outputs": [],
   "source": []
  },
  {
   "cell_type": "code",
   "execution_count": 276,
   "id": "a1bd1c3e",
   "metadata": {},
   "outputs": [],
   "source": [
    "#converting the list to dataframe\n",
    "feature_names = ['NumDots', 'SubdomainLevel', 'PathLevel', 'UrlLength', 'NumDash', 'NumDashInHostname', 'AtSymbol', 'TildeSymbol', 'NumUnderscore', 'NumPercent', 'NumQueryComponents', 'NumAmpersand', 'NumHash', 'NumNumericChars', 'NoHttps', 'RandomString', 'IpAddress', 'HttpsInHostname', 'HostnameLength', 'PathLength', 'QueryLength', 'DoubleSlashInPath', 'TinyURL', 'iFrame', 'Mouse_Over', 'Web_Forwards', 'Label']\n",
    "\n",
    "legitimate = pd.DataFrame(legi_features, columns= feature_names)\n"
   ]
  },
  {
   "cell_type": "code",
   "execution_count": 277,
   "id": "07a75012",
   "metadata": {
    "scrolled": false
   },
   "outputs": [
    {
     "data": {
      "text/html": [
       "<div>\n",
       "<style scoped>\n",
       "    .dataframe tbody tr th:only-of-type {\n",
       "        vertical-align: middle;\n",
       "    }\n",
       "\n",
       "    .dataframe tbody tr th {\n",
       "        vertical-align: top;\n",
       "    }\n",
       "\n",
       "    .dataframe thead th {\n",
       "        text-align: right;\n",
       "    }\n",
       "</style>\n",
       "<table border=\"1\" class=\"dataframe\">\n",
       "  <thead>\n",
       "    <tr style=\"text-align: right;\">\n",
       "      <th></th>\n",
       "      <th>NumDots</th>\n",
       "      <th>SubdomainLevel</th>\n",
       "      <th>PathLevel</th>\n",
       "      <th>UrlLength</th>\n",
       "      <th>NumDash</th>\n",
       "      <th>NumDashInHostname</th>\n",
       "      <th>AtSymbol</th>\n",
       "      <th>TildeSymbol</th>\n",
       "      <th>NumUnderscore</th>\n",
       "      <th>NumPercent</th>\n",
       "      <th>...</th>\n",
       "      <th>HttpsInHostname</th>\n",
       "      <th>HostnameLength</th>\n",
       "      <th>PathLength</th>\n",
       "      <th>QueryLength</th>\n",
       "      <th>DoubleSlashInPath</th>\n",
       "      <th>TinyURL</th>\n",
       "      <th>iFrame</th>\n",
       "      <th>Mouse_Over</th>\n",
       "      <th>Web_Forwards</th>\n",
       "      <th>Label</th>\n",
       "    </tr>\n",
       "  </thead>\n",
       "  <tbody>\n",
       "    <tr>\n",
       "      <th>0</th>\n",
       "      <td>3</td>\n",
       "      <td>4</td>\n",
       "      <td>3</td>\n",
       "      <td>30</td>\n",
       "      <td>0</td>\n",
       "      <td>0</td>\n",
       "      <td>0</td>\n",
       "      <td>0</td>\n",
       "      <td>0</td>\n",
       "      <td>0</td>\n",
       "      <td>...</td>\n",
       "      <td>0</td>\n",
       "      <td>14</td>\n",
       "      <td>16</td>\n",
       "      <td>0</td>\n",
       "      <td>0</td>\n",
       "      <td>0</td>\n",
       "      <td>1</td>\n",
       "      <td>1</td>\n",
       "      <td>1</td>\n",
       "      <td>0</td>\n",
       "    </tr>\n",
       "    <tr>\n",
       "      <th>1</th>\n",
       "      <td>2</td>\n",
       "      <td>3</td>\n",
       "      <td>5</td>\n",
       "      <td>96</td>\n",
       "      <td>4</td>\n",
       "      <td>0</td>\n",
       "      <td>0</td>\n",
       "      <td>0</td>\n",
       "      <td>0</td>\n",
       "      <td>0</td>\n",
       "      <td>...</td>\n",
       "      <td>0</td>\n",
       "      <td>10</td>\n",
       "      <td>46</td>\n",
       "      <td>39</td>\n",
       "      <td>0</td>\n",
       "      <td>0</td>\n",
       "      <td>1</td>\n",
       "      <td>1</td>\n",
       "      <td>1</td>\n",
       "      <td>0</td>\n",
       "    </tr>\n",
       "    <tr>\n",
       "      <th>2</th>\n",
       "      <td>2</td>\n",
       "      <td>3</td>\n",
       "      <td>2</td>\n",
       "      <td>36</td>\n",
       "      <td>0</td>\n",
       "      <td>0</td>\n",
       "      <td>0</td>\n",
       "      <td>0</td>\n",
       "      <td>0</td>\n",
       "      <td>0</td>\n",
       "      <td>...</td>\n",
       "      <td>0</td>\n",
       "      <td>21</td>\n",
       "      <td>15</td>\n",
       "      <td>0</td>\n",
       "      <td>0</td>\n",
       "      <td>0</td>\n",
       "      <td>1</td>\n",
       "      <td>1</td>\n",
       "      <td>1</td>\n",
       "      <td>0</td>\n",
       "    </tr>\n",
       "    <tr>\n",
       "      <th>3</th>\n",
       "      <td>3</td>\n",
       "      <td>4</td>\n",
       "      <td>2</td>\n",
       "      <td>79</td>\n",
       "      <td>6</td>\n",
       "      <td>1</td>\n",
       "      <td>0</td>\n",
       "      <td>0</td>\n",
       "      <td>0</td>\n",
       "      <td>0</td>\n",
       "      <td>...</td>\n",
       "      <td>0</td>\n",
       "      <td>28</td>\n",
       "      <td>15</td>\n",
       "      <td>35</td>\n",
       "      <td>0</td>\n",
       "      <td>0</td>\n",
       "      <td>1</td>\n",
       "      <td>1</td>\n",
       "      <td>1</td>\n",
       "      <td>0</td>\n",
       "    </tr>\n",
       "    <tr>\n",
       "      <th>4</th>\n",
       "      <td>1</td>\n",
       "      <td>2</td>\n",
       "      <td>4</td>\n",
       "      <td>35</td>\n",
       "      <td>1</td>\n",
       "      <td>1</td>\n",
       "      <td>0</td>\n",
       "      <td>0</td>\n",
       "      <td>0</td>\n",
       "      <td>0</td>\n",
       "      <td>...</td>\n",
       "      <td>0</td>\n",
       "      <td>10</td>\n",
       "      <td>25</td>\n",
       "      <td>0</td>\n",
       "      <td>0</td>\n",
       "      <td>0</td>\n",
       "      <td>1</td>\n",
       "      <td>1</td>\n",
       "      <td>1</td>\n",
       "      <td>0</td>\n",
       "    </tr>\n",
       "  </tbody>\n",
       "</table>\n",
       "<p>5 rows × 27 columns</p>\n",
       "</div>"
      ],
      "text/plain": [
       "   NumDots  SubdomainLevel  PathLevel  UrlLength  NumDash  NumDashInHostname  \\\n",
       "0        3               4          3         30        0                  0   \n",
       "1        2               3          5         96        4                  0   \n",
       "2        2               3          2         36        0                  0   \n",
       "3        3               4          2         79        6                  1   \n",
       "4        1               2          4         35        1                  1   \n",
       "\n",
       "   AtSymbol  TildeSymbol  NumUnderscore  NumPercent  ...  HttpsInHostname  \\\n",
       "0         0            0              0           0  ...                0   \n",
       "1         0            0              0           0  ...                0   \n",
       "2         0            0              0           0  ...                0   \n",
       "3         0            0              0           0  ...                0   \n",
       "4         0            0              0           0  ...                0   \n",
       "\n",
       "   HostnameLength  PathLength  QueryLength  DoubleSlashInPath  TinyURL iFrame  \\\n",
       "0              14          16            0                  0        0      1   \n",
       "1              10          46           39                  0        0      1   \n",
       "2              21          15            0                  0        0      1   \n",
       "3              28          15           35                  0        0      1   \n",
       "4              10          25            0                  0        0      1   \n",
       "\n",
       "   Mouse_Over  Web_Forwards  Label  \n",
       "0           1             1      0  \n",
       "1           1             1      0  \n",
       "2           1             1      0  \n",
       "3           1             1      0  \n",
       "4           1             1      0  \n",
       "\n",
       "[5 rows x 27 columns]"
      ]
     },
     "execution_count": 277,
     "metadata": {},
     "output_type": "execute_result"
    }
   ],
   "source": [
    "legitimate.head()"
   ]
  },
  {
   "cell_type": "code",
   "execution_count": 278,
   "id": "78ae69d1",
   "metadata": {},
   "outputs": [],
   "source": [
    "# Storing the extracted legitimate URLs fatures to csv file\n",
    "legitimate.to_csv('legitimate.csv', index= False)"
   ]
  },
  {
   "cell_type": "markdown",
   "id": "0a1a4ed1",
   "metadata": {},
   "source": [
    "# Phishing URLs:\n",
    "Now, feature extraction is performed on phishing URLs."
   ]
  },
  {
   "cell_type": "code",
   "execution_count": 279,
   "id": "78d54b42",
   "metadata": {},
   "outputs": [
    {
     "data": {
      "text/plain": [
       "(5000, 1)"
      ]
     },
     "execution_count": 279,
     "metadata": {},
     "output_type": "execute_result"
    }
   ],
   "source": [
    "phishurl.shape"
   ]
  },
  {
   "cell_type": "code",
   "execution_count": null,
   "id": "29e3f7fd",
   "metadata": {},
   "outputs": [],
   "source": []
  },
  {
   "cell_type": "code",
   "execution_count": 280,
   "id": "8c4cb377",
   "metadata": {},
   "outputs": [],
   "source": [
    "phish_features = []\n",
    "label = 1\n",
    "for i in range(0, 5000):\n",
    "    url = phishurl['url'][i]\n",
    "    phish_features.append(featureExtraction(url,label))"
   ]
  },
  {
   "cell_type": "code",
   "execution_count": 281,
   "id": "c912be35",
   "metadata": {},
   "outputs": [],
   "source": [
    "#converting the list to dataframe\n",
    "feature_names = ['NumDots', 'SubdomainLevel', 'PathLevel', 'UrlLength', 'NumDash', 'NumDashInHostname', 'AtSymbol', 'TildeSymbol', 'NumUnderscore', 'NumPercent', 'NumQueryComponents', 'NumAmpersand', 'NumHash', 'NumNumericChars', 'NoHttps', 'RandomString', 'IpAddress', 'HttpsInHostname', 'HostnameLength', 'PathLength', 'QueryLength', 'DoubleSlashInPath', 'TinyURL', 'iFrame', 'Mouse_Over', 'Web_Forwards', 'Label']\n",
    "phishing = pd.DataFrame(phish_features, columns= feature_names)"
   ]
  },
  {
   "cell_type": "code",
   "execution_count": 282,
   "id": "dffe9e76",
   "metadata": {},
   "outputs": [
    {
     "data": {
      "text/html": [
       "<div>\n",
       "<style scoped>\n",
       "    .dataframe tbody tr th:only-of-type {\n",
       "        vertical-align: middle;\n",
       "    }\n",
       "\n",
       "    .dataframe tbody tr th {\n",
       "        vertical-align: top;\n",
       "    }\n",
       "\n",
       "    .dataframe thead th {\n",
       "        text-align: right;\n",
       "    }\n",
       "</style>\n",
       "<table border=\"1\" class=\"dataframe\">\n",
       "  <thead>\n",
       "    <tr style=\"text-align: right;\">\n",
       "      <th></th>\n",
       "      <th>NumDots</th>\n",
       "      <th>SubdomainLevel</th>\n",
       "      <th>PathLevel</th>\n",
       "      <th>UrlLength</th>\n",
       "      <th>NumDash</th>\n",
       "      <th>NumDashInHostname</th>\n",
       "      <th>AtSymbol</th>\n",
       "      <th>TildeSymbol</th>\n",
       "      <th>NumUnderscore</th>\n",
       "      <th>NumPercent</th>\n",
       "      <th>...</th>\n",
       "      <th>HttpsInHostname</th>\n",
       "      <th>HostnameLength</th>\n",
       "      <th>PathLength</th>\n",
       "      <th>QueryLength</th>\n",
       "      <th>DoubleSlashInPath</th>\n",
       "      <th>TinyURL</th>\n",
       "      <th>iFrame</th>\n",
       "      <th>Mouse_Over</th>\n",
       "      <th>Web_Forwards</th>\n",
       "      <th>Label</th>\n",
       "    </tr>\n",
       "  </thead>\n",
       "  <tbody>\n",
       "    <tr>\n",
       "      <th>0</th>\n",
       "      <td>2</td>\n",
       "      <td>3</td>\n",
       "      <td>5</td>\n",
       "      <td>55</td>\n",
       "      <td>0</td>\n",
       "      <td>0</td>\n",
       "      <td>0</td>\n",
       "      <td>0</td>\n",
       "      <td>1</td>\n",
       "      <td>0</td>\n",
       "      <td>...</td>\n",
       "      <td>0</td>\n",
       "      <td>16</td>\n",
       "      <td>39</td>\n",
       "      <td>0</td>\n",
       "      <td>0</td>\n",
       "      <td>0</td>\n",
       "      <td>1</td>\n",
       "      <td>1</td>\n",
       "      <td>1</td>\n",
       "      <td>1</td>\n",
       "    </tr>\n",
       "    <tr>\n",
       "      <th>1</th>\n",
       "      <td>2</td>\n",
       "      <td>3</td>\n",
       "      <td>2</td>\n",
       "      <td>31</td>\n",
       "      <td>0</td>\n",
       "      <td>0</td>\n",
       "      <td>0</td>\n",
       "      <td>0</td>\n",
       "      <td>0</td>\n",
       "      <td>0</td>\n",
       "      <td>...</td>\n",
       "      <td>0</td>\n",
       "      <td>23</td>\n",
       "      <td>8</td>\n",
       "      <td>0</td>\n",
       "      <td>0</td>\n",
       "      <td>0</td>\n",
       "      <td>1</td>\n",
       "      <td>1</td>\n",
       "      <td>1</td>\n",
       "      <td>1</td>\n",
       "    </tr>\n",
       "    <tr>\n",
       "      <th>2</th>\n",
       "      <td>2</td>\n",
       "      <td>3</td>\n",
       "      <td>10</td>\n",
       "      <td>91</td>\n",
       "      <td>2</td>\n",
       "      <td>2</td>\n",
       "      <td>0</td>\n",
       "      <td>0</td>\n",
       "      <td>0</td>\n",
       "      <td>0</td>\n",
       "      <td>...</td>\n",
       "      <td>0</td>\n",
       "      <td>9</td>\n",
       "      <td>64</td>\n",
       "      <td>17</td>\n",
       "      <td>0</td>\n",
       "      <td>0</td>\n",
       "      <td>1</td>\n",
       "      <td>1</td>\n",
       "      <td>1</td>\n",
       "      <td>1</td>\n",
       "    </tr>\n",
       "    <tr>\n",
       "      <th>3</th>\n",
       "      <td>3</td>\n",
       "      <td>4</td>\n",
       "      <td>4</td>\n",
       "      <td>345</td>\n",
       "      <td>7</td>\n",
       "      <td>4</td>\n",
       "      <td>0</td>\n",
       "      <td>0</td>\n",
       "      <td>3</td>\n",
       "      <td>2</td>\n",
       "      <td>...</td>\n",
       "      <td>0</td>\n",
       "      <td>45</td>\n",
       "      <td>34</td>\n",
       "      <td>265</td>\n",
       "      <td>0</td>\n",
       "      <td>0</td>\n",
       "      <td>1</td>\n",
       "      <td>1</td>\n",
       "      <td>1</td>\n",
       "      <td>1</td>\n",
       "    </tr>\n",
       "    <tr>\n",
       "      <th>4</th>\n",
       "      <td>1</td>\n",
       "      <td>2</td>\n",
       "      <td>2</td>\n",
       "      <td>9</td>\n",
       "      <td>0</td>\n",
       "      <td>0</td>\n",
       "      <td>0</td>\n",
       "      <td>0</td>\n",
       "      <td>0</td>\n",
       "      <td>0</td>\n",
       "      <td>...</td>\n",
       "      <td>0</td>\n",
       "      <td>8</td>\n",
       "      <td>1</td>\n",
       "      <td>0</td>\n",
       "      <td>0</td>\n",
       "      <td>0</td>\n",
       "      <td>1</td>\n",
       "      <td>1</td>\n",
       "      <td>1</td>\n",
       "      <td>1</td>\n",
       "    </tr>\n",
       "  </tbody>\n",
       "</table>\n",
       "<p>5 rows × 27 columns</p>\n",
       "</div>"
      ],
      "text/plain": [
       "   NumDots  SubdomainLevel  PathLevel  UrlLength  NumDash  NumDashInHostname  \\\n",
       "0        2               3          5         55        0                  0   \n",
       "1        2               3          2         31        0                  0   \n",
       "2        2               3         10         91        2                  2   \n",
       "3        3               4          4        345        7                  4   \n",
       "4        1               2          2          9        0                  0   \n",
       "\n",
       "   AtSymbol  TildeSymbol  NumUnderscore  NumPercent  ...  HttpsInHostname  \\\n",
       "0         0            0              1           0  ...                0   \n",
       "1         0            0              0           0  ...                0   \n",
       "2         0            0              0           0  ...                0   \n",
       "3         0            0              3           2  ...                0   \n",
       "4         0            0              0           0  ...                0   \n",
       "\n",
       "   HostnameLength  PathLength  QueryLength  DoubleSlashInPath  TinyURL iFrame  \\\n",
       "0              16          39            0                  0        0      1   \n",
       "1              23           8            0                  0        0      1   \n",
       "2               9          64           17                  0        0      1   \n",
       "3              45          34          265                  0        0      1   \n",
       "4               8           1            0                  0        0      1   \n",
       "\n",
       "   Mouse_Over  Web_Forwards  Label  \n",
       "0           1             1      1  \n",
       "1           1             1      1  \n",
       "2           1             1      1  \n",
       "3           1             1      1  \n",
       "4           1             1      1  \n",
       "\n",
       "[5 rows x 27 columns]"
      ]
     },
     "execution_count": 282,
     "metadata": {},
     "output_type": "execute_result"
    }
   ],
   "source": [
    "phishing.head()"
   ]
  },
  {
   "cell_type": "code",
   "execution_count": 283,
   "id": "8eda6697",
   "metadata": {},
   "outputs": [],
   "source": [
    "# Storing the extracted legitimate URLs fatures to csv file\n",
    "phishing.to_csv('phishing.csv', index= False)"
   ]
  },
  {
   "cell_type": "markdown",
   "id": "198d2840",
   "metadata": {},
   "source": [
    "# 5. Final Dataset\n",
    "In the above section we formed two dataframes of legitimate & phishing URL features. Now, we will combine them to a single dataframe and export the data to csv file for the Machine Learning training done in other notebook."
   ]
  },
  {
   "cell_type": "code",
   "execution_count": 284,
   "id": "139a1bbd",
   "metadata": {},
   "outputs": [
    {
     "data": {
      "text/html": [
       "<div>\n",
       "<style scoped>\n",
       "    .dataframe tbody tr th:only-of-type {\n",
       "        vertical-align: middle;\n",
       "    }\n",
       "\n",
       "    .dataframe tbody tr th {\n",
       "        vertical-align: top;\n",
       "    }\n",
       "\n",
       "    .dataframe thead th {\n",
       "        text-align: right;\n",
       "    }\n",
       "</style>\n",
       "<table border=\"1\" class=\"dataframe\">\n",
       "  <thead>\n",
       "    <tr style=\"text-align: right;\">\n",
       "      <th></th>\n",
       "      <th>NumDots</th>\n",
       "      <th>SubdomainLevel</th>\n",
       "      <th>PathLevel</th>\n",
       "      <th>UrlLength</th>\n",
       "      <th>NumDash</th>\n",
       "      <th>NumDashInHostname</th>\n",
       "      <th>AtSymbol</th>\n",
       "      <th>TildeSymbol</th>\n",
       "      <th>NumUnderscore</th>\n",
       "      <th>NumPercent</th>\n",
       "      <th>...</th>\n",
       "      <th>HttpsInHostname</th>\n",
       "      <th>HostnameLength</th>\n",
       "      <th>PathLength</th>\n",
       "      <th>QueryLength</th>\n",
       "      <th>DoubleSlashInPath</th>\n",
       "      <th>TinyURL</th>\n",
       "      <th>iFrame</th>\n",
       "      <th>Mouse_Over</th>\n",
       "      <th>Web_Forwards</th>\n",
       "      <th>Label</th>\n",
       "    </tr>\n",
       "  </thead>\n",
       "  <tbody>\n",
       "    <tr>\n",
       "      <th>0</th>\n",
       "      <td>3</td>\n",
       "      <td>4</td>\n",
       "      <td>3</td>\n",
       "      <td>30</td>\n",
       "      <td>0</td>\n",
       "      <td>0</td>\n",
       "      <td>0</td>\n",
       "      <td>0</td>\n",
       "      <td>0</td>\n",
       "      <td>0</td>\n",
       "      <td>...</td>\n",
       "      <td>0</td>\n",
       "      <td>14</td>\n",
       "      <td>16</td>\n",
       "      <td>0</td>\n",
       "      <td>0</td>\n",
       "      <td>0</td>\n",
       "      <td>1</td>\n",
       "      <td>1</td>\n",
       "      <td>1</td>\n",
       "      <td>0</td>\n",
       "    </tr>\n",
       "    <tr>\n",
       "      <th>1</th>\n",
       "      <td>2</td>\n",
       "      <td>3</td>\n",
       "      <td>5</td>\n",
       "      <td>96</td>\n",
       "      <td>4</td>\n",
       "      <td>0</td>\n",
       "      <td>0</td>\n",
       "      <td>0</td>\n",
       "      <td>0</td>\n",
       "      <td>0</td>\n",
       "      <td>...</td>\n",
       "      <td>0</td>\n",
       "      <td>10</td>\n",
       "      <td>46</td>\n",
       "      <td>39</td>\n",
       "      <td>0</td>\n",
       "      <td>0</td>\n",
       "      <td>1</td>\n",
       "      <td>1</td>\n",
       "      <td>1</td>\n",
       "      <td>0</td>\n",
       "    </tr>\n",
       "    <tr>\n",
       "      <th>2</th>\n",
       "      <td>2</td>\n",
       "      <td>3</td>\n",
       "      <td>2</td>\n",
       "      <td>36</td>\n",
       "      <td>0</td>\n",
       "      <td>0</td>\n",
       "      <td>0</td>\n",
       "      <td>0</td>\n",
       "      <td>0</td>\n",
       "      <td>0</td>\n",
       "      <td>...</td>\n",
       "      <td>0</td>\n",
       "      <td>21</td>\n",
       "      <td>15</td>\n",
       "      <td>0</td>\n",
       "      <td>0</td>\n",
       "      <td>0</td>\n",
       "      <td>1</td>\n",
       "      <td>1</td>\n",
       "      <td>1</td>\n",
       "      <td>0</td>\n",
       "    </tr>\n",
       "    <tr>\n",
       "      <th>3</th>\n",
       "      <td>3</td>\n",
       "      <td>4</td>\n",
       "      <td>2</td>\n",
       "      <td>79</td>\n",
       "      <td>6</td>\n",
       "      <td>1</td>\n",
       "      <td>0</td>\n",
       "      <td>0</td>\n",
       "      <td>0</td>\n",
       "      <td>0</td>\n",
       "      <td>...</td>\n",
       "      <td>0</td>\n",
       "      <td>28</td>\n",
       "      <td>15</td>\n",
       "      <td>35</td>\n",
       "      <td>0</td>\n",
       "      <td>0</td>\n",
       "      <td>1</td>\n",
       "      <td>1</td>\n",
       "      <td>1</td>\n",
       "      <td>0</td>\n",
       "    </tr>\n",
       "    <tr>\n",
       "      <th>4</th>\n",
       "      <td>1</td>\n",
       "      <td>2</td>\n",
       "      <td>4</td>\n",
       "      <td>35</td>\n",
       "      <td>1</td>\n",
       "      <td>1</td>\n",
       "      <td>0</td>\n",
       "      <td>0</td>\n",
       "      <td>0</td>\n",
       "      <td>0</td>\n",
       "      <td>...</td>\n",
       "      <td>0</td>\n",
       "      <td>10</td>\n",
       "      <td>25</td>\n",
       "      <td>0</td>\n",
       "      <td>0</td>\n",
       "      <td>0</td>\n",
       "      <td>1</td>\n",
       "      <td>1</td>\n",
       "      <td>1</td>\n",
       "      <td>0</td>\n",
       "    </tr>\n",
       "  </tbody>\n",
       "</table>\n",
       "<p>5 rows × 27 columns</p>\n",
       "</div>"
      ],
      "text/plain": [
       "   NumDots  SubdomainLevel  PathLevel  UrlLength  NumDash  NumDashInHostname  \\\n",
       "0        3               4          3         30        0                  0   \n",
       "1        2               3          5         96        4                  0   \n",
       "2        2               3          2         36        0                  0   \n",
       "3        3               4          2         79        6                  1   \n",
       "4        1               2          4         35        1                  1   \n",
       "\n",
       "   AtSymbol  TildeSymbol  NumUnderscore  NumPercent  ...  HttpsInHostname  \\\n",
       "0         0            0              0           0  ...                0   \n",
       "1         0            0              0           0  ...                0   \n",
       "2         0            0              0           0  ...                0   \n",
       "3         0            0              0           0  ...                0   \n",
       "4         0            0              0           0  ...                0   \n",
       "\n",
       "   HostnameLength  PathLength  QueryLength  DoubleSlashInPath  TinyURL iFrame  \\\n",
       "0              14          16            0                  0        0      1   \n",
       "1              10          46           39                  0        0      1   \n",
       "2              21          15            0                  0        0      1   \n",
       "3              28          15           35                  0        0      1   \n",
       "4              10          25            0                  0        0      1   \n",
       "\n",
       "   Mouse_Over  Web_Forwards  Label  \n",
       "0           1             1      0  \n",
       "1           1             1      0  \n",
       "2           1             1      0  \n",
       "3           1             1      0  \n",
       "4           1             1      0  \n",
       "\n",
       "[5 rows x 27 columns]"
      ]
     },
     "execution_count": 284,
     "metadata": {},
     "output_type": "execute_result"
    }
   ],
   "source": [
    "#Concatenating the dataframes into one \n",
    "urldata = pd.concat([legitimate, phishing]).reset_index(drop=True)\n",
    "urldata.head()"
   ]
  },
  {
   "cell_type": "code",
   "execution_count": null,
   "id": "5fbb9268",
   "metadata": {},
   "outputs": [],
   "source": []
  },
  {
   "cell_type": "code",
   "execution_count": 285,
   "id": "d69523ec",
   "metadata": {},
   "outputs": [
    {
     "name": "stdout",
     "output_type": "stream",
     "text": [
      "<class 'pandas.core.frame.DataFrame'>\n",
      "RangeIndex: 10000 entries, 0 to 9999\n",
      "Data columns (total 27 columns):\n",
      " #   Column              Non-Null Count  Dtype \n",
      "---  ------              --------------  ----- \n",
      " 0   NumDots             10000 non-null  int64 \n",
      " 1   SubdomainLevel      10000 non-null  int64 \n",
      " 2   PathLevel           10000 non-null  int64 \n",
      " 3   UrlLength           10000 non-null  int64 \n",
      " 4   NumDash             10000 non-null  int64 \n",
      " 5   NumDashInHostname   10000 non-null  int64 \n",
      " 6   AtSymbol            10000 non-null  int64 \n",
      " 7   TildeSymbol         10000 non-null  int64 \n",
      " 8   NumUnderscore       10000 non-null  int64 \n",
      " 9   NumPercent          10000 non-null  int64 \n",
      " 10  NumQueryComponents  10000 non-null  int64 \n",
      " 11  NumAmpersand        10000 non-null  int64 \n",
      " 12  NumHash             10000 non-null  int64 \n",
      " 13  NumNumericChars     10000 non-null  int64 \n",
      " 14  NoHttps             10000 non-null  int64 \n",
      " 15  RandomString        10000 non-null  int64 \n",
      " 16  IpAddress           0 non-null      object\n",
      " 17  HttpsInHostname     10000 non-null  int64 \n",
      " 18  HostnameLength      10000 non-null  int64 \n",
      " 19  PathLength          10000 non-null  int64 \n",
      " 20  QueryLength         10000 non-null  int64 \n",
      " 21  DoubleSlashInPath   10000 non-null  int64 \n",
      " 22  TinyURL             10000 non-null  int64 \n",
      " 23  iFrame              10000 non-null  int64 \n",
      " 24  Mouse_Over          10000 non-null  int64 \n",
      " 25  Web_Forwards        10000 non-null  int64 \n",
      " 26  Label               10000 non-null  int64 \n",
      "dtypes: int64(26), object(1)\n",
      "memory usage: 2.1+ MB\n"
     ]
    }
   ],
   "source": [
    "urldata.info()"
   ]
  },
  {
   "cell_type": "code",
   "execution_count": 286,
   "id": "1827c047",
   "metadata": {},
   "outputs": [
    {
     "data": {
      "text/html": [
       "<div>\n",
       "<style scoped>\n",
       "    .dataframe tbody tr th:only-of-type {\n",
       "        vertical-align: middle;\n",
       "    }\n",
       "\n",
       "    .dataframe tbody tr th {\n",
       "        vertical-align: top;\n",
       "    }\n",
       "\n",
       "    .dataframe thead th {\n",
       "        text-align: right;\n",
       "    }\n",
       "</style>\n",
       "<table border=\"1\" class=\"dataframe\">\n",
       "  <thead>\n",
       "    <tr style=\"text-align: right;\">\n",
       "      <th></th>\n",
       "      <th>NumDots</th>\n",
       "      <th>SubdomainLevel</th>\n",
       "      <th>PathLevel</th>\n",
       "      <th>UrlLength</th>\n",
       "      <th>NumDash</th>\n",
       "      <th>NumDashInHostname</th>\n",
       "      <th>AtSymbol</th>\n",
       "      <th>TildeSymbol</th>\n",
       "      <th>NumUnderscore</th>\n",
       "      <th>NumPercent</th>\n",
       "      <th>...</th>\n",
       "      <th>HttpsInHostname</th>\n",
       "      <th>HostnameLength</th>\n",
       "      <th>PathLength</th>\n",
       "      <th>QueryLength</th>\n",
       "      <th>DoubleSlashInPath</th>\n",
       "      <th>TinyURL</th>\n",
       "      <th>iFrame</th>\n",
       "      <th>Mouse_Over</th>\n",
       "      <th>Web_Forwards</th>\n",
       "      <th>Label</th>\n",
       "    </tr>\n",
       "  </thead>\n",
       "  <tbody>\n",
       "    <tr>\n",
       "      <th>count</th>\n",
       "      <td>10000.00000</td>\n",
       "      <td>10000.000000</td>\n",
       "      <td>10000.000000</td>\n",
       "      <td>10000.000000</td>\n",
       "      <td>10000.000000</td>\n",
       "      <td>10000.000000</td>\n",
       "      <td>10000.0000</td>\n",
       "      <td>10000.0000</td>\n",
       "      <td>10000.000000</td>\n",
       "      <td>10000.000000</td>\n",
       "      <td>...</td>\n",
       "      <td>10000.00000</td>\n",
       "      <td>10000.000000</td>\n",
       "      <td>10000.00000</td>\n",
       "      <td>10000.000000</td>\n",
       "      <td>10000.000000</td>\n",
       "      <td>10000.000000</td>\n",
       "      <td>10000.000000</td>\n",
       "      <td>10000.000000</td>\n",
       "      <td>10000.000000</td>\n",
       "      <td>10000.000000</td>\n",
       "    </tr>\n",
       "    <tr>\n",
       "      <th>mean</th>\n",
       "      <td>2.40150</td>\n",
       "      <td>3.231500</td>\n",
       "      <td>3.567600</td>\n",
       "      <td>58.107500</td>\n",
       "      <td>1.022000</td>\n",
       "      <td>0.932400</td>\n",
       "      <td>0.0067</td>\n",
       "      <td>0.0171</td>\n",
       "      <td>0.370700</td>\n",
       "      <td>0.132200</td>\n",
       "      <td>...</td>\n",
       "      <td>0.00160</td>\n",
       "      <td>18.891200</td>\n",
       "      <td>27.56840</td>\n",
       "      <td>11.564900</td>\n",
       "      <td>0.003200</td>\n",
       "      <td>0.069200</td>\n",
       "      <td>0.999800</td>\n",
       "      <td>0.999800</td>\n",
       "      <td>0.999800</td>\n",
       "      <td>0.500000</td>\n",
       "    </tr>\n",
       "    <tr>\n",
       "      <th>std</th>\n",
       "      <td>2.05867</td>\n",
       "      <td>1.774436</td>\n",
       "      <td>1.701152</td>\n",
       "      <td>55.254687</td>\n",
       "      <td>2.192943</td>\n",
       "      <td>2.111747</td>\n",
       "      <td>0.0828</td>\n",
       "      <td>0.1327</td>\n",
       "      <td>1.137722</td>\n",
       "      <td>1.450218</td>\n",
       "      <td>...</td>\n",
       "      <td>0.03997</td>\n",
       "      <td>16.948413</td>\n",
       "      <td>26.07158</td>\n",
       "      <td>43.283252</td>\n",
       "      <td>0.056481</td>\n",
       "      <td>0.253807</td>\n",
       "      <td>0.014141</td>\n",
       "      <td>0.014141</td>\n",
       "      <td>0.014141</td>\n",
       "      <td>0.500025</td>\n",
       "    </tr>\n",
       "    <tr>\n",
       "      <th>min</th>\n",
       "      <td>0.00000</td>\n",
       "      <td>1.000000</td>\n",
       "      <td>1.000000</td>\n",
       "      <td>7.000000</td>\n",
       "      <td>0.000000</td>\n",
       "      <td>0.000000</td>\n",
       "      <td>0.0000</td>\n",
       "      <td>0.0000</td>\n",
       "      <td>0.000000</td>\n",
       "      <td>0.000000</td>\n",
       "      <td>...</td>\n",
       "      <td>0.00000</td>\n",
       "      <td>2.000000</td>\n",
       "      <td>1.00000</td>\n",
       "      <td>0.000000</td>\n",
       "      <td>0.000000</td>\n",
       "      <td>0.000000</td>\n",
       "      <td>0.000000</td>\n",
       "      <td>0.000000</td>\n",
       "      <td>0.000000</td>\n",
       "      <td>0.000000</td>\n",
       "    </tr>\n",
       "    <tr>\n",
       "      <th>25%</th>\n",
       "      <td>1.00000</td>\n",
       "      <td>2.000000</td>\n",
       "      <td>2.000000</td>\n",
       "      <td>30.000000</td>\n",
       "      <td>0.000000</td>\n",
       "      <td>0.000000</td>\n",
       "      <td>0.0000</td>\n",
       "      <td>0.0000</td>\n",
       "      <td>0.000000</td>\n",
       "      <td>0.000000</td>\n",
       "      <td>...</td>\n",
       "      <td>0.00000</td>\n",
       "      <td>12.000000</td>\n",
       "      <td>11.00000</td>\n",
       "      <td>0.000000</td>\n",
       "      <td>0.000000</td>\n",
       "      <td>0.000000</td>\n",
       "      <td>1.000000</td>\n",
       "      <td>1.000000</td>\n",
       "      <td>1.000000</td>\n",
       "      <td>0.000000</td>\n",
       "    </tr>\n",
       "    <tr>\n",
       "      <th>50%</th>\n",
       "      <td>2.00000</td>\n",
       "      <td>3.000000</td>\n",
       "      <td>3.000000</td>\n",
       "      <td>43.000000</td>\n",
       "      <td>0.000000</td>\n",
       "      <td>0.000000</td>\n",
       "      <td>0.0000</td>\n",
       "      <td>0.0000</td>\n",
       "      <td>0.000000</td>\n",
       "      <td>0.000000</td>\n",
       "      <td>...</td>\n",
       "      <td>0.00000</td>\n",
       "      <td>16.000000</td>\n",
       "      <td>21.00000</td>\n",
       "      <td>0.000000</td>\n",
       "      <td>0.000000</td>\n",
       "      <td>0.000000</td>\n",
       "      <td>1.000000</td>\n",
       "      <td>1.000000</td>\n",
       "      <td>1.000000</td>\n",
       "      <td>0.500000</td>\n",
       "    </tr>\n",
       "    <tr>\n",
       "      <th>75%</th>\n",
       "      <td>3.00000</td>\n",
       "      <td>4.000000</td>\n",
       "      <td>4.000000</td>\n",
       "      <td>66.000000</td>\n",
       "      <td>1.000000</td>\n",
       "      <td>1.000000</td>\n",
       "      <td>0.0000</td>\n",
       "      <td>0.0000</td>\n",
       "      <td>0.000000</td>\n",
       "      <td>0.000000</td>\n",
       "      <td>...</td>\n",
       "      <td>0.00000</td>\n",
       "      <td>20.000000</td>\n",
       "      <td>37.00000</td>\n",
       "      <td>0.000000</td>\n",
       "      <td>0.000000</td>\n",
       "      <td>0.000000</td>\n",
       "      <td>1.000000</td>\n",
       "      <td>1.000000</td>\n",
       "      <td>1.000000</td>\n",
       "      <td>1.000000</td>\n",
       "    </tr>\n",
       "    <tr>\n",
       "      <th>max</th>\n",
       "      <td>36.00000</td>\n",
       "      <td>24.000000</td>\n",
       "      <td>23.000000</td>\n",
       "      <td>908.000000</td>\n",
       "      <td>26.000000</td>\n",
       "      <td>26.000000</td>\n",
       "      <td>2.0000</td>\n",
       "      <td>3.0000</td>\n",
       "      <td>21.000000</td>\n",
       "      <td>60.000000</td>\n",
       "      <td>...</td>\n",
       "      <td>1.00000</td>\n",
       "      <td>234.000000</td>\n",
       "      <td>445.00000</td>\n",
       "      <td>887.000000</td>\n",
       "      <td>1.000000</td>\n",
       "      <td>1.000000</td>\n",
       "      <td>1.000000</td>\n",
       "      <td>1.000000</td>\n",
       "      <td>1.000000</td>\n",
       "      <td>1.000000</td>\n",
       "    </tr>\n",
       "  </tbody>\n",
       "</table>\n",
       "<p>8 rows × 26 columns</p>\n",
       "</div>"
      ],
      "text/plain": [
       "           NumDots  SubdomainLevel     PathLevel     UrlLength       NumDash  \\\n",
       "count  10000.00000    10000.000000  10000.000000  10000.000000  10000.000000   \n",
       "mean       2.40150        3.231500      3.567600     58.107500      1.022000   \n",
       "std        2.05867        1.774436      1.701152     55.254687      2.192943   \n",
       "min        0.00000        1.000000      1.000000      7.000000      0.000000   \n",
       "25%        1.00000        2.000000      2.000000     30.000000      0.000000   \n",
       "50%        2.00000        3.000000      3.000000     43.000000      0.000000   \n",
       "75%        3.00000        4.000000      4.000000     66.000000      1.000000   \n",
       "max       36.00000       24.000000     23.000000    908.000000     26.000000   \n",
       "\n",
       "       NumDashInHostname    AtSymbol  TildeSymbol  NumUnderscore  \\\n",
       "count       10000.000000  10000.0000   10000.0000   10000.000000   \n",
       "mean            0.932400      0.0067       0.0171       0.370700   \n",
       "std             2.111747      0.0828       0.1327       1.137722   \n",
       "min             0.000000      0.0000       0.0000       0.000000   \n",
       "25%             0.000000      0.0000       0.0000       0.000000   \n",
       "50%             0.000000      0.0000       0.0000       0.000000   \n",
       "75%             1.000000      0.0000       0.0000       0.000000   \n",
       "max            26.000000      2.0000       3.0000      21.000000   \n",
       "\n",
       "         NumPercent  ...  HttpsInHostname  HostnameLength   PathLength  \\\n",
       "count  10000.000000  ...      10000.00000    10000.000000  10000.00000   \n",
       "mean       0.132200  ...          0.00160       18.891200     27.56840   \n",
       "std        1.450218  ...          0.03997       16.948413     26.07158   \n",
       "min        0.000000  ...          0.00000        2.000000      1.00000   \n",
       "25%        0.000000  ...          0.00000       12.000000     11.00000   \n",
       "50%        0.000000  ...          0.00000       16.000000     21.00000   \n",
       "75%        0.000000  ...          0.00000       20.000000     37.00000   \n",
       "max       60.000000  ...          1.00000      234.000000    445.00000   \n",
       "\n",
       "        QueryLength  DoubleSlashInPath       TinyURL        iFrame  \\\n",
       "count  10000.000000       10000.000000  10000.000000  10000.000000   \n",
       "mean      11.564900           0.003200      0.069200      0.999800   \n",
       "std       43.283252           0.056481      0.253807      0.014141   \n",
       "min        0.000000           0.000000      0.000000      0.000000   \n",
       "25%        0.000000           0.000000      0.000000      1.000000   \n",
       "50%        0.000000           0.000000      0.000000      1.000000   \n",
       "75%        0.000000           0.000000      0.000000      1.000000   \n",
       "max      887.000000           1.000000      1.000000      1.000000   \n",
       "\n",
       "         Mouse_Over  Web_Forwards         Label  \n",
       "count  10000.000000  10000.000000  10000.000000  \n",
       "mean       0.999800      0.999800      0.500000  \n",
       "std        0.014141      0.014141      0.500025  \n",
       "min        0.000000      0.000000      0.000000  \n",
       "25%        1.000000      1.000000      0.000000  \n",
       "50%        1.000000      1.000000      0.500000  \n",
       "75%        1.000000      1.000000      1.000000  \n",
       "max        1.000000      1.000000      1.000000  \n",
       "\n",
       "[8 rows x 26 columns]"
      ]
     },
     "execution_count": 286,
     "metadata": {},
     "output_type": "execute_result"
    }
   ],
   "source": [
    "urldata.describe()"
   ]
  },
  {
   "cell_type": "code",
   "execution_count": 287,
   "id": "d3718feb",
   "metadata": {},
   "outputs": [],
   "source": [
    "# Storing the data in CSV file\n",
    "urldata.to_csv('urldata.csv', index=False)"
   ]
  },
  {
   "cell_type": "code",
   "execution_count": 288,
   "id": "92cf7c80",
   "metadata": {},
   "outputs": [
    {
     "data": {
      "text/plain": [
       "['NumDots',\n",
       " 'SubdomainLevel',\n",
       " 'PathLevel',\n",
       " 'UrlLength',\n",
       " 'NumDash',\n",
       " 'NumDashInHostname',\n",
       " 'AtSymbol',\n",
       " 'TildeSymbol',\n",
       " 'NumUnderscore',\n",
       " 'NumPercent',\n",
       " 'NumQueryComponents',\n",
       " 'NumAmpersand',\n",
       " 'NumHash',\n",
       " 'NumNumericChars',\n",
       " 'NoHttps',\n",
       " 'RandomString',\n",
       " 'IpAddress',\n",
       " 'HttpsInHostname',\n",
       " 'HostnameLength',\n",
       " 'PathLength',\n",
       " 'QueryLength',\n",
       " 'DoubleSlashInPath',\n",
       " 'TinyURL',\n",
       " 'iFrame',\n",
       " 'Mouse_Over',\n",
       " 'Web_Forwards',\n",
       " 'Label']"
      ]
     },
     "execution_count": 288,
     "metadata": {},
     "output_type": "execute_result"
    }
   ],
   "source": [
    "list(urldata.columns)"
   ]
  },
  {
   "cell_type": "code",
   "execution_count": 289,
   "id": "f558d7b8",
   "metadata": {},
   "outputs": [],
   "source": [
    "urldata = urldata.drop(columns = 'IpAddress')"
   ]
  },
  {
   "cell_type": "code",
   "execution_count": 290,
   "id": "20a79467",
   "metadata": {},
   "outputs": [
    {
     "name": "stdout",
     "output_type": "stream",
     "text": [
      "NumDots has 24 unique values\n",
      "SubdomainLevel has 23 unique values\n",
      "PathLevel has 19 unique values\n",
      "UrlLength has 316 unique values\n",
      "NumDash has 25 unique values\n",
      "NumDashInHostname has 25 unique values\n",
      "AtSymbol contains:\t\t\t[0 1 2]\n",
      "TildeSymbol contains:\t\t\t[0 1 2 3]\n",
      "NumUnderscore has 18 unique values\n",
      "NumPercent has 23 unique values\n",
      "NumQueryComponents has 13 unique values\n",
      "NumAmpersand has 20 unique values\n",
      "NumHash contains:\t\t\t[0 1]\n",
      "NumNumericChars has 127 unique values\n",
      "NoHttps contains:\t\t\t[0 1]\n",
      "RandomString contains:\t\t\t[0 1]\n",
      "HttpsInHostname contains:\t\t\t[0 1]\n",
      "HostnameLength has 143 unique values\n",
      "PathLength has 183 unique values\n",
      "QueryLength has 215 unique values\n",
      "DoubleSlashInPath contains:\t\t\t[0 1]\n",
      "TinyURL contains:\t\t\t[0 1]\n",
      "iFrame contains:\t\t\t[1 0]\n",
      "Mouse_Over contains:\t\t\t[1 0]\n",
      "Web_Forwards contains:\t\t\t[1 0]\n",
      "Label contains:\t\t\t[0 1]\n"
     ]
    }
   ],
   "source": [
    "for col in urldata.columns:\n",
    "    unique_value_list = urldata[col].unique()\n",
    "    if len(unique_value_list) > 10:\n",
    "        print(f'{col} has {urldata[col].nunique()} unique values')\n",
    "    else:\n",
    "        print(f'{col} contains:\\t\\t\\t{unique_value_list}')"
   ]
  },
  {
   "cell_type": "code",
   "execution_count": 291,
   "id": "57af4ff9",
   "metadata": {},
   "outputs": [],
   "source": [
    "import matplotlib.pyplot as plt\n",
    "import seaborn as sns\n",
    "import pandas as pd\n",
    "import numpy as np\n",
    "from sklearn.model_selection import train_test_split\n",
    "from sklearn.metrics import accuracy_score\n",
    "from sklearn.linear_model import LogisticRegression"
   ]
  },
  {
   "cell_type": "code",
   "execution_count": null,
   "id": "3e3d6d01",
   "metadata": {},
   "outputs": [],
   "source": []
  },
  {
   "cell_type": "code",
   "execution_count": 292,
   "id": "e20fe94d",
   "metadata": {},
   "outputs": [],
   "source": [
    "target = urldata['Label']\n",
    "features = urldata.drop(['Label'], axis=1)"
   ]
  },
  {
   "cell_type": "code",
   "execution_count": 293,
   "id": "ecc908ec",
   "metadata": {},
   "outputs": [],
   "source": [
    "# Splitting the data into training and testing sets\n",
    "X_train, X_test, y_train, y_test = train_test_split(features, target, test_size=0.2, random_state=42)"
   ]
  },
  {
   "cell_type": "markdown",
   "id": "41f2d6c1",
   "metadata": {},
   "source": [
    "# Standardization"
   ]
  },
  {
   "cell_type": "code",
   "execution_count": 37,
   "id": "2dd90483",
   "metadata": {},
   "outputs": [],
   "source": [
    "from sklearn.preprocessing import MinMaxScaler"
   ]
  },
  {
   "cell_type": "code",
   "execution_count": 295,
   "id": "ec4e1db5",
   "metadata": {},
   "outputs": [],
   "source": [
    "scaler = MinMaxScaler()"
   ]
  },
  {
   "cell_type": "code",
   "execution_count": 296,
   "id": "014dc004",
   "metadata": {},
   "outputs": [
    {
     "data": {
      "text/html": [
       "<style>#sk-container-id-8 {color: black;}#sk-container-id-8 pre{padding: 0;}#sk-container-id-8 div.sk-toggleable {background-color: white;}#sk-container-id-8 label.sk-toggleable__label {cursor: pointer;display: block;width: 100%;margin-bottom: 0;padding: 0.3em;box-sizing: border-box;text-align: center;}#sk-container-id-8 label.sk-toggleable__label-arrow:before {content: \"▸\";float: left;margin-right: 0.25em;color: #696969;}#sk-container-id-8 label.sk-toggleable__label-arrow:hover:before {color: black;}#sk-container-id-8 div.sk-estimator:hover label.sk-toggleable__label-arrow:before {color: black;}#sk-container-id-8 div.sk-toggleable__content {max-height: 0;max-width: 0;overflow: hidden;text-align: left;background-color: #f0f8ff;}#sk-container-id-8 div.sk-toggleable__content pre {margin: 0.2em;color: black;border-radius: 0.25em;background-color: #f0f8ff;}#sk-container-id-8 input.sk-toggleable__control:checked~div.sk-toggleable__content {max-height: 200px;max-width: 100%;overflow: auto;}#sk-container-id-8 input.sk-toggleable__control:checked~label.sk-toggleable__label-arrow:before {content: \"▾\";}#sk-container-id-8 div.sk-estimator input.sk-toggleable__control:checked~label.sk-toggleable__label {background-color: #d4ebff;}#sk-container-id-8 div.sk-label input.sk-toggleable__control:checked~label.sk-toggleable__label {background-color: #d4ebff;}#sk-container-id-8 input.sk-hidden--visually {border: 0;clip: rect(1px 1px 1px 1px);clip: rect(1px, 1px, 1px, 1px);height: 1px;margin: -1px;overflow: hidden;padding: 0;position: absolute;width: 1px;}#sk-container-id-8 div.sk-estimator {font-family: monospace;background-color: #f0f8ff;border: 1px dotted black;border-radius: 0.25em;box-sizing: border-box;margin-bottom: 0.5em;}#sk-container-id-8 div.sk-estimator:hover {background-color: #d4ebff;}#sk-container-id-8 div.sk-parallel-item::after {content: \"\";width: 100%;border-bottom: 1px solid gray;flex-grow: 1;}#sk-container-id-8 div.sk-label:hover label.sk-toggleable__label {background-color: #d4ebff;}#sk-container-id-8 div.sk-serial::before {content: \"\";position: absolute;border-left: 1px solid gray;box-sizing: border-box;top: 0;bottom: 0;left: 50%;z-index: 0;}#sk-container-id-8 div.sk-serial {display: flex;flex-direction: column;align-items: center;background-color: white;padding-right: 0.2em;padding-left: 0.2em;position: relative;}#sk-container-id-8 div.sk-item {position: relative;z-index: 1;}#sk-container-id-8 div.sk-parallel {display: flex;align-items: stretch;justify-content: center;background-color: white;position: relative;}#sk-container-id-8 div.sk-item::before, #sk-container-id-8 div.sk-parallel-item::before {content: \"\";position: absolute;border-left: 1px solid gray;box-sizing: border-box;top: 0;bottom: 0;left: 50%;z-index: -1;}#sk-container-id-8 div.sk-parallel-item {display: flex;flex-direction: column;z-index: 1;position: relative;background-color: white;}#sk-container-id-8 div.sk-parallel-item:first-child::after {align-self: flex-end;width: 50%;}#sk-container-id-8 div.sk-parallel-item:last-child::after {align-self: flex-start;width: 50%;}#sk-container-id-8 div.sk-parallel-item:only-child::after {width: 0;}#sk-container-id-8 div.sk-dashed-wrapped {border: 1px dashed gray;margin: 0 0.4em 0.5em 0.4em;box-sizing: border-box;padding-bottom: 0.4em;background-color: white;}#sk-container-id-8 div.sk-label label {font-family: monospace;font-weight: bold;display: inline-block;line-height: 1.2em;}#sk-container-id-8 div.sk-label-container {text-align: center;}#sk-container-id-8 div.sk-container {/* jupyter's `normalize.less` sets `[hidden] { display: none; }` but bootstrap.min.css set `[hidden] { display: none !important; }` so we also need the `!important` here to be able to override the default hidden behavior on the sphinx rendered scikit-learn.org. See: https://github.com/scikit-learn/scikit-learn/issues/21755 */display: inline-block !important;position: relative;}#sk-container-id-8 div.sk-text-repr-fallback {display: none;}</style><div id=\"sk-container-id-8\" class=\"sk-top-container\"><div class=\"sk-text-repr-fallback\"><pre>MinMaxScaler()</pre><b>In a Jupyter environment, please rerun this cell to show the HTML representation or trust the notebook. <br />On GitHub, the HTML representation is unable to render, please try loading this page with nbviewer.org.</b></div><div class=\"sk-container\" hidden><div class=\"sk-item\"><div class=\"sk-estimator sk-toggleable\"><input class=\"sk-toggleable__control sk-hidden--visually\" id=\"sk-estimator-id-8\" type=\"checkbox\" checked><label for=\"sk-estimator-id-8\" class=\"sk-toggleable__label sk-toggleable__label-arrow\">MinMaxScaler</label><div class=\"sk-toggleable__content\"><pre>MinMaxScaler()</pre></div></div></div></div></div>"
      ],
      "text/plain": [
       "MinMaxScaler()"
      ]
     },
     "execution_count": 296,
     "metadata": {},
     "output_type": "execute_result"
    }
   ],
   "source": [
    "# Fit the scaler to the train set, it will learn the parameters\n",
    "\n",
    "scaler.fit(X_train)"
   ]
  },
  {
   "cell_type": "code",
   "execution_count": 297,
   "id": "c75ee3f8",
   "metadata": {},
   "outputs": [],
   "source": [
    "# Transform train and test sets\n",
    "\n",
    "X_train_scaled = scaler.transform(X_train)\n",
    "X_test_scaled = scaler.transform(X_test)"
   ]
  },
  {
   "cell_type": "code",
   "execution_count": 298,
   "id": "b00d8172",
   "metadata": {},
   "outputs": [
    {
     "data": {
      "text/html": [
       "<style>#sk-container-id-9 {color: black;}#sk-container-id-9 pre{padding: 0;}#sk-container-id-9 div.sk-toggleable {background-color: white;}#sk-container-id-9 label.sk-toggleable__label {cursor: pointer;display: block;width: 100%;margin-bottom: 0;padding: 0.3em;box-sizing: border-box;text-align: center;}#sk-container-id-9 label.sk-toggleable__label-arrow:before {content: \"▸\";float: left;margin-right: 0.25em;color: #696969;}#sk-container-id-9 label.sk-toggleable__label-arrow:hover:before {color: black;}#sk-container-id-9 div.sk-estimator:hover label.sk-toggleable__label-arrow:before {color: black;}#sk-container-id-9 div.sk-toggleable__content {max-height: 0;max-width: 0;overflow: hidden;text-align: left;background-color: #f0f8ff;}#sk-container-id-9 div.sk-toggleable__content pre {margin: 0.2em;color: black;border-radius: 0.25em;background-color: #f0f8ff;}#sk-container-id-9 input.sk-toggleable__control:checked~div.sk-toggleable__content {max-height: 200px;max-width: 100%;overflow: auto;}#sk-container-id-9 input.sk-toggleable__control:checked~label.sk-toggleable__label-arrow:before {content: \"▾\";}#sk-container-id-9 div.sk-estimator input.sk-toggleable__control:checked~label.sk-toggleable__label {background-color: #d4ebff;}#sk-container-id-9 div.sk-label input.sk-toggleable__control:checked~label.sk-toggleable__label {background-color: #d4ebff;}#sk-container-id-9 input.sk-hidden--visually {border: 0;clip: rect(1px 1px 1px 1px);clip: rect(1px, 1px, 1px, 1px);height: 1px;margin: -1px;overflow: hidden;padding: 0;position: absolute;width: 1px;}#sk-container-id-9 div.sk-estimator {font-family: monospace;background-color: #f0f8ff;border: 1px dotted black;border-radius: 0.25em;box-sizing: border-box;margin-bottom: 0.5em;}#sk-container-id-9 div.sk-estimator:hover {background-color: #d4ebff;}#sk-container-id-9 div.sk-parallel-item::after {content: \"\";width: 100%;border-bottom: 1px solid gray;flex-grow: 1;}#sk-container-id-9 div.sk-label:hover label.sk-toggleable__label {background-color: #d4ebff;}#sk-container-id-9 div.sk-serial::before {content: \"\";position: absolute;border-left: 1px solid gray;box-sizing: border-box;top: 0;bottom: 0;left: 50%;z-index: 0;}#sk-container-id-9 div.sk-serial {display: flex;flex-direction: column;align-items: center;background-color: white;padding-right: 0.2em;padding-left: 0.2em;position: relative;}#sk-container-id-9 div.sk-item {position: relative;z-index: 1;}#sk-container-id-9 div.sk-parallel {display: flex;align-items: stretch;justify-content: center;background-color: white;position: relative;}#sk-container-id-9 div.sk-item::before, #sk-container-id-9 div.sk-parallel-item::before {content: \"\";position: absolute;border-left: 1px solid gray;box-sizing: border-box;top: 0;bottom: 0;left: 50%;z-index: -1;}#sk-container-id-9 div.sk-parallel-item {display: flex;flex-direction: column;z-index: 1;position: relative;background-color: white;}#sk-container-id-9 div.sk-parallel-item:first-child::after {align-self: flex-end;width: 50%;}#sk-container-id-9 div.sk-parallel-item:last-child::after {align-self: flex-start;width: 50%;}#sk-container-id-9 div.sk-parallel-item:only-child::after {width: 0;}#sk-container-id-9 div.sk-dashed-wrapped {border: 1px dashed gray;margin: 0 0.4em 0.5em 0.4em;box-sizing: border-box;padding-bottom: 0.4em;background-color: white;}#sk-container-id-9 div.sk-label label {font-family: monospace;font-weight: bold;display: inline-block;line-height: 1.2em;}#sk-container-id-9 div.sk-label-container {text-align: center;}#sk-container-id-9 div.sk-container {/* jupyter's `normalize.less` sets `[hidden] { display: none; }` but bootstrap.min.css set `[hidden] { display: none !important; }` so we also need the `!important` here to be able to override the default hidden behavior on the sphinx rendered scikit-learn.org. See: https://github.com/scikit-learn/scikit-learn/issues/21755 */display: inline-block !important;position: relative;}#sk-container-id-9 div.sk-text-repr-fallback {display: none;}</style><div id=\"sk-container-id-9\" class=\"sk-top-container\"><div class=\"sk-text-repr-fallback\"><pre>MinMaxScaler()</pre><b>In a Jupyter environment, please rerun this cell to show the HTML representation or trust the notebook. <br />On GitHub, the HTML representation is unable to render, please try loading this page with nbviewer.org.</b></div><div class=\"sk-container\" hidden><div class=\"sk-item\"><div class=\"sk-estimator sk-toggleable\"><input class=\"sk-toggleable__control sk-hidden--visually\" id=\"sk-estimator-id-9\" type=\"checkbox\" checked><label for=\"sk-estimator-id-9\" class=\"sk-toggleable__label sk-toggleable__label-arrow\">MinMaxScaler</label><div class=\"sk-toggleable__content\"><pre>MinMaxScaler()</pre></div></div></div></div></div>"
      ],
      "text/plain": [
       "MinMaxScaler()"
      ]
     },
     "execution_count": 298,
     "metadata": {},
     "output_type": "execute_result"
    }
   ],
   "source": [
    "scaler"
   ]
  },
  {
   "cell_type": "code",
   "execution_count": 299,
   "id": "40435675",
   "metadata": {},
   "outputs": [],
   "source": [
    "X_train_scaled = pd.DataFrame(X_train_scaled, columns=X_train.columns)"
   ]
  },
  {
   "cell_type": "code",
   "execution_count": 300,
   "id": "d9663e10",
   "metadata": {},
   "outputs": [
    {
     "data": {
      "text/html": [
       "<div>\n",
       "<style scoped>\n",
       "    .dataframe tbody tr th:only-of-type {\n",
       "        vertical-align: middle;\n",
       "    }\n",
       "\n",
       "    .dataframe tbody tr th {\n",
       "        vertical-align: top;\n",
       "    }\n",
       "\n",
       "    .dataframe thead th {\n",
       "        text-align: right;\n",
       "    }\n",
       "</style>\n",
       "<table border=\"1\" class=\"dataframe\">\n",
       "  <thead>\n",
       "    <tr style=\"text-align: right;\">\n",
       "      <th></th>\n",
       "      <th>NumDots</th>\n",
       "      <th>SubdomainLevel</th>\n",
       "      <th>PathLevel</th>\n",
       "      <th>UrlLength</th>\n",
       "      <th>NumDash</th>\n",
       "      <th>NumDashInHostname</th>\n",
       "      <th>AtSymbol</th>\n",
       "      <th>TildeSymbol</th>\n",
       "      <th>NumUnderscore</th>\n",
       "      <th>NumPercent</th>\n",
       "      <th>...</th>\n",
       "      <th>RandomString</th>\n",
       "      <th>HttpsInHostname</th>\n",
       "      <th>HostnameLength</th>\n",
       "      <th>PathLength</th>\n",
       "      <th>QueryLength</th>\n",
       "      <th>DoubleSlashInPath</th>\n",
       "      <th>TinyURL</th>\n",
       "      <th>iFrame</th>\n",
       "      <th>Mouse_Over</th>\n",
       "      <th>Web_Forwards</th>\n",
       "    </tr>\n",
       "  </thead>\n",
       "  <tbody>\n",
       "    <tr>\n",
       "      <th>count</th>\n",
       "      <td>8000.0</td>\n",
       "      <td>8000.0</td>\n",
       "      <td>8000.0</td>\n",
       "      <td>8000.0</td>\n",
       "      <td>8000.0</td>\n",
       "      <td>8000.0</td>\n",
       "      <td>8000.0</td>\n",
       "      <td>8000.0</td>\n",
       "      <td>8000.0</td>\n",
       "      <td>8000.0</td>\n",
       "      <td>...</td>\n",
       "      <td>8000.0</td>\n",
       "      <td>8000.0</td>\n",
       "      <td>8000.0</td>\n",
       "      <td>8000.0</td>\n",
       "      <td>8000.0</td>\n",
       "      <td>8000.0</td>\n",
       "      <td>8000.0</td>\n",
       "      <td>8000.0</td>\n",
       "      <td>8000.0</td>\n",
       "      <td>8000.0</td>\n",
       "    </tr>\n",
       "    <tr>\n",
       "      <th>mean</th>\n",
       "      <td>0.0</td>\n",
       "      <td>0.0</td>\n",
       "      <td>0.0</td>\n",
       "      <td>0.0</td>\n",
       "      <td>0.0</td>\n",
       "      <td>0.0</td>\n",
       "      <td>0.0</td>\n",
       "      <td>0.0</td>\n",
       "      <td>0.0</td>\n",
       "      <td>0.0</td>\n",
       "      <td>...</td>\n",
       "      <td>0.0</td>\n",
       "      <td>0.0</td>\n",
       "      <td>0.0</td>\n",
       "      <td>0.0</td>\n",
       "      <td>0.0</td>\n",
       "      <td>0.0</td>\n",
       "      <td>0.0</td>\n",
       "      <td>1.0</td>\n",
       "      <td>1.0</td>\n",
       "      <td>1.0</td>\n",
       "    </tr>\n",
       "    <tr>\n",
       "      <th>std</th>\n",
       "      <td>0.0</td>\n",
       "      <td>0.0</td>\n",
       "      <td>0.0</td>\n",
       "      <td>0.0</td>\n",
       "      <td>0.0</td>\n",
       "      <td>0.0</td>\n",
       "      <td>0.0</td>\n",
       "      <td>0.0</td>\n",
       "      <td>0.0</td>\n",
       "      <td>0.0</td>\n",
       "      <td>...</td>\n",
       "      <td>0.0</td>\n",
       "      <td>0.0</td>\n",
       "      <td>0.0</td>\n",
       "      <td>0.0</td>\n",
       "      <td>0.0</td>\n",
       "      <td>0.0</td>\n",
       "      <td>0.0</td>\n",
       "      <td>0.0</td>\n",
       "      <td>0.0</td>\n",
       "      <td>0.0</td>\n",
       "    </tr>\n",
       "    <tr>\n",
       "      <th>min</th>\n",
       "      <td>0.0</td>\n",
       "      <td>0.0</td>\n",
       "      <td>0.0</td>\n",
       "      <td>0.0</td>\n",
       "      <td>0.0</td>\n",
       "      <td>0.0</td>\n",
       "      <td>0.0</td>\n",
       "      <td>0.0</td>\n",
       "      <td>0.0</td>\n",
       "      <td>0.0</td>\n",
       "      <td>...</td>\n",
       "      <td>0.0</td>\n",
       "      <td>0.0</td>\n",
       "      <td>0.0</td>\n",
       "      <td>0.0</td>\n",
       "      <td>0.0</td>\n",
       "      <td>0.0</td>\n",
       "      <td>0.0</td>\n",
       "      <td>0.0</td>\n",
       "      <td>0.0</td>\n",
       "      <td>0.0</td>\n",
       "    </tr>\n",
       "    <tr>\n",
       "      <th>25%</th>\n",
       "      <td>0.0</td>\n",
       "      <td>0.0</td>\n",
       "      <td>0.0</td>\n",
       "      <td>0.0</td>\n",
       "      <td>0.0</td>\n",
       "      <td>0.0</td>\n",
       "      <td>0.0</td>\n",
       "      <td>0.0</td>\n",
       "      <td>0.0</td>\n",
       "      <td>0.0</td>\n",
       "      <td>...</td>\n",
       "      <td>0.0</td>\n",
       "      <td>0.0</td>\n",
       "      <td>0.0</td>\n",
       "      <td>0.0</td>\n",
       "      <td>0.0</td>\n",
       "      <td>0.0</td>\n",
       "      <td>0.0</td>\n",
       "      <td>1.0</td>\n",
       "      <td>1.0</td>\n",
       "      <td>1.0</td>\n",
       "    </tr>\n",
       "    <tr>\n",
       "      <th>50%</th>\n",
       "      <td>0.0</td>\n",
       "      <td>0.0</td>\n",
       "      <td>0.0</td>\n",
       "      <td>0.0</td>\n",
       "      <td>0.0</td>\n",
       "      <td>0.0</td>\n",
       "      <td>0.0</td>\n",
       "      <td>0.0</td>\n",
       "      <td>0.0</td>\n",
       "      <td>0.0</td>\n",
       "      <td>...</td>\n",
       "      <td>0.0</td>\n",
       "      <td>0.0</td>\n",
       "      <td>0.0</td>\n",
       "      <td>0.0</td>\n",
       "      <td>0.0</td>\n",
       "      <td>0.0</td>\n",
       "      <td>0.0</td>\n",
       "      <td>1.0</td>\n",
       "      <td>1.0</td>\n",
       "      <td>1.0</td>\n",
       "    </tr>\n",
       "    <tr>\n",
       "      <th>75%</th>\n",
       "      <td>0.0</td>\n",
       "      <td>0.0</td>\n",
       "      <td>0.0</td>\n",
       "      <td>0.0</td>\n",
       "      <td>0.0</td>\n",
       "      <td>0.0</td>\n",
       "      <td>0.0</td>\n",
       "      <td>0.0</td>\n",
       "      <td>0.0</td>\n",
       "      <td>0.0</td>\n",
       "      <td>...</td>\n",
       "      <td>0.0</td>\n",
       "      <td>0.0</td>\n",
       "      <td>0.0</td>\n",
       "      <td>0.0</td>\n",
       "      <td>0.0</td>\n",
       "      <td>0.0</td>\n",
       "      <td>0.0</td>\n",
       "      <td>1.0</td>\n",
       "      <td>1.0</td>\n",
       "      <td>1.0</td>\n",
       "    </tr>\n",
       "    <tr>\n",
       "      <th>max</th>\n",
       "      <td>1.0</td>\n",
       "      <td>1.0</td>\n",
       "      <td>1.0</td>\n",
       "      <td>1.0</td>\n",
       "      <td>1.0</td>\n",
       "      <td>1.0</td>\n",
       "      <td>1.0</td>\n",
       "      <td>1.0</td>\n",
       "      <td>1.0</td>\n",
       "      <td>1.0</td>\n",
       "      <td>...</td>\n",
       "      <td>1.0</td>\n",
       "      <td>1.0</td>\n",
       "      <td>1.0</td>\n",
       "      <td>1.0</td>\n",
       "      <td>1.0</td>\n",
       "      <td>1.0</td>\n",
       "      <td>1.0</td>\n",
       "      <td>1.0</td>\n",
       "      <td>1.0</td>\n",
       "      <td>1.0</td>\n",
       "    </tr>\n",
       "  </tbody>\n",
       "</table>\n",
       "<p>8 rows × 25 columns</p>\n",
       "</div>"
      ],
      "text/plain": [
       "       NumDots  SubdomainLevel  PathLevel  UrlLength  NumDash  \\\n",
       "count   8000.0          8000.0     8000.0     8000.0   8000.0   \n",
       "mean       0.0             0.0        0.0        0.0      0.0   \n",
       "std        0.0             0.0        0.0        0.0      0.0   \n",
       "min        0.0             0.0        0.0        0.0      0.0   \n",
       "25%        0.0             0.0        0.0        0.0      0.0   \n",
       "50%        0.0             0.0        0.0        0.0      0.0   \n",
       "75%        0.0             0.0        0.0        0.0      0.0   \n",
       "max        1.0             1.0        1.0        1.0      1.0   \n",
       "\n",
       "       NumDashInHostname  AtSymbol  TildeSymbol  NumUnderscore  NumPercent  \\\n",
       "count             8000.0    8000.0       8000.0         8000.0      8000.0   \n",
       "mean                 0.0       0.0          0.0            0.0         0.0   \n",
       "std                  0.0       0.0          0.0            0.0         0.0   \n",
       "min                  0.0       0.0          0.0            0.0         0.0   \n",
       "25%                  0.0       0.0          0.0            0.0         0.0   \n",
       "50%                  0.0       0.0          0.0            0.0         0.0   \n",
       "75%                  0.0       0.0          0.0            0.0         0.0   \n",
       "max                  1.0       1.0          1.0            1.0         1.0   \n",
       "\n",
       "       ...  RandomString  HttpsInHostname  HostnameLength  PathLength  \\\n",
       "count  ...        8000.0           8000.0          8000.0      8000.0   \n",
       "mean   ...           0.0              0.0             0.0         0.0   \n",
       "std    ...           0.0              0.0             0.0         0.0   \n",
       "min    ...           0.0              0.0             0.0         0.0   \n",
       "25%    ...           0.0              0.0             0.0         0.0   \n",
       "50%    ...           0.0              0.0             0.0         0.0   \n",
       "75%    ...           0.0              0.0             0.0         0.0   \n",
       "max    ...           1.0              1.0             1.0         1.0   \n",
       "\n",
       "       QueryLength  DoubleSlashInPath  TinyURL  iFrame  Mouse_Over  \\\n",
       "count       8000.0             8000.0   8000.0  8000.0      8000.0   \n",
       "mean           0.0                0.0      0.0     1.0         1.0   \n",
       "std            0.0                0.0      0.0     0.0         0.0   \n",
       "min            0.0                0.0      0.0     0.0         0.0   \n",
       "25%            0.0                0.0      0.0     1.0         1.0   \n",
       "50%            0.0                0.0      0.0     1.0         1.0   \n",
       "75%            0.0                0.0      0.0     1.0         1.0   \n",
       "max            1.0                1.0      1.0     1.0         1.0   \n",
       "\n",
       "       Web_Forwards  \n",
       "count        8000.0  \n",
       "mean            1.0  \n",
       "std             0.0  \n",
       "min             0.0  \n",
       "25%             1.0  \n",
       "50%             1.0  \n",
       "75%             1.0  \n",
       "max             1.0  \n",
       "\n",
       "[8 rows x 25 columns]"
      ]
     },
     "execution_count": 300,
     "metadata": {},
     "output_type": "execute_result"
    }
   ],
   "source": [
    "np.round(X_train_scaled.describe())"
   ]
  },
  {
   "cell_type": "code",
   "execution_count": 301,
   "id": "8ce1bf01",
   "metadata": {},
   "outputs": [
    {
     "name": "stdout",
     "output_type": "stream",
     "text": [
      "Logistic Regression Accuracy: 0.708\n"
     ]
    },
    {
     "name": "stderr",
     "output_type": "stream",
     "text": [
      "C:\\Users\\Admin\\anaconda3\\Lib\\site-packages\\sklearn\\linear_model\\_logistic.py:460: ConvergenceWarning: lbfgs failed to converge (status=1):\n",
      "STOP: TOTAL NO. of ITERATIONS REACHED LIMIT.\n",
      "\n",
      "Increase the number of iterations (max_iter) or scale the data as shown in:\n",
      "    https://scikit-learn.org/stable/modules/preprocessing.html\n",
      "Please also refer to the documentation for alternative solver options:\n",
      "    https://scikit-learn.org/stable/modules/linear_model.html#logistic-regression\n",
      "  n_iter_i = _check_optimize_result(\n"
     ]
    }
   ],
   "source": [
    "lr_model = LogisticRegression(max_iter=1000)\n",
    "\n",
    "lr_model.fit(X_train, y_train)\n",
    "\n",
    "lr_pred = lr_model.predict(X_test)\n",
    "\n",
    "lr_accuracy = accuracy_score(y_test, lr_pred)\n",
    "\n",
    "print(\"Logistic Regression Accuracy:\", lr_accuracy)"
   ]
  },
  {
   "cell_type": "code",
   "execution_count": 302,
   "id": "3e36ffc0",
   "metadata": {},
   "outputs": [],
   "source": [
    "lr_scaled = LogisticRegression(max_iter=10000)"
   ]
  },
  {
   "cell_type": "code",
   "execution_count": 303,
   "id": "f2eaaba4",
   "metadata": {
    "scrolled": false
   },
   "outputs": [
    {
     "data": {
      "text/html": [
       "<style>#sk-container-id-10 {color: black;}#sk-container-id-10 pre{padding: 0;}#sk-container-id-10 div.sk-toggleable {background-color: white;}#sk-container-id-10 label.sk-toggleable__label {cursor: pointer;display: block;width: 100%;margin-bottom: 0;padding: 0.3em;box-sizing: border-box;text-align: center;}#sk-container-id-10 label.sk-toggleable__label-arrow:before {content: \"▸\";float: left;margin-right: 0.25em;color: #696969;}#sk-container-id-10 label.sk-toggleable__label-arrow:hover:before {color: black;}#sk-container-id-10 div.sk-estimator:hover label.sk-toggleable__label-arrow:before {color: black;}#sk-container-id-10 div.sk-toggleable__content {max-height: 0;max-width: 0;overflow: hidden;text-align: left;background-color: #f0f8ff;}#sk-container-id-10 div.sk-toggleable__content pre {margin: 0.2em;color: black;border-radius: 0.25em;background-color: #f0f8ff;}#sk-container-id-10 input.sk-toggleable__control:checked~div.sk-toggleable__content {max-height: 200px;max-width: 100%;overflow: auto;}#sk-container-id-10 input.sk-toggleable__control:checked~label.sk-toggleable__label-arrow:before {content: \"▾\";}#sk-container-id-10 div.sk-estimator input.sk-toggleable__control:checked~label.sk-toggleable__label {background-color: #d4ebff;}#sk-container-id-10 div.sk-label input.sk-toggleable__control:checked~label.sk-toggleable__label {background-color: #d4ebff;}#sk-container-id-10 input.sk-hidden--visually {border: 0;clip: rect(1px 1px 1px 1px);clip: rect(1px, 1px, 1px, 1px);height: 1px;margin: -1px;overflow: hidden;padding: 0;position: absolute;width: 1px;}#sk-container-id-10 div.sk-estimator {font-family: monospace;background-color: #f0f8ff;border: 1px dotted black;border-radius: 0.25em;box-sizing: border-box;margin-bottom: 0.5em;}#sk-container-id-10 div.sk-estimator:hover {background-color: #d4ebff;}#sk-container-id-10 div.sk-parallel-item::after {content: \"\";width: 100%;border-bottom: 1px solid gray;flex-grow: 1;}#sk-container-id-10 div.sk-label:hover label.sk-toggleable__label {background-color: #d4ebff;}#sk-container-id-10 div.sk-serial::before {content: \"\";position: absolute;border-left: 1px solid gray;box-sizing: border-box;top: 0;bottom: 0;left: 50%;z-index: 0;}#sk-container-id-10 div.sk-serial {display: flex;flex-direction: column;align-items: center;background-color: white;padding-right: 0.2em;padding-left: 0.2em;position: relative;}#sk-container-id-10 div.sk-item {position: relative;z-index: 1;}#sk-container-id-10 div.sk-parallel {display: flex;align-items: stretch;justify-content: center;background-color: white;position: relative;}#sk-container-id-10 div.sk-item::before, #sk-container-id-10 div.sk-parallel-item::before {content: \"\";position: absolute;border-left: 1px solid gray;box-sizing: border-box;top: 0;bottom: 0;left: 50%;z-index: -1;}#sk-container-id-10 div.sk-parallel-item {display: flex;flex-direction: column;z-index: 1;position: relative;background-color: white;}#sk-container-id-10 div.sk-parallel-item:first-child::after {align-self: flex-end;width: 50%;}#sk-container-id-10 div.sk-parallel-item:last-child::after {align-self: flex-start;width: 50%;}#sk-container-id-10 div.sk-parallel-item:only-child::after {width: 0;}#sk-container-id-10 div.sk-dashed-wrapped {border: 1px dashed gray;margin: 0 0.4em 0.5em 0.4em;box-sizing: border-box;padding-bottom: 0.4em;background-color: white;}#sk-container-id-10 div.sk-label label {font-family: monospace;font-weight: bold;display: inline-block;line-height: 1.2em;}#sk-container-id-10 div.sk-label-container {text-align: center;}#sk-container-id-10 div.sk-container {/* jupyter's `normalize.less` sets `[hidden] { display: none; }` but bootstrap.min.css set `[hidden] { display: none !important; }` so we also need the `!important` here to be able to override the default hidden behavior on the sphinx rendered scikit-learn.org. See: https://github.com/scikit-learn/scikit-learn/issues/21755 */display: inline-block !important;position: relative;}#sk-container-id-10 div.sk-text-repr-fallback {display: none;}</style><div id=\"sk-container-id-10\" class=\"sk-top-container\"><div class=\"sk-text-repr-fallback\"><pre>LogisticRegression(max_iter=10000)</pre><b>In a Jupyter environment, please rerun this cell to show the HTML representation or trust the notebook. <br />On GitHub, the HTML representation is unable to render, please try loading this page with nbviewer.org.</b></div><div class=\"sk-container\" hidden><div class=\"sk-item\"><div class=\"sk-estimator sk-toggleable\"><input class=\"sk-toggleable__control sk-hidden--visually\" id=\"sk-estimator-id-10\" type=\"checkbox\" checked><label for=\"sk-estimator-id-10\" class=\"sk-toggleable__label sk-toggleable__label-arrow\">LogisticRegression</label><div class=\"sk-toggleable__content\"><pre>LogisticRegression(max_iter=10000)</pre></div></div></div></div></div>"
      ],
      "text/plain": [
       "LogisticRegression(max_iter=10000)"
      ]
     },
     "execution_count": 303,
     "metadata": {},
     "output_type": "execute_result"
    }
   ],
   "source": [
    "lr_scaled.fit(X_train_scaled, y_train)"
   ]
  },
  {
   "cell_type": "code",
   "execution_count": 304,
   "id": "0472accf",
   "metadata": {},
   "outputs": [
    {
     "name": "stderr",
     "output_type": "stream",
     "text": [
      "C:\\Users\\Admin\\anaconda3\\Lib\\site-packages\\sklearn\\base.py:464: UserWarning: X does not have valid feature names, but LogisticRegression was fitted with feature names\n",
      "  warnings.warn(\n"
     ]
    }
   ],
   "source": [
    "y_pred_scaled = lr_scaled.predict(X_test_scaled)"
   ]
  },
  {
   "cell_type": "code",
   "execution_count": 305,
   "id": "57a24f1a",
   "metadata": {},
   "outputs": [
    {
     "name": "stdout",
     "output_type": "stream",
     "text": [
      "Logistic Regression Accuracy: 0.7055\n"
     ]
    }
   ],
   "source": [
    "lr_accuracy_scaled = accuracy_score(y_test, y_pred_scaled)\n",
    "\n",
    "print(\"Logistic Regression Accuracy:\", lr_accuracy_scaled)"
   ]
  },
  {
   "cell_type": "code",
   "execution_count": 306,
   "id": "a809adb7",
   "metadata": {},
   "outputs": [
    {
     "data": {
      "text/html": [
       "<div>\n",
       "<style scoped>\n",
       "    .dataframe tbody tr th:only-of-type {\n",
       "        vertical-align: middle;\n",
       "    }\n",
       "\n",
       "    .dataframe tbody tr th {\n",
       "        vertical-align: top;\n",
       "    }\n",
       "\n",
       "    .dataframe thead th {\n",
       "        text-align: right;\n",
       "    }\n",
       "</style>\n",
       "<table border=\"1\" class=\"dataframe\">\n",
       "  <thead>\n",
       "    <tr style=\"text-align: right;\">\n",
       "      <th></th>\n",
       "      <th>NumDots</th>\n",
       "      <th>SubdomainLevel</th>\n",
       "      <th>PathLevel</th>\n",
       "      <th>UrlLength</th>\n",
       "      <th>NumDash</th>\n",
       "      <th>NumDashInHostname</th>\n",
       "      <th>AtSymbol</th>\n",
       "      <th>TildeSymbol</th>\n",
       "      <th>NumUnderscore</th>\n",
       "      <th>NumPercent</th>\n",
       "      <th>...</th>\n",
       "      <th>RandomString</th>\n",
       "      <th>HttpsInHostname</th>\n",
       "      <th>HostnameLength</th>\n",
       "      <th>PathLength</th>\n",
       "      <th>QueryLength</th>\n",
       "      <th>DoubleSlashInPath</th>\n",
       "      <th>TinyURL</th>\n",
       "      <th>iFrame</th>\n",
       "      <th>Mouse_Over</th>\n",
       "      <th>Web_Forwards</th>\n",
       "    </tr>\n",
       "  </thead>\n",
       "  <tbody>\n",
       "    <tr>\n",
       "      <th>0</th>\n",
       "      <td>0.304348</td>\n",
       "      <td>0.304348</td>\n",
       "      <td>0.136364</td>\n",
       "      <td>0.339623</td>\n",
       "      <td>0.038462</td>\n",
       "      <td>0.000000</td>\n",
       "      <td>0.0</td>\n",
       "      <td>0.000000</td>\n",
       "      <td>0.047619</td>\n",
       "      <td>0.016667</td>\n",
       "      <td>...</td>\n",
       "      <td>0.0</td>\n",
       "      <td>0.0</td>\n",
       "      <td>0.159483</td>\n",
       "      <td>0.720539</td>\n",
       "      <td>0.065389</td>\n",
       "      <td>0.0</td>\n",
       "      <td>0.0</td>\n",
       "      <td>1.0</td>\n",
       "      <td>1.0</td>\n",
       "      <td>1.0</td>\n",
       "    </tr>\n",
       "    <tr>\n",
       "      <th>1</th>\n",
       "      <td>0.086957</td>\n",
       "      <td>0.086957</td>\n",
       "      <td>0.181818</td>\n",
       "      <td>0.064373</td>\n",
       "      <td>0.115385</td>\n",
       "      <td>0.115385</td>\n",
       "      <td>0.0</td>\n",
       "      <td>0.000000</td>\n",
       "      <td>0.000000</td>\n",
       "      <td>0.000000</td>\n",
       "      <td>...</td>\n",
       "      <td>0.0</td>\n",
       "      <td>0.0</td>\n",
       "      <td>0.060345</td>\n",
       "      <td>0.161616</td>\n",
       "      <td>0.000000</td>\n",
       "      <td>0.0</td>\n",
       "      <td>0.0</td>\n",
       "      <td>1.0</td>\n",
       "      <td>1.0</td>\n",
       "      <td>1.0</td>\n",
       "    </tr>\n",
       "    <tr>\n",
       "      <th>2</th>\n",
       "      <td>0.043478</td>\n",
       "      <td>0.043478</td>\n",
       "      <td>0.045455</td>\n",
       "      <td>0.014428</td>\n",
       "      <td>0.000000</td>\n",
       "      <td>0.000000</td>\n",
       "      <td>0.0</td>\n",
       "      <td>0.000000</td>\n",
       "      <td>0.000000</td>\n",
       "      <td>0.000000</td>\n",
       "      <td>...</td>\n",
       "      <td>0.0</td>\n",
       "      <td>0.0</td>\n",
       "      <td>0.038793</td>\n",
       "      <td>0.026936</td>\n",
       "      <td>0.000000</td>\n",
       "      <td>0.0</td>\n",
       "      <td>0.0</td>\n",
       "      <td>1.0</td>\n",
       "      <td>1.0</td>\n",
       "      <td>1.0</td>\n",
       "    </tr>\n",
       "    <tr>\n",
       "      <th>3</th>\n",
       "      <td>0.086957</td>\n",
       "      <td>0.086957</td>\n",
       "      <td>0.272727</td>\n",
       "      <td>0.114317</td>\n",
       "      <td>0.000000</td>\n",
       "      <td>0.000000</td>\n",
       "      <td>0.0</td>\n",
       "      <td>0.000000</td>\n",
       "      <td>0.000000</td>\n",
       "      <td>0.100000</td>\n",
       "      <td>...</td>\n",
       "      <td>0.0</td>\n",
       "      <td>0.0</td>\n",
       "      <td>0.051724</td>\n",
       "      <td>0.319865</td>\n",
       "      <td>0.000000</td>\n",
       "      <td>0.0</td>\n",
       "      <td>0.0</td>\n",
       "      <td>1.0</td>\n",
       "      <td>1.0</td>\n",
       "      <td>1.0</td>\n",
       "    </tr>\n",
       "    <tr>\n",
       "      <th>4</th>\n",
       "      <td>0.130435</td>\n",
       "      <td>0.130435</td>\n",
       "      <td>0.045455</td>\n",
       "      <td>0.019978</td>\n",
       "      <td>0.000000</td>\n",
       "      <td>0.000000</td>\n",
       "      <td>0.0</td>\n",
       "      <td>0.000000</td>\n",
       "      <td>0.000000</td>\n",
       "      <td>0.000000</td>\n",
       "      <td>...</td>\n",
       "      <td>0.0</td>\n",
       "      <td>0.0</td>\n",
       "      <td>0.064655</td>\n",
       "      <td>0.023569</td>\n",
       "      <td>0.000000</td>\n",
       "      <td>0.0</td>\n",
       "      <td>0.0</td>\n",
       "      <td>1.0</td>\n",
       "      <td>1.0</td>\n",
       "      <td>1.0</td>\n",
       "    </tr>\n",
       "    <tr>\n",
       "      <th>...</th>\n",
       "      <td>...</td>\n",
       "      <td>...</td>\n",
       "      <td>...</td>\n",
       "      <td>...</td>\n",
       "      <td>...</td>\n",
       "      <td>...</td>\n",
       "      <td>...</td>\n",
       "      <td>...</td>\n",
       "      <td>...</td>\n",
       "      <td>...</td>\n",
       "      <td>...</td>\n",
       "      <td>...</td>\n",
       "      <td>...</td>\n",
       "      <td>...</td>\n",
       "      <td>...</td>\n",
       "      <td>...</td>\n",
       "      <td>...</td>\n",
       "      <td>...</td>\n",
       "      <td>...</td>\n",
       "      <td>...</td>\n",
       "      <td>...</td>\n",
       "    </tr>\n",
       "    <tr>\n",
       "      <th>7995</th>\n",
       "      <td>0.304348</td>\n",
       "      <td>0.304348</td>\n",
       "      <td>0.136364</td>\n",
       "      <td>0.078801</td>\n",
       "      <td>0.000000</td>\n",
       "      <td>0.000000</td>\n",
       "      <td>0.0</td>\n",
       "      <td>0.333333</td>\n",
       "      <td>0.000000</td>\n",
       "      <td>0.000000</td>\n",
       "      <td>...</td>\n",
       "      <td>0.0</td>\n",
       "      <td>0.0</td>\n",
       "      <td>0.099138</td>\n",
       "      <td>0.175084</td>\n",
       "      <td>0.000000</td>\n",
       "      <td>0.0</td>\n",
       "      <td>0.0</td>\n",
       "      <td>1.0</td>\n",
       "      <td>1.0</td>\n",
       "      <td>1.0</td>\n",
       "    </tr>\n",
       "    <tr>\n",
       "      <th>7996</th>\n",
       "      <td>0.043478</td>\n",
       "      <td>0.043478</td>\n",
       "      <td>0.136364</td>\n",
       "      <td>0.027747</td>\n",
       "      <td>0.000000</td>\n",
       "      <td>0.000000</td>\n",
       "      <td>0.0</td>\n",
       "      <td>0.000000</td>\n",
       "      <td>0.000000</td>\n",
       "      <td>0.000000</td>\n",
       "      <td>...</td>\n",
       "      <td>0.0</td>\n",
       "      <td>0.0</td>\n",
       "      <td>0.064655</td>\n",
       "      <td>0.047138</td>\n",
       "      <td>0.000000</td>\n",
       "      <td>0.0</td>\n",
       "      <td>0.0</td>\n",
       "      <td>1.0</td>\n",
       "      <td>1.0</td>\n",
       "      <td>1.0</td>\n",
       "    </tr>\n",
       "    <tr>\n",
       "      <th>7997</th>\n",
       "      <td>0.260870</td>\n",
       "      <td>0.173913</td>\n",
       "      <td>0.136364</td>\n",
       "      <td>0.114317</td>\n",
       "      <td>0.038462</td>\n",
       "      <td>0.000000</td>\n",
       "      <td>0.0</td>\n",
       "      <td>0.000000</td>\n",
       "      <td>0.000000</td>\n",
       "      <td>0.100000</td>\n",
       "      <td>...</td>\n",
       "      <td>0.0</td>\n",
       "      <td>0.0</td>\n",
       "      <td>0.099138</td>\n",
       "      <td>0.030303</td>\n",
       "      <td>0.083427</td>\n",
       "      <td>0.0</td>\n",
       "      <td>0.0</td>\n",
       "      <td>1.0</td>\n",
       "      <td>1.0</td>\n",
       "      <td>1.0</td>\n",
       "    </tr>\n",
       "    <tr>\n",
       "      <th>7998</th>\n",
       "      <td>0.086957</td>\n",
       "      <td>0.086957</td>\n",
       "      <td>0.090909</td>\n",
       "      <td>0.104329</td>\n",
       "      <td>0.000000</td>\n",
       "      <td>0.000000</td>\n",
       "      <td>0.0</td>\n",
       "      <td>0.000000</td>\n",
       "      <td>0.619048</td>\n",
       "      <td>0.000000</td>\n",
       "      <td>...</td>\n",
       "      <td>0.0</td>\n",
       "      <td>0.0</td>\n",
       "      <td>0.060345</td>\n",
       "      <td>0.282828</td>\n",
       "      <td>0.000000</td>\n",
       "      <td>0.0</td>\n",
       "      <td>0.0</td>\n",
       "      <td>1.0</td>\n",
       "      <td>1.0</td>\n",
       "      <td>1.0</td>\n",
       "    </tr>\n",
       "    <tr>\n",
       "      <th>7999</th>\n",
       "      <td>0.086957</td>\n",
       "      <td>0.086957</td>\n",
       "      <td>0.045455</td>\n",
       "      <td>0.054384</td>\n",
       "      <td>0.115385</td>\n",
       "      <td>0.115385</td>\n",
       "      <td>0.0</td>\n",
       "      <td>0.000000</td>\n",
       "      <td>0.000000</td>\n",
       "      <td>0.000000</td>\n",
       "      <td>...</td>\n",
       "      <td>0.0</td>\n",
       "      <td>0.0</td>\n",
       "      <td>0.228448</td>\n",
       "      <td>0.000000</td>\n",
       "      <td>0.000000</td>\n",
       "      <td>0.0</td>\n",
       "      <td>0.0</td>\n",
       "      <td>1.0</td>\n",
       "      <td>1.0</td>\n",
       "      <td>1.0</td>\n",
       "    </tr>\n",
       "  </tbody>\n",
       "</table>\n",
       "<p>8000 rows × 25 columns</p>\n",
       "</div>"
      ],
      "text/plain": [
       "       NumDots  SubdomainLevel  PathLevel  UrlLength   NumDash  \\\n",
       "0     0.304348        0.304348   0.136364   0.339623  0.038462   \n",
       "1     0.086957        0.086957   0.181818   0.064373  0.115385   \n",
       "2     0.043478        0.043478   0.045455   0.014428  0.000000   \n",
       "3     0.086957        0.086957   0.272727   0.114317  0.000000   \n",
       "4     0.130435        0.130435   0.045455   0.019978  0.000000   \n",
       "...        ...             ...        ...        ...       ...   \n",
       "7995  0.304348        0.304348   0.136364   0.078801  0.000000   \n",
       "7996  0.043478        0.043478   0.136364   0.027747  0.000000   \n",
       "7997  0.260870        0.173913   0.136364   0.114317  0.038462   \n",
       "7998  0.086957        0.086957   0.090909   0.104329  0.000000   \n",
       "7999  0.086957        0.086957   0.045455   0.054384  0.115385   \n",
       "\n",
       "      NumDashInHostname  AtSymbol  TildeSymbol  NumUnderscore  NumPercent  \\\n",
       "0              0.000000       0.0     0.000000       0.047619    0.016667   \n",
       "1              0.115385       0.0     0.000000       0.000000    0.000000   \n",
       "2              0.000000       0.0     0.000000       0.000000    0.000000   \n",
       "3              0.000000       0.0     0.000000       0.000000    0.100000   \n",
       "4              0.000000       0.0     0.000000       0.000000    0.000000   \n",
       "...                 ...       ...          ...            ...         ...   \n",
       "7995           0.000000       0.0     0.333333       0.000000    0.000000   \n",
       "7996           0.000000       0.0     0.000000       0.000000    0.000000   \n",
       "7997           0.000000       0.0     0.000000       0.000000    0.100000   \n",
       "7998           0.000000       0.0     0.000000       0.619048    0.000000   \n",
       "7999           0.115385       0.0     0.000000       0.000000    0.000000   \n",
       "\n",
       "      ...  RandomString  HttpsInHostname  HostnameLength  PathLength  \\\n",
       "0     ...           0.0              0.0        0.159483    0.720539   \n",
       "1     ...           0.0              0.0        0.060345    0.161616   \n",
       "2     ...           0.0              0.0        0.038793    0.026936   \n",
       "3     ...           0.0              0.0        0.051724    0.319865   \n",
       "4     ...           0.0              0.0        0.064655    0.023569   \n",
       "...   ...           ...              ...             ...         ...   \n",
       "7995  ...           0.0              0.0        0.099138    0.175084   \n",
       "7996  ...           0.0              0.0        0.064655    0.047138   \n",
       "7997  ...           0.0              0.0        0.099138    0.030303   \n",
       "7998  ...           0.0              0.0        0.060345    0.282828   \n",
       "7999  ...           0.0              0.0        0.228448    0.000000   \n",
       "\n",
       "      QueryLength  DoubleSlashInPath  TinyURL  iFrame  Mouse_Over  \\\n",
       "0        0.065389                0.0      0.0     1.0         1.0   \n",
       "1        0.000000                0.0      0.0     1.0         1.0   \n",
       "2        0.000000                0.0      0.0     1.0         1.0   \n",
       "3        0.000000                0.0      0.0     1.0         1.0   \n",
       "4        0.000000                0.0      0.0     1.0         1.0   \n",
       "...           ...                ...      ...     ...         ...   \n",
       "7995     0.000000                0.0      0.0     1.0         1.0   \n",
       "7996     0.000000                0.0      0.0     1.0         1.0   \n",
       "7997     0.083427                0.0      0.0     1.0         1.0   \n",
       "7998     0.000000                0.0      0.0     1.0         1.0   \n",
       "7999     0.000000                0.0      0.0     1.0         1.0   \n",
       "\n",
       "      Web_Forwards  \n",
       "0              1.0  \n",
       "1              1.0  \n",
       "2              1.0  \n",
       "3              1.0  \n",
       "4              1.0  \n",
       "...            ...  \n",
       "7995           1.0  \n",
       "7996           1.0  \n",
       "7997           1.0  \n",
       "7998           1.0  \n",
       "7999           1.0  \n",
       "\n",
       "[8000 rows x 25 columns]"
      ]
     },
     "execution_count": 306,
     "metadata": {},
     "output_type": "execute_result"
    }
   ],
   "source": [
    "X_train_scaled"
   ]
  },
  {
   "cell_type": "code",
   "execution_count": 307,
   "id": "6ec56ee3",
   "metadata": {},
   "outputs": [],
   "source": [
    "import pickle"
   ]
  },
  {
   "cell_type": "code",
   "execution_count": 328,
   "id": "282496f9",
   "metadata": {
    "scrolled": false
   },
   "outputs": [],
   "source": [
    "pickle.dump(featureExtraction, open('extractor.pkl', 'wb'))\n",
    "pickle.dump(lr_model, open('model.pkl', 'wb'))"
   ]
  },
  {
   "cell_type": "code",
   "execution_count": 327,
   "id": "057d4930",
   "metadata": {},
   "outputs": [],
   "source": [
    "#Function to extract features\n",
    "def Extractor(url):\n",
    "\n",
    "  features = []\n",
    "\n",
    "  \n",
    "  features.append(num_dots(url))\n",
    "  features.append(subdomain_level(url))\n",
    "  features.append(path_level(url))\n",
    "  features.append(url_length(url))\n",
    "  features.append(num_dash(url))\n",
    "  features.append(num_dash_in_hostname(url))\n",
    "  features.append(at_symbol(url))\n",
    "  features.append(tilde_symbol(url))\n",
    "  features.append(num_underscore(url))\n",
    "  features.append(num_percent(url))\n",
    "  features.append(num_query_components(url))\n",
    "  features.append(num_ampersand(url))\n",
    "  features.append(num_hash(url))\n",
    "  features.append(num_numeric_chars(url))\n",
    "  features.append(no_https(url))\n",
    "  features.append(random_string(url))\n",
    "  features.append(https_in_hostname(url))\n",
    "  features.append(hostname_length(url))\n",
    "  features.append(path_length(url))\n",
    "  features.append(query_length(url))\n",
    "  features.append(double_slash_in_path(url))\n",
    "  features.append(tinyURL(url))\n",
    "    \n",
    " # HTML & Javascript based features (4)\n",
    "  try:\n",
    "    response = requests.get(url)\n",
    "  except:\n",
    "    response = \"\"\n",
    "    \n",
    "  features.append(iframe(response))\n",
    "  features.append(mouseOver(response))\n",
    "  features.append(forwarding(response))\n",
    "  \n",
    "  return features\n"
   ]
  },
  {
   "cell_type": "code",
   "execution_count": null,
   "id": "67ff99fa",
   "metadata": {},
   "outputs": [],
   "source": []
  },
  {
   "cell_type": "code",
   "execution_count": null,
   "id": "55b78248",
   "metadata": {},
   "outputs": [],
   "source": []
  },
  {
   "cell_type": "code",
   "execution_count": null,
   "id": "27698686",
   "metadata": {},
   "outputs": [],
   "source": []
  },
  {
   "cell_type": "code",
   "execution_count": null,
   "id": "6986d27a",
   "metadata": {},
   "outputs": [],
   "source": []
  },
  {
   "cell_type": "code",
   "execution_count": null,
   "id": "75acb1a0",
   "metadata": {},
   "outputs": [],
   "source": []
  },
  {
   "cell_type": "code",
   "execution_count": null,
   "id": "450f71a4",
   "metadata": {},
   "outputs": [],
   "source": []
  },
  {
   "cell_type": "code",
   "execution_count": null,
   "id": "5cefc4ec",
   "metadata": {},
   "outputs": [],
   "source": []
  },
  {
   "cell_type": "code",
   "execution_count": null,
   "id": "47611ad6",
   "metadata": {},
   "outputs": [],
   "source": []
  }
 ],
 "metadata": {
  "kernelspec": {
   "display_name": "Python 3 (ipykernel)",
   "language": "python",
   "name": "python3"
  },
  "language_info": {
   "codemirror_mode": {
    "name": "ipython",
    "version": 3
   },
   "file_extension": ".py",
   "mimetype": "text/x-python",
   "name": "python",
   "nbconvert_exporter": "python",
   "pygments_lexer": "ipython3",
   "version": "3.11.5"
  }
 },
 "nbformat": 4,
 "nbformat_minor": 5
}
